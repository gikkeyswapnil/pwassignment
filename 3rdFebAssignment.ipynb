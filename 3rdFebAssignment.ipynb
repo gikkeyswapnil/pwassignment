{
 "cells": [
  {
   "cell_type": "markdown",
   "id": "943c06c4-3a0f-429b-94c1-6e42cc11645a",
   "metadata": {},
   "source": [
    "\n",
    "\n",
    "\n",
    "\n",
    "Q7. Write a List Comprehension to iterate through the given string: ‘pwskills’.\n",
    "Expected output: ['p', 'w', 's', 'k', 'i', 'l', 'l', 's']\n",
    "Q8. Write a python program to check whether a given number is Palindrome or not using a while loop.\n",
    "Q9. Write a code to print odd numbers from 1 to 100 using list comprehension.\n",
    "Note: Use a list comprehension to create a list from 1 to 100 and use another List comprehension to filter\n",
    "out odd numbers.\n",
    "\n",
    "Note: Create your assignment in Jupyter notebook and upload it to GitHub & share that GitHub repository\n",
    "link through your dashboard."
   ]
  },
  {
   "cell_type": "markdown",
   "id": "6ef8df57-c0a2-454b-9b67-be81358fc797",
   "metadata": {},
   "source": [
    "### Q1. Which keyword is used to create a function? Create a function to return a list of odd numbers in therange of 1 to 25.\n",
    "\n",
    "* Ans- def keyword is used to create a function along with the name of the funcion ex. \n",
    "   def function_name():pass"
   ]
  },
  {
   "cell_type": "code",
   "execution_count": 6,
   "id": "c8469731-c05f-4a15-be02-c8669c4e7279",
   "metadata": {},
   "outputs": [],
   "source": [
    "def Odd_Num():\n",
    "    Odd_List = []\n",
    "    for i in range(1,26):\n",
    "        if i % 2 !=0:\n",
    "            Odd_List.append(i)\n",
    "    return Odd_List\n",
    "               "
   ]
  },
  {
   "cell_type": "code",
   "execution_count": 7,
   "id": "d58e2fcf-ad10-4c21-8c6c-2a49e8e469a3",
   "metadata": {},
   "outputs": [
    {
     "data": {
      "text/plain": [
       "[1, 3, 5, 7, 9, 11, 13, 15, 17, 19, 21, 23, 25]"
      ]
     },
     "execution_count": 7,
     "metadata": {},
     "output_type": "execute_result"
    }
   ],
   "source": [
    "Odd_Num()"
   ]
  },
  {
   "cell_type": "markdown",
   "id": "ea17a46c-55dd-4e2c-b3b1-61ea8e715c27",
   "metadata": {},
   "source": [
    "### Q2. Why *args and **kwargs is used in some functions? Create a function each for *args and **kwargs to demonstrate their use.\n",
    "#### ans : \n",
    "     1 *args i.e non keyword argument, *args allows you to do is take in more arguments than the number of formal arguments that you previously defined. With *args, any number of extra arguments can be tacked on to your current formal parameters (including zero extra arguments). \n",
    "     2 **kwargs i.e. keyword argument , **kwargs allows you to pass keyworded variable length of arguments to a function. You should use **kwargs if you want to handle named arguments in a function."
   ]
  },
  {
   "cell_type": "code",
   "execution_count": 13,
   "id": "246775cc-3dc1-434f-a8ca-515e56868e30",
   "metadata": {},
   "outputs": [],
   "source": [
    "def Adder (*args):\n",
    "    ''' used to get 2 or more arguments at the time of function calling and returns additon of those values '''\n",
    "    sum = 0\n",
    "    for i in args:\n",
    "        sum += i\n",
    "    return sum\n"
   ]
  },
  {
   "cell_type": "code",
   "execution_count": 14,
   "id": "885c99a7-bf35-490c-a92c-cd4b84ef586f",
   "metadata": {},
   "outputs": [
    {
     "data": {
      "text/plain": [
       "55"
      ]
     },
     "execution_count": 14,
     "metadata": {},
     "output_type": "execute_result"
    }
   ],
   "source": [
    "Adder(1,2,3,4,5,6,7,8,9,10)"
   ]
  },
  {
   "cell_type": "code",
   "execution_count": 25,
   "id": "8924ce2e-aa66-4891-9a82-a0dc0063815e",
   "metadata": {},
   "outputs": [],
   "source": [
    "def Make_Sentence(**data):\n",
    "    res = []\n",
    "    for i,j in data.items():\n",
    "        print(f\"{i}: {j} \")\n",
    "    \n"
   ]
  },
  {
   "cell_type": "code",
   "execution_count": 26,
   "id": "0b3e901b-74bb-493f-b4a5-4f6a99b6063a",
   "metadata": {},
   "outputs": [
    {
     "name": "stdout",
     "output_type": "stream",
     "text": [
      "name: aniruddha kokate \n",
      "address: Maharashtra,india \n"
     ]
    }
   ],
   "source": [
    "Make_Sentence(name=\"aniruddha kokate\",address=\"Maharashtra,india\")"
   ]
  },
  {
   "cell_type": "markdown",
   "id": "5ff1504a-f49f-4f43-b0b5-6f4b01f09838",
   "metadata": {},
   "source": [
    "### Q3. What is an iterator in python? Name the method used to initialise the iterator object and the method used for iteration. Use these methods to print the first five elements of the given list [2, 4, 6, 8, 10, 12, 14,16, 18, 20].\n",
    " #### ans:\n",
    "* Iterator in Python is an object that is used to iterate over iterable objects like lists, tuples, dicts, and sets. The iterator object is initialized using the iter() method. It uses the next() method for iteration.\n",
    "* __iter__(): The iter() method is called for the initialization of an iterator. This returns an iterator object\n",
    "* __next__(): The next method returns the next value for the iterable. When we use a for loop to traverse any iterable object, internally it uses the iter() method to get an iterator object, which further uses the next() method to iterate over. This method raises a StopIteration to signal the end of the iteration."
   ]
  },
  {
   "cell_type": "code",
   "execution_count": 27,
   "id": "05d3d072-1ef9-4ffb-9fcc-c87249352fe1",
   "metadata": {},
   "outputs": [],
   "source": [
    "def Iter_Functions():\n",
    "    # define a list\n",
    "    Given_List = [2, 4, 6, 8, 10, 12, 14,16, 18, 20]\n",
    "\n",
    "    iterator = iter(Given_List)\n",
    "    print(next(iterator))  # prints 2\n",
    "    print(next(iterator))  # prints 4\n",
    "    print(next(iterator))  # prints 6\n",
    "    print(next(iterator))  # prints 8\n",
    "    print(next(iterator))  # prints 10"
   ]
  },
  {
   "cell_type": "code",
   "execution_count": 29,
   "id": "90a66026-2a71-4328-986e-a5039523e64a",
   "metadata": {},
   "outputs": [
    {
     "name": "stdout",
     "output_type": "stream",
     "text": [
      "2\n",
      "4\n",
      "6\n",
      "8\n",
      "10\n"
     ]
    }
   ],
   "source": [
    "Iter_Functions()"
   ]
  },
  {
   "cell_type": "markdown",
   "id": "971e334a-2697-4e7f-8767-881eb745fbf3",
   "metadata": {},
   "source": [
    "### Q4. What is a generator function in python? Why yield keyword is used? Give an example of a generator function.\n",
    "\n",
    "#### Ans :\n",
    "  * Generator-Function: A generator-function is defined like a normal function, but whenever it needs to generate a value, it does so with the yield keyword rather than return. If the body of a def contains yield, the function automatically becomes a generator function. "
   ]
  },
  {
   "cell_type": "code",
   "execution_count": 3,
   "id": "762d458f-a981-49b4-b845-56e049db711e",
   "metadata": {},
   "outputs": [],
   "source": [
    "def Pow_Two_Gen(max=0):\n",
    "    n = 0\n",
    "    while n < max:\n",
    "        yield 2 ** n\n",
    "        n += 1"
   ]
  },
  {
   "cell_type": "code",
   "execution_count": 5,
   "id": "7ea43c58-10fe-4eea-a799-411af55b7d22",
   "metadata": {},
   "outputs": [
    {
     "data": {
      "text/plain": [
       "[1, 2, 4, 8, 16]"
      ]
     },
     "execution_count": 5,
     "metadata": {},
     "output_type": "execute_result"
    }
   ],
   "source": [
    "list(Pow_Two_Gen(5))"
   ]
  },
  {
   "cell_type": "markdown",
   "id": "62d457c0-bf41-492d-b03d-4f250136c6da",
   "metadata": {},
   "source": [
    "### Q5. Create a generator function for prime numbers less than 1000. Use the next() method to print the first 20 prime numbers."
   ]
  },
  {
   "cell_type": "code",
   "execution_count": 12,
   "id": "ef82091c-cad7-4c0e-92cf-46c715b9f391",
   "metadata": {},
   "outputs": [],
   "source": [
    "def Generator_Prime_Num():\n",
    "    Prime_List = []\n",
    "    for i in range(1,1001):\n",
    "        if i > 21:\n",
    "            if i %2 !=0 and i%3 !=0:\n",
    "                Prime_List.append(i)\n",
    "            break   \n",
    "    return Prime_List\n",
    "                "
   ]
  },
  {
   "cell_type": "code",
   "execution_count": 13,
   "id": "298acb92-3b30-4445-ac6f-adaeb9f8ed3c",
   "metadata": {},
   "outputs": [
    {
     "data": {
      "text/plain": [
       "[]"
      ]
     },
     "execution_count": 13,
     "metadata": {},
     "output_type": "execute_result"
    }
   ],
   "source": []
  },
  {
   "cell_type": "markdown",
   "id": "85d852e1-f7fe-48e2-9a6d-bf730ff07950",
   "metadata": {},
   "source": [
    "### Q6. Write a python program to print the first 10 Fibonacci numbers using a while loop.\n"
   ]
  },
  {
   "cell_type": "code",
   "execution_count": 1,
   "id": "5c527e9c-574d-43ca-9149-a6196734b3d2",
   "metadata": {},
   "outputs": [
    {
     "name": "stdout",
     "output_type": "stream",
     "text": [
      "0\n",
      "1\n",
      "1\n",
      "2\n",
      "3\n",
      "5\n",
      "8\n",
      "13\n",
      "21\n"
     ]
    }
   ],
   "source": [
    "def fibonacci(num):\n",
    "    a,b =0,1\n",
    "    counter = 0\n",
    "    while counter < num :\n",
    "        print(a)\n",
    "        c = a+b\n",
    "        a = b\n",
    "        b = c\n",
    "        counter += 1\n",
    "    \n",
    "\n",
    "fibonacci(9)\n",
    "\n"
   ]
  }
 ],
 "metadata": {
  "kernelspec": {
   "display_name": "Python 3 (ipykernel)",
   "language": "python",
   "name": "python3"
  },
  "language_info": {
   "codemirror_mode": {
    "name": "ipython",
    "version": 3
   },
   "file_extension": ".py",
   "mimetype": "text/x-python",
   "name": "python",
   "nbconvert_exporter": "python",
   "pygments_lexer": "ipython3",
   "version": "3.10.8"
  }
 },
 "nbformat": 4,
 "nbformat_minor": 5
}
