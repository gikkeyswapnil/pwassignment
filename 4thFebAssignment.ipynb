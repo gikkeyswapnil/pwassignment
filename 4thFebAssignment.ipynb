{
 "cells": [
  {
   "cell_type": "markdown",
   "id": "81a0e615-6d1b-4962-860e-f12ad097fa54",
   "metadata": {},
   "source": [
    "### Q1. Create a python program to sort the given list of tuples based on integer value using a lambda function.[('Sachin Tendulkar', 34357), ('Ricky Ponting', 27483), ('Jack Kallis', 25534), ('Virat Kohli', 24936)]"
   ]
  },
  {
   "cell_type": "code",
   "execution_count": 16,
   "id": "fde22079-58c5-449d-9cf4-76b964217aca",
   "metadata": {},
   "outputs": [
    {
     "data": {
      "text/plain": [
       "[('Jack Kallis', 25534),\n",
       " ('Ricky Ponting', 27483),\n",
       " ('Sachin Tendulkar', 34357),\n",
       " ('Virat Kohli', 24936)]"
      ]
     },
     "execution_count": 16,
     "metadata": {},
     "output_type": "execute_result"
    }
   ],
   "source": [
    "\n",
    "def Using_Sorted():\n",
    "    List_Of_Tuple = [('Sachin Tendulkar', 34357), ('Ricky Ponting', 27483), ('Jack Kallis', 25534), ('Virat Kohli', 24936)]\n",
    "    Sorted_List = sorted(List_Of_Tuple, key=lambda x: (x[0], x[1]))\n",
    "    return Sorted_List\n",
    "\n",
    "Using_Sorted()"
   ]
  },
  {
   "cell_type": "markdown",
   "id": "e8fe357c-b269-4e42-9f4a-6b6f7c0b447d",
   "metadata": {},
   "source": [
    "### Q2. Write a Python Program to find the squares of all the numbers in the given list of integers using lambda and map functions.[1, 2, 3, 4, 5, 6, 7, 8, 9, 10]"
   ]
  },
  {
   "cell_type": "code",
   "execution_count": 19,
   "id": "b217f946-e346-434e-a096-7d24711a5791",
   "metadata": {},
   "outputs": [
    {
     "data": {
      "text/plain": [
       "[1, 4, 9, 16, 25, 36, 49, 64, 81, 100]"
      ]
     },
     "execution_count": 19,
     "metadata": {},
     "output_type": "execute_result"
    }
   ],
   "source": [
    "def Square_List():\n",
    "    List_Of_Num = [1, 2, 3, 4, 5, 6, 7, 8, 9, 10]\n",
    "    Square_List = list(map(lambda x : x**2,List_Of_Num))\n",
    "    return Square_List\n",
    "\n",
    "Square_List()"
   ]
  },
  {
   "cell_type": "markdown",
   "id": "7da51a27-b208-4347-873a-27c9a6918078",
   "metadata": {},
   "source": [
    "### Q3. Write a python program to convert the given list of integers into a tuple of strings. Use map and lambda functions Given String: [1, 2, 3, 4, 5, 6, 7, 8, 9, 10] Expected output: ('1', '2', '3', '4', '5', '6', '7', '8', '9', '10')"
   ]
  },
  {
   "cell_type": "code",
   "execution_count": 23,
   "id": "1bf0e400-f3d6-4b87-96b3-6fdc62964705",
   "metadata": {},
   "outputs": [
    {
     "data": {
      "text/plain": [
       "['1', '2', '3', '4', '5', '6', '7', '8', '9', '10']"
      ]
     },
     "execution_count": 23,
     "metadata": {},
     "output_type": "execute_result"
    }
   ],
   "source": [
    "def Convert_Int_String():\n",
    "    List_Of_Int = [1, 2, 3, 4, 5, 6, 7, 8, 9, 10] \n",
    "    List_Of_String = list(map(lambda i:str(i),List_Of_Int))\n",
    "    return List_Of_String\n",
    "\n",
    "Convert_Int_String()"
   ]
  },
  {
   "cell_type": "markdown",
   "id": "dfc789e3-c1c0-40f8-8d6a-ad1b60f40ca5",
   "metadata": {},
   "source": [
    "### Q4. Write a python program using reduce function to compute the product of a list containing numbers from 1 to 25."
   ]
  },
  {
   "cell_type": "code",
   "execution_count": 36,
   "id": "85f5c539-892f-4688-887d-a526dd777d07",
   "metadata": {},
   "outputs": [
    {
     "data": {
      "text/plain": [
       "15511210043330985984000000"
      ]
     },
     "execution_count": 36,
     "metadata": {},
     "output_type": "execute_result"
    }
   ],
   "source": [
    "def Using_Reduce_List():\n",
    "    List_Of_Num = list(range(1,26))\n",
    "    List_Of_Product = reduce(lambda x,y : x*y, List_Of_Num)\n",
    "    return List_Of_Product\n",
    "    \n",
    "Using_Reduce_List()\n",
    "    \n",
    "    "
   ]
  },
  {
   "cell_type": "markdown",
   "id": "6ba5f363-6a30-4352-94ea-678d6a4f9005",
   "metadata": {},
   "source": [
    "### Q5. Write a python program to filter the numbers in a given list that are divisible by 2 and 3 using the filter function.[2, 3, 6, 9, 27, 60, 90, 120, 55, 46]"
   ]
  },
  {
   "cell_type": "code",
   "execution_count": 39,
   "id": "954835d2-b2c6-457b-9dc6-0536065b96f5",
   "metadata": {},
   "outputs": [
    {
     "data": {
      "text/plain": [
       "[6, 60, 90, 120]"
      ]
     },
     "execution_count": 39,
     "metadata": {},
     "output_type": "execute_result"
    }
   ],
   "source": [
    "def Using_Filter():\n",
    "    List_Of_Num = [2, 3, 6, 9, 27, 60, 90, 120, 55, 46]\n",
    "    Filtered_List = list(filter(lambda x:x%2==0 and x%3==0,List_Of_Num))\n",
    "    return Filtered_List\n",
    "\n",
    "Using_Filter()"
   ]
  },
  {
   "cell_type": "markdown",
   "id": "d64e93c4-a52d-4bf0-94b4-2b80b7e852b7",
   "metadata": {},
   "source": [
    "### Q6. Write a python program to find palindromes in the given list of strings using lambda and filter function.['python', 'php', 'aba', 'radar', 'level']"
   ]
  },
  {
   "cell_type": "code",
   "execution_count": 16,
   "id": "74e8e319-06ef-4858-ac2f-48a5563687c0",
   "metadata": {},
   "outputs": [
    {
     "data": {
      "text/plain": [
       "['php', 'aba', 'radar', 'level']"
      ]
     },
     "execution_count": 16,
     "metadata": {},
     "output_type": "execute_result"
    }
   ],
   "source": [
    "def Palindrome_Fun():\n",
    "    String_List = ['python', 'php', 'aba', 'radar', 'level']\n",
    "    Palindrome_List = list(filter(lambda x : x == x[::-1],String_List))\n",
    "    # Palindrome_List = list(filter(lambda x: (x == \"\".join(reversed(x))), String_List)) \n",
    "    return Palindrome_List\n",
    "\n",
    "Palindrome_Fun()"
   ]
  },
  {
   "cell_type": "code",
   "execution_count": null,
   "id": "c331f8e4-2e14-4a7c-a0c0-73622dfd661f",
   "metadata": {},
   "outputs": [],
   "source": []
  }
 ],
 "metadata": {
  "kernelspec": {
   "display_name": "Python 3 (ipykernel)",
   "language": "python",
   "name": "python3"
  },
  "language_info": {
   "codemirror_mode": {
    "name": "ipython",
    "version": 3
   },
   "file_extension": ".py",
   "mimetype": "text/x-python",
   "name": "python",
   "nbconvert_exporter": "python",
   "pygments_lexer": "ipython3",
   "version": "3.10.8"
  }
 },
 "nbformat": 4,
 "nbformat_minor": 5
}
