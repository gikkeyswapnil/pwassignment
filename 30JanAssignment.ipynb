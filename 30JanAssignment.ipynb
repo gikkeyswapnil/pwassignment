{
 "cells": [
  {
   "cell_type": "markdown",
   "id": "d379ea1d-e8d6-4e7f-ae8e-03b963ba4fd5",
   "metadata": {},
   "source": [
    "### 1. Write a program to accept percentage from the user and display the grade according to the following criteria:   \n"
   ]
  },
  {
   "cell_type": "code",
   "execution_count": 4,
   "id": "d11eefd3-0fe1-42a4-a1c6-6146055dec98",
   "metadata": {},
   "outputs": [
    {
     "name": "stdout",
     "output_type": "stream",
     "text": [
      "Grade A \n"
     ]
    }
   ],
   "source": [
    "def Percent_To_Grade (percentage):\n",
    "    \n",
    "    if percentage > 90 :\n",
    "        print(\"Grade A \")\n",
    "    elif percentage >80 and percentage<=90:\n",
    "        print(\"Grade B\")\n",
    "    elif percentage >=60 and percentage<=80:\n",
    "        print(\"Grade C \")\n",
    "    elif percentage <60:\n",
    "        print(\"Grade D \")\n",
    "    \n",
    "Percent_To_Grade(91)"
   ]
  },
  {
   "cell_type": "markdown",
   "id": "2a9c4a9f-94d4-4e85-81df-fe2f1a6356f9",
   "metadata": {},
   "source": [
    "### 2. Write a program to accept the cost price of a bike and display the road tax to be paid according to the following criteria: "
   ]
  },
  {
   "cell_type": "code",
   "execution_count": 10,
   "id": "e2fb7802-3123-47a7-819d-85581c8f5778",
   "metadata": {},
   "outputs": [
    {
     "data": {
      "text/plain": [
       "15000.15"
      ]
     },
     "execution_count": 10,
     "metadata": {},
     "output_type": "execute_result"
    }
   ],
   "source": [
    "def Road_Tax(CP):\n",
    "    tax = 0\n",
    "    if CP > 100000:\n",
    "        tax = CP * 0.15\n",
    "    elif CP >50000 and CP<=100000:\n",
    "         tax = CP * 0.10\n",
    "    elif CP <=50000 :\n",
    "        tax = CP * 0.05\n",
    "    return tax\n",
    "\n",
    "Road_Tax(100001)"
   ]
  },
  {
   "cell_type": "markdown",
   "id": "92acc30c-2240-448c-b835-075bf58b33a1",
   "metadata": {},
   "source": [
    "### 3. Accept any city from the user and display monuments of that city. \n"
   ]
  },
  {
   "cell_type": "code",
   "execution_count": 15,
   "id": "569cdd9e-7a87-4f07-abb1-8d8ad7664b59",
   "metadata": {},
   "outputs": [
    {
     "name": "stdout",
     "output_type": "stream",
     "text": [
      "Red Fort\n"
     ]
    }
   ],
   "source": [
    "def Get_Monuments (city):\n",
    "    if city == \"Delhi\" :\n",
    "        print(\"Red Fort\")\n",
    "    elif city == \"Agra\":\n",
    "        print(\"Taj Mahal\")\n",
    "    elif city == \"Jaypur\":\n",
    "        print(\"Jal Mahal \")\n",
    "    \n",
    "Get_Monuments(\"Delhi\")"
   ]
  },
  {
   "cell_type": "markdown",
   "id": "8db0527c-6b5b-429b-af5c-66823fc47633",
   "metadata": {},
   "source": [
    "### 4. Check how many times a given number can be divided by 3 before it is less than or equal to 10. \n"
   ]
  },
  {
   "cell_type": "code",
   "execution_count": 63,
   "id": "f5f2f5b6-678a-4881-861a-400cfb633dca",
   "metadata": {},
   "outputs": [
    {
     "name": "stdin",
     "output_type": "stream",
     "text": [
      "enter number 21\n"
     ]
    },
    {
     "name": "stdout",
     "output_type": "stream",
     "text": [
      "count: 7\n"
     ]
    }
   ],
   "source": [
    "num = int(input(\"enter number\"))\n",
    "count=0\n",
    "if True:\n",
    "    if num %3==0 and num // 3 == (num/3):\n",
    "        print(\"count:\",num//3)\n",
    "    elif num <=10:\n",
    "        print(\"count:\" ,((num//3)))\n",
    "    \n",
    "    elif num // 3 == (num/3) or num>10 :\n",
    "          print(\"count:\" ,((num//3)-2))\n",
    "\n",
    "else:\n",
    "    print(\"errorr....rr\")"
   ]
  },
  {
   "cell_type": "markdown",
   "id": "574f838b-6c3b-472f-8eb7-fb0d705cdc0a",
   "metadata": {},
   "source": [
    "### 5. Why and When to Use while Loop in Python give a detailed description with example \n",
    "* A while loop evaluates the conditionIf the condition evaluates to True, the code inside the while loop is executed.condition is evaluated again.This process continues until the condition is False.When condition evaluates to False, the loop stops.\n"
   ]
  },
  {
   "cell_type": "code",
   "execution_count": 3,
   "id": "07c28875-9ea2-4aa5-ab67-d1d5ff54aef4",
   "metadata": {},
   "outputs": [
    {
     "name": "stdin",
     "output_type": "stream",
     "text": [
      "Enter a number:  5\n",
      "Enter a number:  5\n",
      "Enter a number:  5\n",
      "Enter a number:  5\n",
      "Enter a number:  5\n",
      "Enter a number:  5\n",
      "Enter a number:  0\n"
     ]
    },
    {
     "name": "stdout",
     "output_type": "stream",
     "text": [
      "Sum = 30\n"
     ]
    }
   ],
   "source": [
    "# program to calculate the sum of numbers\n",
    "# until the user enters zero\n",
    "\n",
    "total= 0\n",
    "\n",
    "num = int(input('Enter a number: '))\n",
    "\n",
    "# add numbers until number is zero\n",
    "while num != 0:\n",
    "    total += num    # total = total + num\n",
    "    \n",
    "    # take integer input again\n",
    "    num = int(input('Enter a number: '))\n",
    "    \n",
    "\n",
    "print('Sum =', total)"
   ]
  },
  {
   "cell_type": "markdown",
   "id": "264d7267-bbed-4f4e-a1f6-e1141738b974",
   "metadata": {},
   "source": [
    "# 6. Use nested while loop to print 3 different pattern. \n"
   ]
  },
  {
   "cell_type": "code",
   "execution_count": 10,
   "id": "47b17f00-2096-49cf-b6de-080250e4f6cd",
   "metadata": {},
   "outputs": [
    {
     "name": "stdout",
     "output_type": "stream",
     "text": [
      "* \n",
      "* * \n",
      "* * * \n",
      "* * * * \n",
      "* * * * * \n"
     ]
    }
   ],
   "source": [
    "def Star_Pattern():\n",
    "    i=1\n",
    "    while i <=5:\n",
    "        j=1\n",
    "        while j<=i:\n",
    "            print(\"*\",end=\" \")\n",
    "            j +=1\n",
    "        print(\"\")\n",
    "        i +=1   \n",
    "Star_Pattern()\n"
   ]
  },
  {
   "cell_type": "code",
   "execution_count": 14,
   "id": "3718ca74-e091-43ac-ae13-014cb7f35e51",
   "metadata": {},
   "outputs": [
    {
     "name": "stdout",
     "output_type": "stream",
     "text": [
      "1 \n",
      "1 2 \n",
      "1 2 3 \n",
      "1 2 3 4 \n",
      "1 2 3 4 5 \n"
     ]
    }
   ],
   "source": [
    "def Number_Pattern():\n",
    "    i=1\n",
    "    while i <=5:\n",
    "        j=1\n",
    "        while j<=i:\n",
    "            print(j,end=\" \")\n",
    "            j +=1\n",
    "        print(\"\")\n",
    "        i +=1   \n",
    "Number_Pattern()"
   ]
  },
  {
   "cell_type": "code",
   "execution_count": 34,
   "id": "3bc45ed4-cbf6-434e-ae55-9694fc3fd0a5",
   "metadata": {},
   "outputs": [
    {
     "name": "stdout",
     "output_type": "stream",
     "text": [
      "##\n",
      "# #\n",
      "#  #\n",
      "#   #\n",
      "#    #\n",
      "#     #\n",
      "#      #\n"
     ]
    }
   ],
   "source": [
    "def Hash_Pattern():\n",
    "    num_spaces_wanted = 0\n",
    "    while num_spaces_wanted < 7:\n",
    "        print('#', end='')\n",
    "        num_spaces_printed = 0\n",
    "        while num_spaces_printed < num_spaces_wanted:\n",
    "            print(' ', end='')\n",
    "            num_spaces_printed += 1\n",
    "        print('#')\n",
    "        num_spaces_wanted += 1\n",
    "        \n",
    "Hash_Pattern()"
   ]
  },
  {
   "cell_type": "markdown",
   "id": "1a44476c-956e-4a28-946e-226ae52f25ac",
   "metadata": {},
   "source": [
    "### 7. Reverse a while loop to display numbers from 10 to 1. \n"
   ]
  },
  {
   "cell_type": "code",
   "execution_count": 41,
   "id": "60078b38-c6b0-4953-97be-47a60c622914",
   "metadata": {},
   "outputs": [
    {
     "name": "stdout",
     "output_type": "stream",
     "text": [
      "10\n",
      "9\n",
      "8\n",
      "7\n",
      "6\n",
      "5\n",
      "4\n",
      "3\n",
      "2\n",
      "1\n"
     ]
    }
   ],
   "source": [
    "def Revesre_while():\n",
    "    i=10\n",
    "    while i >0:\n",
    "        print(i)\n",
    "        i =i- 1\n",
    "Revesre_while()"
   ]
  },
  {
   "cell_type": "markdown",
   "id": "6b2e56ef-d4b5-4dd2-9de9-222f845e6979",
   "metadata": {},
   "source": [
    "### 8. Reverse a while loop to display numbers from 10 to 1 "
   ]
  },
  {
   "cell_type": "code",
   "execution_count": 43,
   "id": "ed12b450-7981-4ce2-bedf-3b0c374e33ad",
   "metadata": {},
   "outputs": [
    {
     "name": "stdout",
     "output_type": "stream",
     "text": [
      "10\n",
      "9\n",
      "8\n",
      "7\n",
      "6\n",
      "5\n",
      "4\n",
      "3\n",
      "2\n",
      "1\n"
     ]
    }
   ],
   "source": [
    "def Revesre_while():\n",
    "    i=10\n",
    "    while i >0:\n",
    "        print(i)\n",
    "        i =i- 1\n",
    "Revesre_while()"
   ]
  }
 ],
 "metadata": {
  "kernelspec": {
   "display_name": "Python 3 (ipykernel)",
   "language": "python",
   "name": "python3"
  },
  "language_info": {
   "codemirror_mode": {
    "name": "ipython",
    "version": 3
   },
   "file_extension": ".py",
   "mimetype": "text/x-python",
   "name": "python",
   "nbconvert_exporter": "python",
   "pygments_lexer": "ipython3",
   "version": "3.10.8"
  }
 },
 "nbformat": 4,
 "nbformat_minor": 5
}
