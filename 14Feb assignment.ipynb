{
 "cells": [
  {
   "cell_type": "markdown",
   "id": "38f7c850-9872-48e9-a607-da4316b99f49",
   "metadata": {},
   "source": [
    "## Q 1). what is multithreading in python? why is it used? Name the module used to handle threads in python ?\n",
    "\n",
    "\n",
    "#### Ans.\n",
    "   \n",
    "   Multithreading is a programming technique that allows multiple threads to execute concurrently within a single process. In Python, multithreading is achieved using the threading module.\n",
    "\n",
    "Multithreading is used to improve the performance of an application by allowing it to perform multiple tasks simultaneously. This is particularly useful for I/O-bound tasks, such as reading or writing to disk or network communication, where the application can switch to another task while it is waiting for the I/O operation to complete. Multithreading can also be used for CPU-bound tasks, but its effectiveness may be limited due to the Global Interpreter Lock (GIL) in CPython, which prevents multiple threads from executing Python bytecode at the same time.\n",
    "\n",
    "The threading module in Python provides a simple way to create and manage threads. It provides a Thread class that can be subclassed to create new threads and provides several methods and properties to manage the lifecycle of the thread, such as start(), join(), and is_alive(). The module also provides several synchronization primitives, such as Lock, RLock, Semaphore, and Condition, to manage access to shared resources between threads.\n"
   ]
  },
  {
   "cell_type": "markdown",
   "id": "46933b20-e762-4ab8-ae7d-4a64fbe02456",
   "metadata": {},
   "source": [
    "\n",
    "\n",
    "\n",
    "## Q 2). why threading module used? write the use of the following functions\n",
    "   \n",
    "    1. activeCount\n",
    "    2. currentThread\n",
    "    3. enumerate\n",
    "\n",
    "#### Ans.\n",
    "   \n",
    "   The threading module in Python is used to create and manage threads in     a multithreaded application. It provides a simple way to create,            start, stop, and manage multiple threads, as well as to synchronize access to shared resources between threads.\n",
    "\n",
    "   Here are the uses of the following functions in the threading module:\n",
    "\n",
    "  1. activeCount(): This function returns the number of thread objects that are currently alive. It can be used to monitor the number of active            threads in an application and can be useful for debugging purposes.\n",
    "\n",
    "  2. currentThread(): This function returns a reference to the currently executing thread object. It can be used to get information about the current      thread, such as its name, ID, or other attributes.\n",
    "\n",
    "  3. enumerate(): This function returns a list of all the thread objects that are currently alive. It can be used to iterate over all the threads in        an application and can be useful for monitoring or debugging purposes. By default, the list includes the main thread, which is the thread that        starts the application. If the main thread has finished, it is not included in the list.\n",
    "\n",
    "\n",
    "\n",
    "\n"
   ]
  },
  {
   "cell_type": "markdown",
   "id": "367e0e8f-4450-4726-85e7-8d01ccad84bf",
   "metadata": {},
   "source": [
    "## Q 3). Explain the following functions\n",
    "   1. run\n",
    "   2. start\n",
    "   3. join\n",
    "   4. isAlive\n",
    "   \n",
    "   \n",
    "#### Ans. \n",
    "   In the Python threading module, the following functions are commonly      used for creating and managing threads:\n",
    "\n",
    "   1.run(): \n",
    "   This method is called when a thread is started using the           start() method. It should be overridden by a subclass to define the       code that the thread              will execute.\n",
    "\n",
    "  2.start(): \n",
    "   This method starts a thread by calling the run() method of       the thread. When this method is called, the thread is created and then     started,executing the code defined in the run() method. Note that a       thread can only be started once, and calling start() on an already         started thread will raise a RuntimeError.\n",
    "\n",
    "  3.join():\n",
    "  This method waits for the thread to complete before the           program continues. When this method is called, the program will pause     and wait for the                 thread to finish its execution. This     is useful when you want to ensure that a thread has completed its work     before moving on to the next part of               the program.\n",
    "\n",
    "  4.isAlive():\n",
    "  This method returns a Boolean value indicating whether the     thread is currently running or not. If the thread is running, the         method returns. True, otherwise it returns False. This method can be       useful for checking the status of a thread and taking appropriate         action based on its status.\n",
    "    "
   ]
  },
  {
   "cell_type": "code",
   "execution_count": null,
   "id": "69947f82-f91d-4bd7-9516-b435d2005467",
   "metadata": {},
   "outputs": [
    {
     "name": "stdout",
     "output_type": "stream",
     "text": [
      "1 squared is 1\n",
      "1 cubed is 1\n",
      "2 cubed is 8\n",
      "3 cubed is 27\n",
      "4 cubed is 64\n",
      "5 cubed is 125\n",
      "6 cubed is 216\n",
      "7 cubed is 343\n",
      "8 cubed is 512\n",
      "9 cubed is 729\n",
      "10 cubed is 1000\n",
      "2 squared is 4\n",
      "3 squared is 9\n",
      "4 squared is 16\n",
      "5 squared is 25\n",
      "6 squared is 36\n",
      "7 squared is 49\n",
      "8 squared is 64\n",
      "9 squared is 81\n",
      "10 squared is 100\n"
     ]
    }
   ],
   "source": [
    "# Q 4). write a python program to create two threads. Thread one must print the list of squares and thread\n",
    "\n",
    "#Ans.\n",
    "import threading\n",
    "\n",
    "def print_squares():\n",
    "    for i in range(1,11):\n",
    "        print(f\"{i} squared is {i**2}\")\n",
    "        time.sleep(0.5)\n",
    "def print_cubes():\n",
    "    for i in range(1,11):\n",
    "        print(f\"{i} cubed is {i**3}\")\n",
    "\n",
    "        \n",
    "# Create two threads\n",
    "thread1 = threading.Thread(target=print_squares)\n",
    "thread2 = threading.Thread(target=print_cubes)\n",
    "\n",
    "\n",
    "# Start the threads\n",
    "thread1.start()\n",
    "thread2.start()\n"
   ]
  },
  {
   "cell_type": "markdown",
   "id": "e6d47fe1-9c8f-4b37-b4fa-852db8241b2a",
   "metadata": {},
   "source": [
    "## Q 5. State advantages and disadvantages of multithreading\n",
    "#### Ans.\n",
    "   Multithreading has several advantages and disadvantages. Some of the key advantages of multithreading are:\n",
    "\n",
    "#### Advantages:\n",
    "\n",
    "  1. Improved performance: Multithreading allows a program to execute           multiple tasks simultaneously, which can improve the overall               performance of the program by utilizing the available system resources     more efficiently.\n",
    "\n",
    "  2. Responsiveness: Multithreading can make a program more responsive,          since it allows the program to continue running while a long-running      task is executing in the background.\n",
    "\n",
    "  3. Resource sharing: Multithreading can help programs to share resources     more efficiently, since multiple threads can access the same data         structures or resources at the same time.\n",
    "\n",
    "  4. Simplified programming: Multithreading can simplify the programming of     certain types of applications, such as those that involve a lot of I/O     or user interaction.\n",
    "\n",
    "  5.However, multithreading also has some disadvantages, including:\n",
    "\n",
    "#### Disadvantages:\n",
    "\n",
    "  1.Complexity: Multithreading can add complexity to a program, since it       can introduce new types of bugs and require careful synchronization of     shared resources.\n",
    "\n",
    "  2.Overhead: Multithreading can add overhead to a program, since each         thread requires its own stack space, and there is a cost associated       with context switching between threads.\n",
    "\n",
    "  3.Difficulty of debugging: Debugging multithreaded programs can be           difficult, since it can be hard to reproduce bugs and to determine         which thread is causing a particular issue.\n",
    "\n",
    "  4.Race conditions: Multithreading can introduce race conditions, which       occur when two or more threads access shared resources at the same         time, leading to unpredictable behavior."
   ]
  },
  {
   "cell_type": "markdown",
   "id": "86faad46-a3cb-41c8-b027-76fd6d365f1d",
   "metadata": {},
   "source": [
    "\n",
    "## Q6 Explain deadlocks and race conditions.\n",
    "\n",
    "#### Ans.\n",
    "Deadlocks and race conditions are two common problems that can occur in multithreaded programs.\n",
    "\n",
    "A deadlock occurs when two or more threads are blocked waiting for each other to release resources that they need to continue executing. In other words, a deadlock happens when two or more threads are stuck in a situation where none of them can proceed, and they are waiting for the other to release a resource that they need. Deadlocks can be tricky to diagnose and resolve, and they can result in programs becoming unresponsive or crashing.\n",
    "\n",
    "A race condition occurs when two or more threads access a shared resource or variable simultaneously, and the outcome depends on the order in which the threads execute. In other words, a race condition occurs when the behavior of a program depends on the relative timing of events that are not under the program's control. Race conditions can result in unpredictable behavior and data corruption, and they can be challenging to diagnose and resolve.\n",
    "\n",
    "Both deadlocks and race conditions are common problems that can occur in multithreaded programs, and they require careful management and attention to detail to avoid. Proper synchronization and locking mechanisms can help prevent these problems by ensuring that threads are accessing shared resources and variables in a controlled and coordinated way."
   ]
  },
  {
   "cell_type": "code",
   "execution_count": null,
   "id": "1d25a8ce-4b52-4d0c-bc71-3c03dfea4004",
   "metadata": {},
   "outputs": [],
   "source": []
  }
 ],
 "metadata": {
  "kernelspec": {
   "display_name": "Python 3 (ipykernel)",
   "language": "python",
   "name": "python3"
  },
  "language_info": {
   "codemirror_mode": {
    "name": "ipython",
    "version": 3
   },
   "file_extension": ".py",
   "mimetype": "text/x-python",
   "name": "python",
   "nbconvert_exporter": "python",
   "pygments_lexer": "ipython3",
   "version": "3.10.8"
  }
 },
 "nbformat": 4,
 "nbformat_minor": 5
}
