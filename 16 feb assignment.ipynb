{
 "cells": [
  {
   "cell_type": "markdown",
   "id": "a4a8a34a-ba70-4813-9ba0-632c6423da97",
   "metadata": {},
   "source": [
    "## (Q1). What is a database? Differentiate between SQL and NoSQL databases ?\n",
    "### Ans :-\n",
    "   #### Database -\n",
    "   A database is a structured collection of data that is organized and managed in a way that allows for efficient storage, retrieval, and      manipulation of information. Databases can be used to store data for various purposes, such as managing customer information, tracking      inventory, or processing transactions.\n",
    "#### Differentiate between SQL and NoSQL databases -\n",
    "  * Data structure:SQL databases store data in tables with predefined relationships, while NoSQL databases can store data in a variety of      formats.\n",
    "  * Schema:\n",
    "  SQL databases use a predefined schema to define the structure of the database, while NoSQL databases do not use a predefined schema.\n",
    "  * Scalability: \n",
    "  NoSQL databases are designed to be more scalable than SQL databases.\n",
    "  * Query language:\n",
    "  SQL databases use SQL as their primary language for managing and querying data, while NoSQL databases use a variety of languages depending   on the type of database being used.\n",
    "  \n",
    "  \n",
    "  \n",
    "  \n",
    "  "
   ]
  },
  {
   "cell_type": "markdown",
   "id": "0bb8b18f-35fd-4007-97f0-36e4999dfd0a",
   "metadata": {},
   "source": [
    "## (Q2). What is DDL? Explain why CREATE, DROP, ALTER, and TRUNCATE are used with an example ?\n",
    "### Ans :-\n",
    "  DDL stands for Data Definition Language, which is a subset of SQL (Structured Query Language) used to define and manage the structure of a   database. DDL statements are used to create, modify, and delete database objects such as tables, indexes, and views. The following are       some of the commonly used DDL statements:\n",
    "* CREATE:\n",
    " The CREATE statement is used to create a new database object, such as a table or view. For example, the following statement                   creates a table named \"employees\" with columns for employee ID, name, and department:\n",
    " #### * CREATE TABLE employees (id INT PRIMARY KEY,name VARCHAR(50),department VARCHAR(50));\n",
    "\n",
    " * DROP: \n",
    "   The DROP statement is used to delete a database object, such as a table or view. For example, the following statement drops the              \"employees\" table:\n",
    "  ### * DROP TABLE employees;\n",
    "  \n",
    "   * ALTER:\n",
    "   The ALTER statement is used to modify the structure of a database object, such as adding or removing a column from a table. For example,    the following statement adds a new column called \"salary\" to the \"employees\" table:\n",
    "   ### * ALTER TABLE employees ADD COLUMN salary INT;\n",
    "   \n",
    " * TRUNCATE:\n",
    "  The TRUNCATE statement is used to delete all data from a table without deleting the table itself. For example, the following statement       deletes all data from the \"employees\" table:\n",
    "   ### * TRUNCATE TABLE employees;\n",
    "\n",
    "\n",
    "\n"
   ]
  },
  {
   "cell_type": "markdown",
   "id": "31fa79fa-6b49-4480-a7f8-14300791a72a",
   "metadata": {},
   "source": [
    "## (Q3). What is DML? Explain INSERT, UPDATE, and DELETE with an example.\n",
    " ### Ans :-\n",
    "   DML stands for Data Manipulation Language, which is a subset of SQL (Structured Query Language) used to manipulate data in a database.      DML statements are used to insert, update, and delete data in a database. The following are some of the commonly used DML statements:\n",
    " * INSERT: \n",
    "  The INSERT statement is used to add new data to a database table. For example, the following statement adds a new row to the \"employees\"     table with values for the \"id\", \"name\", and \"department\" columns:\n",
    " ### * INSERT INTO employees (id, name, department) VALUES (1, 'John Smith', 'Sales');\n",
    " * UPDATE:\n",
    "  The UPDATE statement is used to modify existing data in a database table. For example, the following statement updates the \"department\"      column for the row with an \"id\" of 1 in the \"employees\" table:\n",
    " ### * UPDATE employees SET department = 'Marketing' WHERE id = 1;\n",
    " * DELETE: \n",
    "  The DELETE statement is used to remove data from a database table. For example, the following statement removes the row with an \"id\" of 1    from the \"employees\" table:\n",
    "### * DELETE FROM employees WHERE id = 1;"
   ]
  },
  {
   "cell_type": "markdown",
   "id": "9031ef43-97a9-49aa-bfea-964fa175549a",
   "metadata": {},
   "source": [
    "## (Q4). What is DQL? Explain SELECT with an example.\n",
    "\n",
    "### Ans :-\n",
    "   DQL stands for Data Query Language, which is a subset of SQL (Structured Query Language) used to query and retrieve data from a database.    DQL statements are used to retrieve data from a database table based on various conditions. The most commonly used DQL statement is the      SELECT statement.\n",
    "   \n",
    "   ### * SELECT column1, column2, ... FROM table_name WHERE condition;\n",
    "\n",
    "    "
   ]
  },
  {
   "cell_type": "markdown",
   "id": "79209100-82ad-4d62-9158-f2ab399a9cf5",
   "metadata": {},
   "source": [
    "## (Q5). Explain Primary Key and Foreign Key.\n",
    "\n",
    "### Ans:-\n",
    "   * Primary Key\n",
    "   A primary key is a unique identifier for a record in a database table. It is a column or a set of columns that uniquely identifies each      row in the table. A primary key constraint ensures that the value of the primary key column(s) is unique for each row in the table and      cannot be null. A table can have only one primary key. The primary key is used to identify records in the table and is often used as a      reference by other tables.\n",
    "   \n",
    "   \n",
    "  * Foreign Key\n",
    "   A foreign key is a column or a set of columns in one table that references the primary key column(s) of another table. It establishes a      relationship between two tables, where the foreign key column(s) in one table refers to the primary key column(s) of another table. The      foreign key constraint ensures that the values in the foreign key column(s) match the values in the referenced primary key column(s), or    are null. A table can have multiple foreign keys.\n"
   ]
  },
  {
   "cell_type": "code",
   "execution_count": null,
   "id": "2b3f4ef7-1ee3-49ed-8be0-e49b64465428",
   "metadata": {},
   "outputs": [],
   "source": [
    "## Q6. Write a python code to connect MySQL to python. Explain the cursor() and execute() method.\n",
    "\n",
    "# Ans :-\n",
    "\n",
    "import mysql.connector\n",
    "\n",
    "# Connect to the database\n",
    "mydb = mysql.connector.connect(\n",
    "  host=\"localhost\",\n",
    "  user=\"username\",\n",
    "  password=\"password\",\n",
    "  database=\"database_name\"\n",
    ")\n",
    "\n",
    "# Create a cursor object\n",
    "mycursor = mydb.cursor()\n",
    "\n",
    "# Execute a SQL query\n",
    "mycursor.execute(\"SELECT * FROM employees\")\n",
    "\n",
    "# Fetch the result\n",
    "result = mycursor.fetchall()\n",
    "\n",
    "# Print the result\n",
    "for row in result:\n",
    "  print(row)\n"
   ]
  },
  {
   "cell_type": "markdown",
   "id": "900d5077-5ad4-4624-8572-cda1ab882a5e",
   "metadata": {},
   "source": [
    "## (Q7). Give the order of execution of SQL clauses in an SQL query.\n",
    "### Ans:-\n",
    "\n",
    " ### * FROM:\n",
    "   The FROM clause specifies the table or tables from which to retrieve the data. It is the first clause to be executed.\n",
    "\n",
    "  ### * WHERE: \n",
    "  The WHERE clause is used to filter the rows based on a specific condition. It is executed after the FROM clause.\n",
    "\n",
    "  ### * GROUP BY: \n",
    "  The GROUP BY clause is used to group the rows based on a specific column or set of columns. It is executed after the WHERE                   clause.\n",
    "\n",
    "   ### * HAVING:\n",
    "   The HAVING clause is used to filter the groups based on a specific condition. It is executed after the GROUP BY clause.\n",
    "\n",
    "   ### * SELECT:\n",
    "   The SELECT clause is used to specify the columns to be retrieved from the table. It is executed after the FROM, WHERE, GROUP BY,            and HAVING clauses.\n",
    "\n",
    "   ### * ORDER BY: \n",
    "   The ORDER BY clause is used to sort the result set based on one or more columns. It is executed after the SELECT clause.\n",
    "\n",
    "   ### * LIMIT:\n",
    "   The LIMIT clause is used to limit the number of rows returned by the query. It is executed after the ORDER BY clause"
   ]
  }
 ],
 "metadata": {
  "kernelspec": {
   "display_name": "Python 3 (ipykernel)",
   "language": "python",
   "name": "python3"
  },
  "language_info": {
   "codemirror_mode": {
    "name": "ipython",
    "version": 3
   },
   "file_extension": ".py",
   "mimetype": "text/x-python",
   "name": "python",
   "nbconvert_exporter": "python",
   "pygments_lexer": "ipython3",
   "version": "3.10.8"
  }
 },
 "nbformat": 4,
 "nbformat_minor": 5
}
