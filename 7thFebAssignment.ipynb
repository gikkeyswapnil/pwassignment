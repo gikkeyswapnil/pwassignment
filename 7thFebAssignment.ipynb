{
 "cells": [
  {
   "cell_type": "markdown",
   "id": "3895c09f-403e-42c2-bb8d-a7bd8c12e4a2",
   "metadata": {},
   "source": [
    "### Q1. You are writing code for a company. The requirement of the company is that you create a python\n",
    "### function that will check whether the password entered by the user is correct or not. The function should\n",
    "### take the password as input and return the string “Valid Password” if the entered password follows the\n",
    "### below-given password guidelines else it should return “Invalid Password”.\n",
    "### Note: 1. The Password should contain at least two uppercase letters and at least two lowercase letters.\n",
    "### 2. The Password should contain at least a number and three special characters.\n",
    "### 3. The length of the password should be 10 characters long."
   ]
  },
  {
   "cell_type": "code",
   "execution_count": 16,
   "id": "e3115fbd-0fa5-497a-8c34-4fae687a2398",
   "metadata": {},
   "outputs": [
    {
     "name": "stdin",
     "output_type": "stream",
     "text": [
      "enter any password SSss123%*%\n"
     ]
    },
    {
     "data": {
      "text/plain": [
       "'Valid Password'"
      ]
     },
     "execution_count": 16,
     "metadata": {},
     "output_type": "execute_result"
    }
   ],
   "source": [
    "password = input(\"enter any password\")\n",
    "def Check_Password(password):\n",
    "    if len(password) != 10:\n",
    "        return \"Invalid Password\"\n",
    "\n",
    "    lower_count = 0\n",
    "    upper_count = 0\n",
    "    number_count = 0\n",
    "    special_char_count = 0\n",
    "    for i in password:\n",
    "        if i >= 'a' and i <= 'z':\n",
    "            lower_count += 1\n",
    "        elif i >= 'A' and i <= 'Z':\n",
    "            upper_count += 1\n",
    "        elif i.isdigit():\n",
    "            number_count += 1\n",
    "        elif i in '!@#$%^&*(),.?\":{}|<>':\n",
    "            special_char_count += 1\n",
    "    if lower_count >= 2 and upper_count >= 2 and number_count >= 1 and special_char_count >= 3:\n",
    "        return \"Valid Password\"\n",
    "    else:\n",
    "        return \"Invalid Password\"\n",
    "\n",
    "\n",
    "Check_Password(password)\n",
    "    \n",
    "    "
   ]
  },
  {
   "cell_type": "code",
   "execution_count": 12,
   "id": "27daaa89-95a7-4a89-af89-a8ab0d97fcfd",
   "metadata": {},
   "outputs": [
    {
     "name": "stdin",
     "output_type": "stream",
     "text": [
      "enter g\n"
     ]
    },
    {
     "name": "stdout",
     "output_type": "stream",
     "text": [
      "yes\n"
     ]
    }
   ],
   "source": [
    "password =input(\"enter\")\n",
    "for char in password:\n",
    "        if char >= 'a' and char <= 'z':\n",
    "            print(\"yes\")"
   ]
  },
  {
   "cell_type": "markdown",
   "id": "3b40a212-ed34-46fb-b1a6-bfc2e03575cb",
   "metadata": {},
   "source": [
    "### Q2. Solve the below-given questions using at least one of the following:\n",
    "### 1. Lambda functioJ\n",
    "### 2. Filter functioJ\n",
    "### 3. Map functioJ\n",
    "### 4. List Comprehension\n",
    "* Check if the string starts with a particular letter.\n",
    "* Check if the string is numeric.\n",
    "* Sort a list of tuples having fruit names and their quantity. [(\"mango\",99),(\"orange\",80), (\"grapes\", 1000)]\n",
    "* Find the squares of numbers from 1 to 10.\n",
    "* Find the cube root of numbers from 1 to 10.\n",
    "* Check if a given number is even.\n",
    "* Filter odd numbers from the given list. [1,2,3,4,5,6,7,8,9,10]\n",
    "* Sort a list of integers into positive and negative integers lists.[1,2,3,4,5,6,-1,-2,-3,-4,-5,0]"
   ]
  },
  {
   "cell_type": "code",
   "execution_count": 18,
   "id": "afee5a5e-1da2-4bfd-b800-295cb42478dd",
   "metadata": {},
   "outputs": [
    {
     "data": {
      "text/plain": [
       "False"
      ]
     },
     "execution_count": 18,
     "metadata": {},
     "output_type": "execute_result"
    }
   ],
   "source": [
    "#Check if the string starts with a particular letter.\n",
    "def Check_String_Letter(string, letter):\n",
    "    return string[0] == letter\n",
    "Check_String_Letter(\"cashbcashcbhasbcakhscb\",\"a\")"
   ]
  },
  {
   "cell_type": "code",
   "execution_count": 24,
   "id": "a22c762b-575b-4b36-805e-363957229501",
   "metadata": {},
   "outputs": [
    {
     "data": {
      "text/plain": [
       "True"
      ]
     },
     "execution_count": 24,
     "metadata": {},
     "output_type": "execute_result"
    }
   ],
   "source": [
    "#Check if the string is numeric.\n",
    "def Check_String_Is_Numeric(string):\n",
    "    if True :\n",
    "        int(string)\n",
    "        return True\n",
    "    else:\n",
    "        return False\n",
    "Check_String_Is_Numeric(\"123456\")\n",
    "\n"
   ]
  },
  {
   "cell_type": "code",
   "execution_count": 27,
   "id": "126224e1-0df9-41a5-8d1e-7a280f286647",
   "metadata": {},
   "outputs": [
    {
     "data": {
      "text/plain": [
       "[('orange', 80), ('mango', 99), ('grapes', 1000)]"
      ]
     },
     "execution_count": 27,
     "metadata": {},
     "output_type": "execute_result"
    }
   ],
   "source": [
    "#Sort a list of tuples having fruit names and their quantity. [(\"mango\",99),(\"orange\",80), (\"grapes\", 1000)] \n",
    "#((using lambda function))\n",
    "fruits_list = [(\"mango\",99),(\"orange\",80), (\"grapes\", 1000)]\n",
    "sorted_fruits_list = sorted(fruits_list, key=lambda x: x[1])  \n",
    "sorted_fruits_list\n"
   ]
  },
  {
   "cell_type": "code",
   "execution_count": 30,
   "id": "fc3013e7-a52c-40c1-ab29-eb8f62da49b4",
   "metadata": {},
   "outputs": [
    {
     "data": {
      "text/plain": [
       "[1, 4, 9, 16, 25, 36, 49, 64, 81, 100]"
      ]
     },
     "execution_count": 30,
     "metadata": {},
     "output_type": "execute_result"
    }
   ],
   "source": [
    "# Find the squares of numbers from 1 to 10.  (using map function)\n",
    "num_list =list(range(1,11))\n",
    "square_num_list = list(map(lambda x:x**2,num_list))\n",
    "square_num_list"
   ]
  },
  {
   "cell_type": "code",
   "execution_count": 32,
   "id": "6fc16726-1251-4bae-ab46-19df31996419",
   "metadata": {},
   "outputs": [
    {
     "data": {
      "text/plain": [
       "[1.0,\n",
       " 1.2599210498948732,\n",
       " 1.4422495703074083,\n",
       " 1.5874010519681994,\n",
       " 1.7099759466766968,\n",
       " 1.8171205928321397,\n",
       " 1.912931182772389,\n",
       " 2.0,\n",
       " 2.080083823051904,\n",
       " 2.154434690031884]"
      ]
     },
     "execution_count": 32,
     "metadata": {},
     "output_type": "execute_result"
    }
   ],
   "source": [
    "# Find the cube root of numbers from 1 to 10. (using List compreihension)\n",
    "cube_root_num_list = [i**(1/3)for i in range(1,11)]\n",
    "cube_root_num_list"
   ]
  },
  {
   "cell_type": "code",
   "execution_count": 39,
   "id": "f288c8ef-e8fa-4840-9bc4-b45727687609",
   "metadata": {},
   "outputs": [
    {
     "data": {
      "text/plain": [
       "True"
      ]
     },
     "execution_count": 39,
     "metadata": {},
     "output_type": "execute_result"
    }
   ],
   "source": [
    "# Check if a given number is even.\n",
    "def is_even(number):\n",
    "    return number % 2 == 0\n",
    "\n",
    "is_even(10)"
   ]
  },
  {
   "cell_type": "code",
   "execution_count": 42,
   "id": "a7e24b6e-9098-4d8b-8c38-94ba1e181d5e",
   "metadata": {},
   "outputs": [
    {
     "data": {
      "text/plain": [
       "[1, 3, 5, 7, 9]"
      ]
     },
     "execution_count": 42,
     "metadata": {},
     "output_type": "execute_result"
    }
   ],
   "source": [
    "# Filter odd numbers from the given list. [1,2,3,4,5,6,7,8,9,10]\n",
    "given_list =  [1,2,3,4,5,6,7,8,9,10]\n",
    "filtered_odd_num_list = list(filter(lambda x : x%2!=0,given_list))\n",
    "filtered_odd_num_list"
   ]
  },
  {
   "cell_type": "code",
   "execution_count": 44,
   "id": "0ab80739-023e-4ad8-9a76-ec62724cdaff",
   "metadata": {},
   "outputs": [
    {
     "name": "stdout",
     "output_type": "stream",
     "text": [
      "[1, 2, 3, 4, 5, 6, 0]\n",
      "[-1, -2, -3, -4, -5]\n"
     ]
    }
   ],
   "source": [
    "#Sort a list of integers into positive and negative integers lists.[1,2,3,4,5,6,-1,-2,-3,-4,-5,0]\n",
    "unsorted_list = [1,2,3,4,5,6,-1,-2,-3,-4,-5,0]\n",
    "positive_sorted_list = list(filter(lambda x : x>=0,unsorted_list))\n",
    "negative_sorted_list = list(filter(lambda x : x<0,unsorted_list))\n",
    "print(positive_sorted_list)\n",
    "print(negative_sorted_list)"
   ]
  }
 ],
 "metadata": {
  "kernelspec": {
   "display_name": "Python 3 (ipykernel)",
   "language": "python",
   "name": "python3"
  },
  "language_info": {
   "codemirror_mode": {
    "name": "ipython",
    "version": 3
   },
   "file_extension": ".py",
   "mimetype": "text/x-python",
   "name": "python",
   "nbconvert_exporter": "python",
   "pygments_lexer": "ipython3",
   "version": "3.10.8"
  }
 },
 "nbformat": 4,
 "nbformat_minor": 5
}
