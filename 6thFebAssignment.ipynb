{
 "cells": [
  {
   "cell_type": "markdown",
   "id": "40c9c7ee-a39f-487f-82cb-1630ad597bc7",
   "metadata": {},
   "source": [
    "### Q1. Create a function which will take a list as an argument and return the product of all the numbers\n",
    "after creating a flat list.\n",
    "Use the below-given list as an argument for your function.\n",
    "list1 = [1,2,3,4, [44,55,66, True], False, (34,56,78,89,34), {1,2,3,3,2,1}, {1:34, \"key2\": [55, 67, 78, 89], 4: (45,\n",
    "22, 61, 34)}, [56, 'data science'], 'Machine Learning']\n",
    "Note: you must extract numeric keys and values of the dictionary also."
   ]
  },
  {
   "cell_type": "code",
   "execution_count": 3,
   "id": "0a19261c-d3fa-4081-b420-742acc5bd593",
   "metadata": {},
   "outputs": [],
   "source": [
    "list1 = [1,2,3,4, [44,55,66, True], False, (34,56,78,89,34), {1,2,3,3,2,1}, {1:34, \"key2\": [55, 67, 78, 89], 4: (45,22, 61, 34)}, [56, 'data science'], 'Machine Learning']"
   ]
  },
  {
   "cell_type": "code",
   "execution_count": 4,
   "id": "529a96ad-7f3b-4445-a343-9b5c40c09ec0",
   "metadata": {},
   "outputs": [],
   "source": [
    "def Get_Product_List(given_list):\n",
    "    numeric_list = []\n",
    "    for i in given_list:\n",
    "        if type(i) in [int, float]:     # for numeric values of numeric_list \n",
    "            numeric_list.append(i)\n",
    "        elif type(i) in [list, tuple, set]:   # for values present in nested list,tuple,set \n",
    "            for j in i:\n",
    "                if type(j) in [int, float]:\n",
    "                    numeric_list.append(j)\n",
    "        elif type(i) == dict:                 # for values and keys of dict present in numeric_list\n",
    "            for key, value in i.items():\n",
    "                if type(key) in [int, float]:\n",
    "                    numeric_list.append(key)\n",
    "                if type(value) in [int, float]:\n",
    "                    numeric_list.append(value)\n",
    "                    \n",
    "    product = 1                       # this block is for multiplication of all the numeric values that are appended in numeric_list\n",
    "    for i in numeric_list:\n",
    "        product *= i\n",
    "    return print(f\"product Of all the numeric values of given list is : {product}\")\n"
   ]
  },
  {
   "cell_type": "code",
   "execution_count": 5,
   "id": "1f63a8d3-5144-4cae-b1b6-4c58a8b69cb6",
   "metadata": {},
   "outputs": [
    {
     "name": "stdout",
     "output_type": "stream",
     "text": [
      "product Of all the numeric values of given list is : 78718933113238978560\n"
     ]
    }
   ],
   "source": [
    "Get_Product_List(list1)"
   ]
  },
  {
   "cell_type": "markdown",
   "id": "7d4e7ca1-1bf9-42bd-a85d-386bb4bdb777",
   "metadata": {},
   "source": [
    "### Q2. Write a python program for encrypting a message sent to you by your friend. The logic of encryption\n",
    "###     should be such that, for a the output should be z. For b, the output should be y. For c, the output should\n",
    "###     be x respectively. Also, the whitespace should be replaced with a dollar sign. Keep the punctuation\n",
    "###     marks unchanged.\n",
    "###     Input Sentence: I want to become a Data Scientist.\n",
    "###     Encrypt the above input sentence using the program you just created.\n",
    "###     Note: Convert the given input sentence into lowercase before encrypting. The final output should be\n",
    "###     lowercase."
   ]
  },
  {
   "cell_type": "code",
   "execution_count": 24,
   "id": "4590d2af-d5a4-4936-b427-1d748fc2e03c",
   "metadata": {},
   "outputs": [
    {
     "name": "stdout",
     "output_type": "stream",
     "text": [
      "Encrypted Sentence: r$dzmg$gl$yvxlnv$z$wzgz$hxrvmgrhg.\n"
     ]
    }
   ],
   "source": [
    "def Encrypt_Message():\n",
    "    input_sentence = \"I want to become a Data Scientist.\"\n",
    "    input_sentence = input_sentence.lower() # Convert to lowercase\n",
    "    output_sentence = \"\"\n",
    "    alphabet = \"abcdefghijklmnopqrstuvwxyz\"\n",
    "    for i in input_sentence:\n",
    "        if i == \" \":\n",
    "            output_sentence += \"$\"\n",
    "        elif i in alphabet:\n",
    "            output_sentence += alphabet[25 - alphabet.index(i)]\n",
    "        else:\n",
    "            output_sentence += i\n",
    "    return print(\"Encrypted Sentence:\", output_sentence)\n",
    "\n",
    "\n",
    "\n",
    "Encrypt_Message()\n",
    "\n"
   ]
  },
  {
   "cell_type": "code",
   "execution_count": null,
   "id": "6d559de7-6e26-48df-930c-7710577f669d",
   "metadata": {},
   "outputs": [],
   "source": []
  }
 ],
 "metadata": {
  "kernelspec": {
   "display_name": "Python 3 (ipykernel)",
   "language": "python",
   "name": "python3"
  },
  "language_info": {
   "codemirror_mode": {
    "name": "ipython",
    "version": 3
   },
   "file_extension": ".py",
   "mimetype": "text/x-python",
   "name": "python",
   "nbconvert_exporter": "python",
   "pygments_lexer": "ipython3",
   "version": "3.10.8"
  }
 },
 "nbformat": 4,
 "nbformat_minor": 5
}
