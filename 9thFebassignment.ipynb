{
 "cells": [
  {
   "cell_type": "markdown",
   "id": "6b04c26e-cff8-450b-b0ab-5e04f26be482",
   "metadata": {},
   "source": [
    "### Q1, Create a vehicle class with an init method having instance variables as name_of_vehicle, max_speed and average_of_vehicle.\n"
   ]
  },
  {
   "cell_type": "code",
   "execution_count": 10,
   "id": "96971ba5-f0cc-4fa7-a18f-0f8b107da5e7",
   "metadata": {},
   "outputs": [
    {
     "name": "stdout",
     "output_type": "stream",
     "text": [
      "bike\n",
      "120\n",
      "55\n"
     ]
    }
   ],
   "source": [
    "class Vehicle :\n",
    "    def __init__(self,name_of_vehicle,max_speed,average_of_vehicle):\n",
    "        self.name_of_vehicle = name_of_vehicle\n",
    "        self.max_speed = max_speed\n",
    "        self.average_of_vehicle = average_of_vehicle\n",
    "\n",
    "# object_vehicle = Vehicle(\"bike\",120,55)\n",
    "# print(object_vehicle.name_of_vehicle)\n",
    "# print(object_vehicle.max_speed)\n",
    "# print(object_vehicle.average_of_vehicle)\n"
   ]
  },
  {
   "cell_type": "markdown",
   "id": "e33c5136-2093-4c54-b16a-44479a411bb4",
   "metadata": {},
   "source": [
    "### Q2. Create a child class car from the vehicle class created in Que 1, which will inherit the vehicle class.Create a method named seating_capacity which takes capacity as an argument and returns the name of the vehicle and its seating capacity."
   ]
  },
  {
   "cell_type": "code",
   "execution_count": 20,
   "id": "de54e532-e59d-47d9-8d7f-ac5be1aa6fe1",
   "metadata": {},
   "outputs": [
    {
     "name": "stdout",
     "output_type": "stream",
     "text": [
      "vehicle is car,type : muv and its capacity is : 10\n"
     ]
    }
   ],
   "source": [
    "class Car(Vehicle):\n",
    "    def Seating_Capacity(self,capacity):\n",
    "        if self.name_of_vehicle == \"suv\" or self.name_of_vehicle == \"SUV\":\n",
    "            return  print(f\"vehicle is car ,type : {self.name_of_vehicle} and its capacity is : {capacity}\")\n",
    "        elif self.name_of_vehicle == \"sedan\" or self.name_of_vehicle == \"SEDAN\":\n",
    "            return  print(f\"vehicle is car ,type : {self.name_of_vehicle} and its capacity is : {capacity}\")   \n",
    "        elif self.name_of_vehicle == \"muv\" or self.name_of_vehicle == \"MUV\":\n",
    "            return  print(f\"vehicle is car,type : {self.name_of_vehicle} and its capacity is : {capacity}\")\n",
    "            \n",
    "obj_car = Car(\"muv\",220,15)\n",
    "# print(obj_car.name_of_vehicle)\n",
    "# print(obj_car.max_speed)\n",
    "# print(obj_car.average_of_vehicle)\n",
    "obj_car.Seating_Capacity(10)"
   ]
  },
  {
   "cell_type": "markdown",
   "id": "fbf26fb5-7927-465c-b3ea-34abbfc852a0",
   "metadata": {},
   "source": [
    "### Q3. What is multiple inheritance? Write a python code to demonstrate multiple inheritance.\n",
    "#### Ans :\n",
    "* Multiple Inheritance: When a class can be derived from more than one base class this type of inheritance is called multiple inheritances. In multiple inheritances, all the features of the base classes are inherited into the derived class."
   ]
  },
  {
   "cell_type": "code",
   "execution_count": 21,
   "id": "7e77bbc3-479b-456b-80c9-8df9f9f124da",
   "metadata": {},
   "outputs": [
    {
     "name": "stdout",
     "output_type": "stream",
     "text": [
      "Avenger name is : Captain America\n",
      "Real name is : Chris Evans\n",
      "Captain America Chris Evans\n"
     ]
    }
   ],
   "source": [
    "#  Multiple Inheritance: \n",
    "class Charecter_Name:\n",
    "    def Get_Avenger_Name(self,a_name):\n",
    "        return print(f\"Avenger name is : {a_name}\")\n",
    "    \n",
    "\n",
    "class Real_Name:\n",
    "    def Get_Real_Name(self,r_name):\n",
    "        return print(f\"Real name is : {r_name}\")\n",
    "\n",
    "\n",
    "class Avenger_Cast(Charecter_Name,Real_Name):  # proerties of both classes are now accessible for Avenger_cast class\n",
    "      def Get_Cast_Name(self,a_name,r_name):\n",
    "            return print(a_name , r_name)\n",
    "            \n",
    "            \n",
    "marvel = Avenger_Cast()\n",
    "marvel.Get_Avenger_Name(\"Captain America\")\n",
    "marvel.Get_Real_Name(\"Chris Evans\")\n",
    "\n",
    "marvel.Get_Cast_Name(\"Captain America\",\"Chris Evans\")"
   ]
  },
  {
   "cell_type": "markdown",
   "id": "88bb6bfc-e62d-4bba-b4b9-6e630412abdc",
   "metadata": {},
   "source": [
    "### Q4. What are getter and setter in python? Create a class and create a getter and a setter method in this class.\n",
    "#### Ans : \n",
    "  * In Python, getters and setters are methods that allow you to retrieve and modify the values of an object's attributes. Getters are used to retrieve the values of an object's attributes, while setters are used to modify those values.The use of getters and setters is a way to encapsulate the internal representation of an object's attributes, and to control how they are accessed and modified. This can be useful in many situations, such as when you want to enforce certain rules or constraints on the values of an object's attributes, or when you want to add some additional behavior whenever an attribute is accessed or modified."
   ]
  },
  {
   "cell_type": "code",
   "execution_count": 23,
   "id": "b352a7bd-e380-4ca8-8107-3ef80863fd68",
   "metadata": {},
   "outputs": [],
   "source": [
    "class Person:\n",
    "    def __init__(self, name, age):\n",
    "        self.__name = name\n",
    "        self.__age = age\n",
    "\n",
    "    def get_name(self):\n",
    "        return self.__name\n",
    "\n",
    "    def set_name(self, name):\n",
    "        self.__name = name\n",
    "\n",
    "    def get_age(self):\n",
    "        return self.__age\n",
    "\n",
    "    def set_age(self, age):\n",
    "        if age < 0:\n",
    "            raise ValueError(\"Age cannot be negative\")\n",
    "        self.__age = age\n"
   ]
  },
  {
   "cell_type": "code",
   "execution_count": 25,
   "id": "8d9a5e3b-ccc5-4b2f-a721-fb7397c659bf",
   "metadata": {},
   "outputs": [
    {
     "name": "stdout",
     "output_type": "stream",
     "text": [
      "Aniruddha Kokate\n",
      "27\n",
      "captain Jack Sparrow\n",
      "45\n"
     ]
    }
   ],
   "source": [
    "p = Person(\"Aniruddha Kokate\", 27)\n",
    "print(p.get_name())  # Prints \"Aniruddha Kokate',\"\n",
    "print(p.get_age())  # Prints 27\n",
    "\n",
    "p.set_name(\"captain Jack Sparrow\")\n",
    "p.set_age(45)\n",
    "\n",
    "print(p.get_name())  # Prints \"captain Jack Sparrow\"\n",
    "print(p.get_age())  # Prints 45"
   ]
  },
  {
   "cell_type": "markdown",
   "id": "87528e7f-7d4a-46d9-8fb6-3af26a0cc687",
   "metadata": {},
   "source": []
  },
  {
   "cell_type": "markdown",
   "id": "b5e7cf70-fa48-4720-8940-155f53d589cd",
   "metadata": {},
   "source": [
    "### Q5.What is method overriding in python? Write a python code to demonstrate method overriding.\n",
    "#### ans: \n",
    "* Method overriding is a feature in object-oriented programming (OOP) where a subclass can provide a different implementation for a method that is already defined in its superclass. The purpose of method overriding is to allow the subclass to extend or modify the behavior of the method inherited from the superclass, while still maintaining the same method signature."
   ]
  },
  {
   "cell_type": "code",
   "execution_count": 27,
   "id": "c582be58-8df5-49fd-967a-6cf2f38c2879",
   "metadata": {},
   "outputs": [
    {
     "name": "stdout",
     "output_type": "stream",
     "text": [
      "The dog barks\n"
     ]
    }
   ],
   "source": [
    "class Animal:\n",
    "    def make_sound(self):                  \n",
    "        print(\"The animal makes a sound\")\n",
    "\n",
    "class Dog(Animal):\n",
    "    def make_sound(self):             # same function with updated code i.e. function or method overriding\n",
    "        print(\"The dog barks\")\n",
    "\n",
    "dog = Dog()\n",
    "dog.make_sound()\n"
   ]
  }
 ],
 "metadata": {
  "kernelspec": {
   "display_name": "Python 3 (ipykernel)",
   "language": "python",
   "name": "python3"
  },
  "language_info": {
   "codemirror_mode": {
    "name": "ipython",
    "version": 3
   },
   "file_extension": ".py",
   "mimetype": "text/x-python",
   "name": "python",
   "nbconvert_exporter": "python",
   "pygments_lexer": "ipython3",
   "version": "3.10.8"
  }
 },
 "nbformat": 4,
 "nbformat_minor": 5
}
