{
 "cells": [
  {
   "cell_type": "markdown",
   "id": "0f123a02-6cc9-4e7f-9879-905bb9ab3724",
   "metadata": {
    "jp-MarkdownHeadingCollapsed": true,
    "tags": []
   },
   "source": [
    "## Consider the below code to answer further questions:\n",
    "## import numpy as np\n",
    "## list_ = [ ‘1’ , ’2’ , ‘3’ , ‘4’ , ‘5’ ]\n",
    "## array_list = np.array(object = list_)\n",
    "\n",
    "\n",
    "\n"
   ]
  },
  {
   "cell_type": "markdown",
   "id": "8195de1c-5704-412e-9144-dbcd2821fad1",
   "metadata": {},
   "source": [
    "## Q1. Is there any difference in the data type of variables list_ and array_list? If there is then write a code to print the data types of both the variables\n",
    "### Ans:\n",
    "#### variables list_ i.e. (list_) is a normal python list & it is a type of \"class \"int\"\" and array_list i.e. (array_list) is a numpy array & it is a type of \"class numpy.ndarray\""
   ]
  },
  {
   "cell_type": "code",
   "execution_count": 3,
   "id": "ca833d0a-9c5c-4819-a35c-3b6cf1496050",
   "metadata": {},
   "outputs": [
    {
     "data": {
      "text/plain": [
       "['1', '2', '3', '4', '5']"
      ]
     },
     "execution_count": 3,
     "metadata": {},
     "output_type": "execute_result"
    }
   ],
   "source": [
    "import numpy as np\n",
    "list_ = [\"1\",\"2\",\"3\",\"4\",\"5\" ]\n",
    "array_list = np.array(object = list_)\n",
    "list_"
   ]
  },
  {
   "cell_type": "code",
   "execution_count": 4,
   "id": "be1bafb6-f24e-47f5-9385-ce8b4f4796f8",
   "metadata": {},
   "outputs": [
    {
     "data": {
      "text/plain": [
       "array(['1', '2', '3', '4', '5'], dtype='<U1')"
      ]
     },
     "execution_count": 4,
     "metadata": {},
     "output_type": "execute_result"
    }
   ],
   "source": [
    "array_list"
   ]
  },
  {
   "cell_type": "markdown",
   "id": "7b3f68dc-25ea-4cdb-a172-fe4d422031dc",
   "metadata": {},
   "source": []
  },
  {
   "cell_type": "code",
   "execution_count": null,
   "id": "5d80d71f-f52a-445e-824c-622e1abb12e4",
   "metadata": {},
   "outputs": [],
   "source": []
  },
  {
   "cell_type": "markdown",
   "id": "43e639f9-c258-460d-96fe-be9f2e10c68a",
   "metadata": {},
   "source": [
    "## Q2. Write a code to print the data type of each and every element of both the variables list_ and arra_list\n",
    "### Ans:"
   ]
  },
  {
   "cell_type": "code",
   "execution_count": 8,
   "id": "f90dbcc3-3e46-4b07-b080-26f81a59be89",
   "metadata": {},
   "outputs": [
    {
     "name": "stdout",
     "output_type": "stream",
     "text": [
      "Type of Each elements of list_ : [<class 'str'>, <class 'str'>, <class 'str'>, <class 'str'>, <class 'str'>]\n",
      "Type of Each elements of array_list : [<class 'numpy.str_'>, <class 'numpy.str_'>, <class 'numpy.str_'>, <class 'numpy.str_'>, <class 'numpy.str_'>]\n"
     ]
    }
   ],
   "source": [
    "import numpy as np\n",
    "list_ = [\"1\",\"2\",\"3\",\"4\",\"5\" ]\n",
    "array_list = np.array(object = list_)\n",
    "tp_list =[type(i) for i in list_]\n",
    "tp_array_list =[type(i) for i in array_list]\n",
    "print(f\"Type of Each elements of list_ : {tp_list}\")\n",
    "print(f\"Type of Each elements of array_list : {tp_array_list}\")"
   ]
  },
  {
   "cell_type": "markdown",
   "id": "3918c551-d943-4c01-836d-d326067a64d0",
   "metadata": {},
   "source": []
  },
  {
   "cell_type": "markdown",
   "id": "571d75e0-7e18-4eaa-a523-fc31aa113475",
   "metadata": {},
   "source": [
    "## Q3. Considering the following changes in the variable, array_list:array_list = np.array(object = list_, dtype = int)Will there be any difference in the data type of the elements present in both the variables, list_ andarra_list? If so then print the data types of each and every element present in both the variables, list_ and arra_list.\n",
    "### Ans:\n",
    "#### variables list_ i.e. (list_) is a normal python list & it is a type of \"class \"int\"\" and array_list i.e. (array_list) is a numpy array & it is a type of \"class numpy.ndarray\" .\n",
    "#### all the elements in the list_ are strings and all the elements of array_list will changes ino \"int\" after changing dtype=int\n"
   ]
  },
  {
   "cell_type": "code",
   "execution_count": 12,
   "id": "6cc3b6a8-e241-4246-8a9f-655c6abedbf0",
   "metadata": {},
   "outputs": [
    {
     "name": "stdout",
     "output_type": "stream",
     "text": [
      "Type of Each elements of list_ : [<class 'str'>, <class 'str'>, <class 'str'>, <class 'str'>, <class 'str'>]\n",
      "Type of Each elements of array_list : [<class 'numpy.int64'>, <class 'numpy.int64'>, <class 'numpy.int64'>, <class 'numpy.int64'>, <class 'numpy.int64'>]\n"
     ]
    }
   ],
   "source": [
    "import numpy as np\n",
    "list_ = [\"1\",\"2\",\"3\",\"4\",\"5\" ]\n",
    "array_list = np.array(object = list_, dtype = int)\n",
    "tp_list_1 =[type(i) for i in list_]\n",
    "tp_array_list_1 =[type(i) for i in array_list]\n",
    "print(f\"Type of Each elements of list_ : {tp_list_1}\")\n",
    "print(f\"Type of Each elements of array_list : {tp_array_list_1}\")"
   ]
  },
  {
   "cell_type": "markdown",
   "id": "ab38940e-9fa7-49f0-b4d2-b1668962e6ad",
   "metadata": {},
   "source": []
  },
  {
   "cell_type": "markdown",
   "id": "7901af1d-4565-464c-8b63-4a55e1ea689d",
   "metadata": {},
   "source": []
  },
  {
   "cell_type": "markdown",
   "id": "e504f29b-35e2-4278-9532-457d4c45e97b",
   "metadata": {},
   "source": [
    "## Consider the below code to answer further questions:\n",
    "## import numpy as np\n",
    "## num_list = [ [ 1 , 2 , 3 ] , [ 4 , 5 , 6 ] ]\n",
    "## num_array = np.array(object = num_list)"
   ]
  },
  {
   "cell_type": "markdown",
   "id": "5a096644-390b-450b-b67b-81582b5eebe9",
   "metadata": {},
   "source": [
    "\n"
   ]
  },
  {
   "cell_type": "markdown",
   "id": "9394c599-ae74-4540-8c07-cd0c380cba88",
   "metadata": {},
   "source": [
    "## Q4. Write a code to find the following characteristics of variable, num_array:                                                                   (i) shape (ii) size\n",
    "## Ans: num_array.shape will gives number of rows and columns present and num_array.size will give the total elements present in th array"
   ]
  },
  {
   "cell_type": "code",
   "execution_count": 15,
   "id": "e07ef82e-8367-49b4-8bd7-2b3b90bf2d79",
   "metadata": {},
   "outputs": [
    {
     "data": {
      "text/plain": [
       "(2, 3)"
      ]
     },
     "execution_count": 15,
     "metadata": {},
     "output_type": "execute_result"
    }
   ],
   "source": [
    "import numpy as np\n",
    "num_list = [ [ 1 , 2 , 3 ] , [ 4 , 5 , 6 ] ]\n",
    "num_array = np.array(object = num_list)\n",
    "num_array.shape"
   ]
  },
  {
   "cell_type": "code",
   "execution_count": 16,
   "id": "6da690f6-1bbd-4969-96c5-fcf19bd67bca",
   "metadata": {},
   "outputs": [
    {
     "data": {
      "text/plain": [
       "6"
      ]
     },
     "execution_count": 16,
     "metadata": {},
     "output_type": "execute_result"
    }
   ],
   "source": [
    "num_array.size"
   ]
  },
  {
   "cell_type": "markdown",
   "id": "6cac32b2-ba3f-4c8f-b86e-3ad5d4415ed8",
   "metadata": {},
   "source": []
  },
  {
   "cell_type": "markdown",
   "id": "918daad6-a820-4cdd-96cc-62a213e7126e",
   "metadata": {},
   "source": [
    "## Q5. Write a code to create numpy array of 3*3 matrix containing zeros only, using a numpy array creation function.\n",
    "## [Hint: The size of the array will be 9 and the shape will be (3,3).]\n",
    "### Ans:\n"
   ]
  },
  {
   "cell_type": "code",
   "execution_count": 19,
   "id": "34694145-02d6-4428-abfe-d306ec92ae94",
   "metadata": {},
   "outputs": [
    {
     "data": {
      "text/plain": [
       "array([[0., 0., 0.],\n",
       "       [0., 0., 0.],\n",
       "       [0., 0., 0.]])"
      ]
     },
     "execution_count": 19,
     "metadata": {},
     "output_type": "execute_result"
    }
   ],
   "source": [
    "import numpy as np\n",
    "zero_matrix = np.zeros((3,3))\n",
    "zero_matrix"
   ]
  },
  {
   "cell_type": "markdown",
   "id": "9ee8daed-968b-49c6-a838-f377a08ccfaa",
   "metadata": {},
   "source": []
  },
  {
   "cell_type": "markdown",
   "id": "d5645922-f3d1-48c7-a2e9-92b16d3876f6",
   "metadata": {},
   "source": [
    "## Q6. Create an identity matrix of shape (5,5) using numpy functions? [Hint: An identity matrix is a matrix containing 1 diagonally and other elements will be 0.]\n",
    "### Ans: "
   ]
  },
  {
   "cell_type": "code",
   "execution_count": 21,
   "id": "d1977e51-6de0-4c85-9dc4-d17e5af1f115",
   "metadata": {},
   "outputs": [
    {
     "data": {
      "text/plain": [
       "array([[1., 0., 0., 0., 0.],\n",
       "       [0., 1., 0., 0., 0.],\n",
       "       [0., 0., 1., 0., 0.],\n",
       "       [0., 0., 0., 1., 0.],\n",
       "       [0., 0., 0., 0., 1.]])"
      ]
     },
     "execution_count": 21,
     "metadata": {},
     "output_type": "execute_result"
    }
   ],
   "source": [
    "import numpy as np\n",
    "id_matrix = np.eye(5)\n",
    "id_matrix"
   ]
  }
 ],
 "metadata": {
  "kernelspec": {
   "display_name": "Python 3 (ipykernel)",
   "language": "python",
   "name": "python3"
  },
  "language_info": {
   "codemirror_mode": {
    "name": "ipython",
    "version": 3
   },
   "file_extension": ".py",
   "mimetype": "text/x-python",
   "name": "python",
   "nbconvert_exporter": "python",
   "pygments_lexer": "ipython3",
   "version": "3.10.8"
  }
 },
 "nbformat": 4,
 "nbformat_minor": 5
}
