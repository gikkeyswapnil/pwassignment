{
 "cells": [
  {
   "cell_type": "markdown",
   "id": "97669179-60c9-4006-a5f0-eb9f851209f1",
   "metadata": {},
   "source": [
    "### Q1. What is an Exception in python? Write the difference between Exceptions and syntax errors.\n",
    "#### Ans:\n",
    "* Exceptions : In Python, an exception is an event that occurs during the execution of a program that disrupts the normal flow of instructions. An exception can be raised either explicitly using a raise statement or implicitly due to a runtime error. For example, dividing by zero, accessing an index outside the range of a list, or trying to open a file that doesn't exist are some scenarios that can raise exceptions in Python.Exceptions allow you to handle runtime errors in a more graceful way than just stopping the program. You can catch exceptions using a try-except block and then provide a specific response to the exception. This helps to prevent the program from crashing and provides a more user-friendly error message.\n",
    "\n",
    "* syntax errors. : Syntax errors, on the other hand, are errors in the syntax of the code. They occur when the code is written in a way that does not conform to the rules of the Python language. Syntax errors are detected by the interpreter when the code is being parsed and are usually indicated by a Traceback message indicating the line number and type of error.\n",
    "\n",
    "* The key difference between exceptions and syntax errors is that exceptions are raised at runtime, while syntax errors are detected when the code is being parsed. Exceptions can be handled and recovered from, while syntax errors cannot be handled and typically result in the termination of the program.\n",
    "\n",
    "\n",
    "\n",
    "\n"
   ]
  },
  {
   "cell_type": "markdown",
   "id": "78a67f5b-fe70-4f5e-9985-eb30a991b21b",
   "metadata": {},
   "source": [
    "### Q2. What happens when exception is not handled ? explain with example.\n",
    "#### ans:\n",
    "* When an exception is not handled, the program will stop executing and a traceback will be displayed, indicating where the error occurred and what type of error it was. This traceback is also known as an \"unhandled exception.\"\n"
   ]
  },
  {
   "cell_type": "code",
   "execution_count": 1,
   "id": "f273bebc-042c-46ac-a594-bf03e06b9641",
   "metadata": {},
   "outputs": [
    {
     "ename": "ZeroDivisionError",
     "evalue": "division by zero",
     "output_type": "error",
     "traceback": [
      "\u001b[0;31m---------------------------------------------------------------------------\u001b[0m",
      "\u001b[0;31mZeroDivisionError\u001b[0m                         Traceback (most recent call last)",
      "Cell \u001b[0;32mIn[1], line 4\u001b[0m\n\u001b[1;32m      1\u001b[0m \u001b[38;5;28;01mdef\u001b[39;00m \u001b[38;5;21mdivide\u001b[39m(a, b):\n\u001b[1;32m      2\u001b[0m   \u001b[38;5;28;01mreturn\u001b[39;00m a \u001b[38;5;241m/\u001b[39m b\n\u001b[0;32m----> 4\u001b[0m \u001b[38;5;28mprint\u001b[39m(\u001b[43mdivide\u001b[49m\u001b[43m(\u001b[49m\u001b[38;5;241;43m5\u001b[39;49m\u001b[43m,\u001b[49m\u001b[43m \u001b[49m\u001b[38;5;241;43m0\u001b[39;49m\u001b[43m)\u001b[49m)\n",
      "Cell \u001b[0;32mIn[1], line 2\u001b[0m, in \u001b[0;36mdivide\u001b[0;34m(a, b)\u001b[0m\n\u001b[1;32m      1\u001b[0m \u001b[38;5;28;01mdef\u001b[39;00m \u001b[38;5;21mdivide\u001b[39m(a, b):\n\u001b[0;32m----> 2\u001b[0m   \u001b[38;5;28;01mreturn\u001b[39;00m \u001b[43ma\u001b[49m\u001b[43m \u001b[49m\u001b[38;5;241;43m/\u001b[39;49m\u001b[43m \u001b[49m\u001b[43mb\u001b[49m\n",
      "\u001b[0;31mZeroDivisionError\u001b[0m: division by zero"
     ]
    }
   ],
   "source": [
    "def divide(a, b):\n",
    "  return a / b\n",
    "\n",
    "print(divide(5, 0))\n"
   ]
  },
  {
   "cell_type": "markdown",
   "id": "2a87ebef-739a-4b9b-a0b7-07c59a33154e",
   "metadata": {},
   "source": [
    "* This traceback indicates that the error occurred in the divide function, on line 2, when we tried to divide a by b. The traceback also indicates the type of error: ZeroDivisionError"
   ]
  },
  {
   "cell_type": "markdown",
   "id": "e7117326-72d5-4ceb-a971-0b3713837415",
   "metadata": {},
   "source": []
  },
  {
   "cell_type": "markdown",
   "id": "8d32b10d-20c0-4f70-998b-286e6199016c",
   "metadata": {},
   "source": [
    "### Q3. Which Python sttements are used to catch and handle exceptions? Explain with an example \n",
    "#### Ans:\n",
    "  * The try and except statements are used in Python to catch and handle exceptions\n",
    "  * syntax :\n",
    "    \n",
    "    try:\n",
    "    \n",
    "           (code that might raise an exception)\n",
    "           \n",
    "    except ExceptionType:\n",
    "    \n",
    "            (code to handle the exception)\n"
   ]
  },
  {
   "cell_type": "markdown",
   "id": "aa2fb341-538e-4d4d-a63a-c87f6c3c2919",
   "metadata": {},
   "source": []
  },
  {
   "cell_type": "code",
   "execution_count": 44,
   "id": "563d04cf-9e6a-4761-85d0-6bea858fbe45",
   "metadata": {},
   "outputs": [
    {
     "name": "stdin",
     "output_type": "stream",
     "text": [
      "Enter a number:  5\n",
      "Enter another number:  \n"
     ]
    },
    {
     "name": "stdout",
     "output_type": "stream",
     "text": [
      "error invalid literal for int() with base 10: ''\n"
     ]
    }
   ],
   "source": [
    "try:\n",
    "    a = int(input(\"Enter a number: \"))\n",
    "    b = int(input(\"Enter another number: \"))\n",
    "    c = a / b\n",
    "    print(c)\n",
    "except Exception as e:\n",
    "    print(\"error\",e)\n"
   ]
  },
  {
   "cell_type": "markdown",
   "id": "f3000fe2-e930-438a-a69a-6ab1dced14ad",
   "metadata": {},
   "source": [
    "### Q4. Explain with an example:\n",
    "   * Try and else \n",
    "   * Finally \n",
    "   * Raise  \n"
   ]
  },
  {
   "cell_type": "code",
   "execution_count": 30,
   "id": "0e7b1d91-aff0-44e7-b5e8-eda3feaa68e9",
   "metadata": {},
   "outputs": [
    {
     "name": "stdin",
     "output_type": "stream",
     "text": [
      "Enter a number:  2\n",
      "Enter another number:  5\n"
     ]
    },
    {
     "name": "stdout",
     "output_type": "stream",
     "text": [
      "0.4\n",
      "The calculation was successful.\n"
     ]
    }
   ],
   "source": [
    "# Try and else \n",
    "''' the else statement in conjunction with the try statement. The else block is executed when no exception is raised in the try block.'''\n",
    "# example\n",
    "try:\n",
    "    a = int(input(\"Enter a number: \"))\n",
    "    b = int(input(\"Enter another number: \"))\n",
    "    c = a / b\n",
    "    print(c)\n",
    "except Exception as e:\n",
    "    print(\"error\",e)\n",
    "else:\n",
    "    print(\"The calculation was successful.\")"
   ]
  },
  {
   "cell_type": "code",
   "execution_count": 40,
   "id": "f8eb3a2e-3e0e-4d18-a0d2-032216a804a7",
   "metadata": {},
   "outputs": [
    {
     "name": "stdin",
     "output_type": "stream",
     "text": [
      "Enter a positive number:  -9\n"
     ]
    },
    {
     "name": "stdout",
     "output_type": "stream",
     "text": [
      "error is ...... The number must be positive and greater than 0 .\n"
     ]
    }
   ],
   "source": [
    "# Raise \n",
    "''' you can use the raise statement to raise an exception explicitly.\n",
    "The raise statement is used to signal that an exception has occurred, and you can use it to raise any type of exception.'''\n",
    "\n",
    "#example\n",
    "def Positive_Number(n):\n",
    "    if type(n) is not int:\n",
    "        raise TypeError(\"The argument must be an integer.\")\n",
    "    if n <= 0:\n",
    "        raise ValueError(\"The number must be positive and greater than 0 .\")\n",
    "\n",
    "    return n\n",
    "\n",
    "try:\n",
    "    n = int(input(\"Enter a positive number: \"))\n",
    "    print(Positive_Number(n))\n",
    "except Exception as e:\n",
    "    print(\"error is ......\",e)\n",
    "\n"
   ]
  },
  {
   "cell_type": "code",
   "execution_count": 32,
   "id": "07f8ce41-52ed-4e80-8f3c-ef8927df4cf5",
   "metadata": {},
   "outputs": [
    {
     "name": "stdin",
     "output_type": "stream",
     "text": [
      "Enter a number:  5\n",
      "Enter another number:  l\n"
     ]
    },
    {
     "name": "stdout",
     "output_type": "stream",
     "text": [
      "Eroor is ..... invalid literal for int() with base 10: 'l'\n",
      "The try-except-finally block has finished executing.\n"
     ]
    }
   ],
   "source": [
    "#  Finally \n",
    "''' The finally block is executed no matter what, whether an exception was raised or not. \n",
    "It's a good place to put any code that must be executed regardless of whether an exception was raised or not.\n",
    "One might use the finally block to close a file or to release a resource that was acquired in the try block.'''\n",
    "\n",
    "# Example\n",
    "try:\n",
    "    a = int(input(\"Enter a number: \"))\n",
    "    b = int(input(\"Enter another number: \"))\n",
    "    c = a / b\n",
    "    print(c)\n",
    "except Exception as e:\n",
    "    print(\"Eroor is .....\",e)\n",
    "finally:\n",
    "    print(\"The try-except-finally block has finished executing.\")\n"
   ]
  },
  {
   "cell_type": "markdown",
   "id": "ed8e8c6b-714f-4e4f-9b74-174152695a8d",
   "metadata": {},
   "source": []
  },
  {
   "cell_type": "markdown",
   "id": "4e3cd716-5326-4f88-ba48-235b07d0684b",
   "metadata": {},
   "source": [
    "### Q5. What are Custom Exceptions in pthon? What Do We Need Custom Exceptions? Explain with an example\n",
    "#### ans:\n",
    "* Custom exceptions in Python are user-defined exceptions that you can create and raise in your code. They allow you to create your own exception types that are specific to your application and provide a more meaningful error message for debugging and error handling.You need custom exceptions in Python because the built-in exceptions might not always be sufficient for your needs. For example, if you're building an application that works with dates, you might want to create a custom exception that indicates a date is in the future. This way, you can raise this custom exception whenever you encounter an invalid date, and the error message will clearly indicate the problem."
   ]
  },
  {
   "cell_type": "code",
   "execution_count": null,
   "id": "b02b2b30-38bb-465f-abe2-f8364b740393",
   "metadata": {},
   "outputs": [],
   "source": [
    "#example Custom Exception \n",
    "class InvalidAgeException(Exception):\n",
    "    pass\n",
    "\n",
    "def validate_age(age):\n",
    "    if age < 18 or age > 99:\n",
    "        raise InvalidAgeException(\"The age must be between 18 and 99.\")\n",
    "\n",
    "try:\n",
    "    age = int(input(\"Enter your age: \"))\n",
    "    validate_age(age)\n",
    "except InvalidAgeException as e:\n",
    "    print(e)\n",
    "\n"
   ]
  },
  {
   "cell_type": "markdown",
   "id": "405eac24-456a-4912-b3be-b253b00e734d",
   "metadata": {},
   "source": [
    " ### Q6. Crete a custom exception class. Use this class to handle exceptions. \n",
    "  "
   ]
  },
  {
   "cell_type": "code",
   "execution_count": 43,
   "id": "0def93ad-954e-4479-a7be-333ac7e558e8",
   "metadata": {},
   "outputs": [
    {
     "name": "stdin",
     "output_type": "stream",
     "text": [
      "Enter a password:  4sacscs4ascc45sa5sac5\n"
     ]
    },
    {
     "name": "stdout",
     "output_type": "stream",
     "text": [
      "The password must contain at least one uppercase letter.\n"
     ]
    }
   ],
   "source": [
    "class InvalidPasswordException(Exception):\n",
    "    pass\n",
    "\n",
    "def validate_password(password):\n",
    "    if len(password) < 8:\n",
    "        raise InvalidPasswordException(\"The password must be at least 8 characters long.\")\n",
    "    if not any(char.isdigit() for char in password):\n",
    "        raise InvalidPasswordException(\"The password must contain at least one digit.\")\n",
    "    if not any(char.isupper() for char in password):\n",
    "        raise InvalidPasswordException(\"The password must contain at least one uppercase letter.\")\n",
    "\n",
    "try:\n",
    "    password = input(\"Enter a password: \")\n",
    "    validate_password(password)\n",
    "except InvalidPasswordException as e:\n",
    "    print(e)\n",
    "\n"
   ]
  }
 ],
 "metadata": {
  "kernelspec": {
   "display_name": "Python 3 (ipykernel)",
   "language": "python",
   "name": "python3"
  },
  "language_info": {
   "codemirror_mode": {
    "name": "ipython",
    "version": 3
   },
   "file_extension": ".py",
   "mimetype": "text/x-python",
   "name": "python",
   "nbconvert_exporter": "python",
   "pygments_lexer": "ipython3",
   "version": "3.10.8"
  }
 },
 "nbformat": 4,
 "nbformat_minor": 5
}
