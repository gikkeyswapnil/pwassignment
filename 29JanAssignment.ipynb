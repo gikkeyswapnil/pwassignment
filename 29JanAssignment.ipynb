{
 "cells": [
  {
   "cell_type": "markdown",
   "id": "5bee3121-9ded-45a2-b19a-ae14abce2fcc",
   "metadata": {},
   "source": [
    "### 1. Who developed Python Programming Language? \n",
    "* Ans : Guido van Rossum is the inventor of the Python programming language back in the late 1980s. Van Rossum was stuck with the Python project until 2018, when he took a permanent vacation from being the lead developer of the language. Since then, a Steering Council has been in charge of taking the language forward.\n"
   ]
  },
  {
   "cell_type": "markdown",
   "id": "e49ff5d2-73dd-4afd-83e1-0ffba86d7502",
   "metadata": {},
   "source": [
    "### 2. Which type of Programming does Python support? \n",
    "* Ans : Python is a multi-paradigm programming language. Object-oriented programming and structured programming are fully supported, and many of their features support functional programming and aspect-oriented programming (including metaprogramming and metaobjects)."
   ]
  },
  {
   "cell_type": "markdown",
   "id": "f5d00300-416c-4978-a68b-220f7e525533",
   "metadata": {},
   "source": [
    "### 3. Is Python case sensitive when dealing with identifiers? \n",
    "* Ans : Yes, Python is a case-sensitive language, i.e., it treats uppercase and lowercase characters differently. This applies to identifiers too. You must avoid using the same name with different cases while naming identifiers"
   ]
  },
  {
   "cell_type": "markdown",
   "id": "60330304-77f1-4c33-9303-133e812fa1be",
   "metadata": {},
   "source": [
    "### 4. What is the correct extension of the Python file? \n",
    "* Ans : The correct extension of python is . py and can be written in any text editor. We need to use the extension . py to save these files."
   ]
  },
  {
   "cell_type": "markdown",
   "id": "23d7fa11-1b49-41ce-8ab2-db1c841af40c",
   "metadata": {},
   "source": [
    "### 5. Is Python code compiled or interpreted? \n",
    "* Ans : Python is an interpreted language, which means the source code of a Python program is converted into bytecode that is then executed by the Python virtual machine. Python is different from major compiled languages, such as C and C + +, as Python code is not required to be built and linked like code for these languages."
   ]
  },
  {
   "cell_type": "markdown",
   "id": "cd36f6e3-a3fb-421c-a1c6-32bde76e1cd5",
   "metadata": {},
   "source": [
    "### 6. Name a few blocks of code used to define in Python language?\n",
    "* Ans : A Python program is constructed from code blocks. A block is a piece of Python program text that is executed as a unit. The following are blocks: a module, a function body, and a class definition. Each command typed interactively is a block. A script file (a file given as standard input to the interpreter or specified as a command line argument to the interpreter) is a code block. A script command (a command specified on the interpreter command line with the -c option) is a code block. A module run as a top level script (as module __main__) from the command line using a -m argument is also a code block. The string argument passed to the built-in functions eval() and exec() is a code block.A code block is executed in an execution frame. A frame contains some administrative information (used for debugging) and determines where and how execution continues after the code block’s execution has completed."
   ]
  },
  {
   "cell_type": "markdown",
   "id": "ca28f2c8-679e-4838-a449-bcb931424c0a",
   "metadata": {},
   "source": [
    "### 7. State a character used to give single-line comments in Python? \n",
    "* Ans : Hash character(#) .Consecutive single-line comment Hash character(#) is used to comment the line in the Python program. Comments does not have to be text to explain the code, it can also be used to prevent Python from executing code."
   ]
  },
  {
   "cell_type": "markdown",
   "id": "744ebe53-51e0-4ceb-8a4b-cab598f8811e",
   "metadata": {},
   "source": [
    "### 8. Mention functions which can help us to find the version of python that we are currently working on? \n",
    "* Ans : To get the Version of the python Interpreter, they are listed as follows: Using sys. version method. Using python_version() function."
   ]
  },
  {
   "cell_type": "markdown",
   "id": "72a26207-2f0c-4ecc-ae8e-c837217cf5d5",
   "metadata": {},
   "source": [
    "### 9. Python supports the creation of anonymous functions at runtime, using a construct called \n",
    "* Ans : lambda .Python supports to make anonymous functions which are not bound to a name(@ runtime). It uses a construct called \"lambda\" .\n"
   ]
  },
  {
   "cell_type": "markdown",
   "id": "8e083483-749d-4498-abd0-0eaaedff2cca",
   "metadata": {},
   "source": [
    "### 10. What does pip stand for python?\n",
    "* Ans : PIP is a recursive acronym for “Preferred Installer Program” or PIP Installs Packages. It is a command-line utility that installs, reinstalls, or uninstalls PyPI packages with one simple command: pip.\n",
    " "
   ]
  },
  {
   "cell_type": "markdown",
   "id": "2d5d02c2-2298-4b82-bc6e-4119dddfd194",
   "metadata": {},
   "source": [
    "### 11. Mention a few built-in functions in python? \n",
    "* print( ) function : The print() function prints the specified message to the screen or another standard output device.The message that wants to print can be a string or any other object. This function converts the object into a string before written to the screen.\n",
    "* type( ) function : The type() function returns the type of the specified object\n",
    "* input( ) function : The input() function allows taking the input from the user.\n",
    "* abs( ) function : The abs() function returns the absolute value of the specified number.\n",
    "* pow( ) function : The pow() function returns the calculated value of x to the power of y i.e, xy.If a third parameter is present in this function, then it returns x to the powe\n",
    "* dir( ) function : The dir() function returns all the properties and methods of the specified object, without the values.This function even returns built-in properties which are the default for all objects.\n",
    "* sorted( ) function : The sorted() function returns a sorted list of the specified iterable object.You can specify the order to be either ascending or descending. In this function, Strings are sorted alphabetically, and numbers are sorted numerically.\n",
    "* max( ) function : The max() function returns the item with the maximum value or the item with the maximum value in an iterable.If the values this function takes are strings, then it is done using an alphabetical comparison\n",
    "* round( ) function : The round() function returns a floating-point number that is a rounded version of the specified number, with the specified number of decimals.The default number of decimals is 0, meaning that the function will return the nearest integer.\n",
    "* divmod( ) function : The divmod() function returns a tuple containing the quotient and the remainder when the first argument i.e, the dividend is divided by the second argument i.e, the divisor.\n",
    "* id( ) function : The id() function returns a unique id for the specified object. Note that all the objects in Python have their own unique id.The id is assigned to the object when it is created.The id is the object’s memory address and will be different for each time you run the program. (except for some object that has a constant unique id, like integers from -5 to 256)\n",
    "* ord( ) function : The ord() function returns the number representing the Unicode code of a specified character.\n",
    "* len( ) function : The len() function returns the count of items present in a specified object.When the object is a string, then the len() function returns the number of characters present in that string.\n",
    "* sum( ) function : The sum() function returns a number, the sum of all items in an iterable.\n",
    "* help( ) function : The help() function is used to display the documentation of modules, functions, classes, keywords, etc.If we don’t give an argument to the help function, then the interactive help utility starts up on the console.\n"
   ]
  },
  {
   "cell_type": "markdown",
   "id": "1d5d67ad-9c23-444c-8336-630704584252",
   "metadata": {},
   "source": [
    "### 12. What is the maximum possible length of an identifier in Python? \n",
    "* Ans : An identifier can have a maximum length of 79 characters in Python. Python is one of the most popular programming languages. Guido van Rossum created it, and it was released in 1991.\n"
   ]
  },
  {
   "cell_type": "markdown",
   "id": "ea586a33-86aa-45eb-9490-7be936347d75",
   "metadata": {},
   "source": [
    "### 13. What are the benefits of using Python? \n",
    "* Ans: Third-Party ModulesPython Package Index (PyPI) comprises a multitude of third-party modules which makes Python integrate with other languages and platforms easily.\n",
    "\n",
    "* Presence of Libraries : Python is fraught with numerous standard libraries that include string operations, internet protocols, web service tools, Machine Learning libraries, and operating System Interfaces. The presence of these libraries essentially helps in reducing the code to be written by the programmer.\n",
    "\n",
    "\n",
    "* Open Source and free : Python is free for use even for commercial purposes. Moreover, active\n",
    "\n",
    "* developers can contribute by developing modules and appending them to the existing library.\n",
    "\n",
    "* Huge Support Community : Due to lack of official technical support for Python is open-sourced has prompted the development of communities that enrich the resource bank for continued development and adoption of the language.\n",
    "\n",
    "* Easy to learn : Python is popular for its excellent readability. This means, even a non-programmer can read and comprehend the uncluttered syntax. The PEP 8 guidelines provide a set of rules to help in formatting the code.\n",
    "\n",
    "* User-Friendly data structures : With its built-in data structures, Python can easily construct run-time data structures including Arrays, Lists, tuples, and Files.  \n",
    "\n",
    "* Speed : Being expressive and with object-oriented design, Python contributes to increased speed and productivity even with less amount of coding. Python is considered ideal for developing complex, multi-protocol network applications.\n",
    "\n",
    "\n",
    "\n"
   ]
  },
  {
   "cell_type": "markdown",
   "id": "662be05f-cd8b-4aa8-91a8-89caac0854e9",
   "metadata": {},
   "source": [
    "### 14. How is memory managed in Python? \n",
    "* Ans : Python uses a portion of the memory for internal use and non-object memory. Another part of the memory is used for Python object such as int, dict, list, etc. CPython contains the object allocator that allocates memory within the object area. The object allocator gets a call every time the new object needs space."
   ]
  },
  {
   "cell_type": "markdown",
   "id": "157ef02e-39cf-4a6e-9dff-610d117fa27e",
   "metadata": {},
   "source": [
    "### 15. How to install Python on Windows and set path variables? 16. Is indentation required in python?\n",
    "* Ans : Step 1: Download Python : To start, go to python.org/downloads and then click on the button to download the latest version of Python.\n",
    "\n",
    "* Step 2: Run the .exe file Next, run the .exe file that you just downloaded, and then follow the installation instructions.Note that depending on your needs, you may also check the box to add Python to the Path:Add Python to PATH\n",
    "\n",
    "* Step 3: Run a code in Python , You can run a code in Python via the Python IDLE.A quick way to find your Python IDLE on Windows is by clicking on the Start menu. You should then see the IDLE under “Recently added.”\n",
    "\n",
    "* Once you click on the Python IDLE, you’ll see the “Shell” screen. Click on File and then select New File (alternatively, you may use the keyboard shortcut of Ctrl+N).\n",
    "\n",
    "* You’ll then see the “untitled” box, where you can type your Python code. For example, type/copy the following code that would print the famous expression of “Hello World”\n",
    "\n",
    "* print(\"Hello World\")\n",
    "* Press F5 on your keyboard. You’ll then get a message to save your code – Press OK.\n",
    "\n",
    "* Choose a location where the Python file would be saved on your computer. You’ll also need to type a name for your file. For instance, type “Test” for your file name.\n",
    "\n",
    "* Once you’re done, press Save, and you’ll see the “Hello World” expression printed on your Python Shell:"
   ]
  },
  {
   "cell_type": "markdown",
   "id": "633a179d-e59c-42a0-9acf-740ab2e32155",
   "metadata": {},
   "source": [
    "### 16. Is indentation required in python ?\n",
    "* Ans : Indentation refers to the spaces at the beginning of a code line. Where in other programming languages the indentation in code is for readability only, the indentation in Python is very important. Python uses indentation to indicate a block of code."
   ]
  },
  {
   "cell_type": "code",
   "execution_count": null,
   "id": "35747e86-aac9-42b1-b5fd-0d4c1bf5e1eb",
   "metadata": {},
   "outputs": [],
   "source": []
  }
 ],
 "metadata": {
  "kernelspec": {
   "display_name": "Python 3 (ipykernel)",
   "language": "python",
   "name": "python3"
  },
  "language_info": {
   "codemirror_mode": {
    "name": "ipython",
    "version": 3
   },
   "file_extension": ".py",
   "mimetype": "text/x-python",
   "name": "python",
   "nbconvert_exporter": "python",
   "pygments_lexer": "ipython3",
   "version": "3.10.8"
  }
 },
 "nbformat": 4,
 "nbformat_minor": 5
}
