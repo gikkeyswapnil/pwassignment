{
 "cells": [
  {
   "cell_type": "markdown",
   "id": "e62ca14d-4e33-459f-b8dc-9a5c23094f44",
   "metadata": {},
   "source": [
    "### Q1. Explain why we have to use the Exception class while creating a Custom Exception.Note: Here Exception class refers to the base class for all the exceptions.\n",
    "### Ans: \n",
    " * We use the Exception class as the base class when creating custom exceptions because it provides a set of methods and attributes that are essential for proper exception handling, such as the ability to print error messages and track the call stack. Inheriting from the Exception class also ensures that the custom exception can be caught and handled in the same way as any built-in exception.\n",
    " \n"
   ]
  },
  {
   "cell_type": "markdown",
   "id": "119dbd26-437d-4634-b960-a3fc9d7683e2",
   "metadata": {},
   "source": [
    "### Q2. Write a python program to print Python Exception Hierarchy.\n",
    "#### Ans:\n",
    "* Python Exception Hierarchy  means list of all the subclasses present in the Exception Super class .\n"
   ]
  },
  {
   "cell_type": "code",
   "execution_count": 4,
   "id": "45a8ad85-0e46-4329-a73d-29d1a81d3c37",
   "metadata": {},
   "outputs": [],
   "source": [
    "# Print Python Exception Hierarchy\n",
    "import logging\n",
    "logging.basicConfig(filename=\"exception_log.log\",level=logging.INFO)\n",
    "\n",
    "def Subclasses_Of_Exceptionclass ():\n",
    "    for cls in Exception.__subclasses__():\n",
    "        logging.info(cls.__name__)\n",
    "        for sub_cls in cls.__subclasses__():\n",
    "            logging.info(f\"  {sub_cls.__name__}\")\n",
    "\n",
    "        \n",
    "Subclasses_Of_Exceptionclass()   "
   ]
  },
  {
   "cell_type": "markdown",
   "id": "c3df0864-ec10-4b05-8cf2-a7c1e6d025e6",
   "metadata": {},
   "source": [
    "### Q3. What errors are defined in the ArithmeticError class? Explain any two with an example.\n",
    "#### Ans:\n",
    "The ArithmeticError class is a base class for all built-in errors that occur for numeric calculation in Python. It has several subclasses, which represent specific types of arithmetic errors.Followings are the errors defined in the ArithmeticError class\"\n",
    " \n",
    "1. FloatingPointError\n",
    "2. OverflowError\n",
    "3. ZeroDivisionError\n",
    "4. DivisionByZero\n",
    "5. DivisionUndefined\n",
    "6. DecimalException\n",
    "7.  Clamped\n",
    "8. Rounded\n",
    "9. Inexact\n",
    "10. Subnormal\n",
    "11. DivisionByZero\n",
    "12. FloatOperation\n",
    "13. InvalidOperation"
   ]
  },
  {
   "cell_type": "code",
   "execution_count": 11,
   "id": "0d0b795f-ef23-483f-9c7f-f8eafc156743",
   "metadata": {},
   "outputs": [
    {
     "name": "stdin",
     "output_type": "stream",
     "text": [
      "enter number 5\n",
      "enter number 0\n"
     ]
    }
   ],
   "source": [
    "# ZeroDivisionError\n",
    "def Zero_Divison_Error():\n",
    "    num1 = int(input(\"enter number\"))\n",
    "    num2 =  int(input(\"enter number\"))\n",
    "    return num1 / num2\n",
    "try :\n",
    "   Zero_Divison_Error()\n",
    "except ZeroDivisionError as e:\n",
    "    logging.error(e)\n",
    "    # print(e)"
   ]
  },
  {
   "cell_type": "code",
   "execution_count": 31,
   "id": "6393a88c-7f7c-44d3-8cb0-8c1982cd8456",
   "metadata": {},
   "outputs": [
    {
     "name": "stdout",
     "output_type": "stream",
     "text": [
      "(34, 'Numerical result out of range'), <class 'OverflowError'>\n"
     ]
    }
   ],
   "source": [
    "# 2.OverFlowError\n",
    "def Over_Flow_Error():\n",
    "    j = 5.0\n",
    "    for i in range(1, 1000):\n",
    "        j = j**i\n",
    "    return result\n",
    "try :\n",
    "   Over_Flow_Error()\n",
    "except OverflowError as e:\n",
    "    # logging.error(e)\n",
    "    # print(e)\n",
    "    print(f\"{e}, {e.__class__}\")"
   ]
  },
  {
   "cell_type": "markdown",
   "id": "19a0274e-1c37-4f91-9c41-82c5369d7dac",
   "metadata": {},
   "source": [
    "### Q4. Why LookupError class is used? Explain with an example KeyError and IndexError.\n",
    "#### Ans:\n",
    "* The LookupError class is a base class for exceptions that occur when a specified key or index is not found in a collection. It is a subclass of the Exception class and is commonly used in Python for handling errors related to indexing and key-based lookups.\n",
    "1. KeyError\n",
    "2. IndexError"
   ]
  },
  {
   "cell_type": "code",
   "execution_count": 33,
   "id": "34f97eba-3f75-4db7-858e-a5cb428f8437",
   "metadata": {},
   "outputs": [],
   "source": [
    "import logging\n",
    "logging.basicConfig(filename=\"exception_log.log\",level=logging.INFO)"
   ]
  },
  {
   "cell_type": "code",
   "execution_count": 35,
   "id": "510697f2-6b64-4d83-aa42-183b6be95171",
   "metadata": {},
   "outputs": [],
   "source": [
    "# 1. KeyError\n",
    "try:  \n",
    "    a = {1:'a', 2:'b', 3:'c'}  \n",
    "    logging.info(a[4])  \n",
    "except LookupError as e :  \n",
    "    logging.error (\"Key Error Exception Raised. {}\".format(e))\n",
    "else:  \n",
    "    logging.info(\"Success, no error!\")\n"
   ]
  },
  {
   "cell_type": "code",
   "execution_count": 37,
   "id": "5e05ddd4-450b-4fb7-b7c0-55e70e8ab8f9",
   "metadata": {},
   "outputs": [],
   "source": [
    "# 2. IndexError\n",
    "try:  \n",
    "    a = ['a', 'b', 'c']  \n",
    "    logging.info(a[4])  \n",
    "except LookupError as e:  \n",
    "    logging.error(\"Index Error Exception Raised, list index out of range. {}\".format(e))\n",
    "else:  \n",
    "    logging.info(\"Success, no error!\")\n"
   ]
  },
  {
   "cell_type": "markdown",
   "id": "f26eb302-55b8-4f8c-9130-f895afc326dd",
   "metadata": {},
   "source": [
    "### Q5. Explain ImportError. What is ModuleNotFoundError?\n",
    "#### Ams:\n",
    "* ImportError is a built-in exception class in Python that is raised when an imported module or attribute cannot be found or loaded. This can occur if the specified module does not exist, if the module is not in the Python search path, or if there are syntax errors or other issues with the module's code.\n",
    "\n",
    "* ModuleNotFoundError is a subclass of ImportError that was introduced in Python 3.6. It is specifically raised when a named module is not found in the list of available modules. This provides a more specific and informative error message than the more general ImportError."
   ]
  },
  {
   "cell_type": "code",
   "execution_count": 40,
   "id": "203ae99c-ba15-4ca7-901d-63e7af965488",
   "metadata": {},
   "outputs": [],
   "source": [
    "#1. ImportError\n",
    "try :\n",
    "    import Aniruddha\n",
    "except ImportError as e:\n",
    "    # print(\"trying to handle error of : {}\".format(e))\n",
    "    logging.error(\"trying to handle error of : {}\".format(e))"
   ]
  },
  {
   "cell_type": "code",
   "execution_count": 43,
   "id": "28bfe813-41af-41c8-9914-cd09ee7648a4",
   "metadata": {},
   "outputs": [],
   "source": [
    "#2 ModuleNotFoundError\n",
    "try :\n",
    "    import AniruddhaFullName\n",
    "except ModuleNotFoundError as e:\n",
    "    # print(f\"trying to handle error : {e}\")\n",
    "    logging.error(f\"trying to handle error : {e}\")"
   ]
  },
  {
   "cell_type": "markdown",
   "id": "9ce262fb-d5d5-44c1-9891-8ac59a461b62",
   "metadata": {},
   "source": [
    "### Q6. List down some best practices for exception handling in python.\n",
    "#### Ans:\n",
    "\n",
    "1. Be specific: Use specific exception types (built-in or custom) to catch and handle specific errors. This will help you write more targeted and maintainable code.\n",
    "\n",
    "2. Keep it simple: Don't try to handle too many exceptions in a single block. It's better to have multiple simple try-except blocks that each handle a specific exception.\n",
    "\n",
    "2. Don't ignore exceptions: It's important to handle exceptions properly, even if the handling simply logs the error or re-raises the exception. Ignoring exceptions can lead to hard-to-find bugs and make debugging more difficult.\n",
    "\n",
    "2. Use finally: Use the finally block to ensure that cleanup code (e.g., closing files or network connections) is always executed, even if an exception is raised.\n",
    "\n",
    "2. Avoid bare except: Avoid using a bare except block to catch all exceptions, as this can hide errors and make debugging more difficult. Instead, catch specific exceptions or use a catch-all except Exception as e block to handle unexpected exceptions.\n",
    "\n",
    "2. Use context managers: Use the with statement and context managers to ensure that resources are properly managed and cleaned up, even if an exception is raised.\n",
    "\n",
    "2. Keep error messages informative: Use clear and informative error messages that help users and developers understand what went wrong and how to fix the problem.\n",
    "\n",
    "2. Don't catch KeyboardInterrupt: Avoid catching the KeyboardInterrupt exception, which is raised when the user presses Ctrl+C to interrupt a running program. This allows users to stop your program in a predictable way.\n",
    "\n",
    "\n",
    "\n",
    "\n"
   ]
  }
 ],
 "metadata": {
  "kernelspec": {
   "display_name": "Python 3 (ipykernel)",
   "language": "python",
   "name": "python3"
  },
  "language_info": {
   "codemirror_mode": {
    "name": "ipython",
    "version": 3
   },
   "file_extension": ".py",
   "mimetype": "text/x-python",
   "name": "python",
   "nbconvert_exporter": "python",
   "pygments_lexer": "ipython3",
   "version": "3.10.8"
  }
 },
 "nbformat": 4,
 "nbformat_minor": 5
}
