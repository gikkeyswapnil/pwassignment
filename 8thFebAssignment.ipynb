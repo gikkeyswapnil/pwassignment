{
 "cells": [
  {
   "cell_type": "markdown",
   "id": "6f2f64ee-d37d-4a0a-aaf7-58277fd9a311",
   "metadata": {},
   "source": [
    "### Q1. What is Abstraction in OOps? Explain with an example.\n",
    "* Abstraction is a fundamental concept in object-oriented programming (OOP) that refers to the act of hiding implementation details and showing only the essential features of an object. It allows the programmer to focus on the essential behavior of an object, without getting bogged down in the details of how it works.Abstraction can be achieved in several ways in OOP, such as inheritance, encapsulation, and interfaces.\n"
   ]
  },
  {
   "cell_type": "code",
   "execution_count": null,
   "id": "e725aaca-9c55-4d97-b28b-01b2eb8bfe33",
   "metadata": {},
   "outputs": [],
   "source": [
    "class Shape:\n",
    "    def area(self):\n",
    "        pass\n",
    "\n",
    "class Square(Shape):\n",
    "    def __init__(self, side):\n",
    "        self.side = side\n",
    "\n",
    "    def area(self):\n",
    "        return self.side ** 2\n",
    "\n",
    "class Circle(Shape):\n",
    "    def __init__(self, radius):\n",
    "        self.radius = radius\n",
    "\n",
    "    def area(self):\n",
    "        return 3.14 * self.radius ** 2\n"
   ]
  },
  {
   "cell_type": "markdown",
   "id": "b39f7641-9fe5-4dae-95cd-2207c111ec30",
   "metadata": {},
   "source": [
    "##### explaining above example of abstraction\n",
    "In this example, we have defined a Shape class that has a method area, which is meant to return the area of a shape. However, the area method in the Shape class is just a placeholder and doesn't actually do anything.\n",
    "\n",
    "We then create two subclasses, Square and Circle, that inherit from the Shape class. The Square class has a method area that calculates the area of a square, and the Circle class has a method area that calculates the area of a circle.\n",
    "\n",
    "By using inheritance, we have abstracted the implementation details of the area method for different shapes, and the user of the Shape class can simply call the area method and get the appropriate result, without having to worry about the underlying implementation."
   ]
  },
  {
   "cell_type": "markdown",
   "id": "d2897c43-2b31-4201-81e7-7e332df75ba6",
   "metadata": {},
   "source": []
  },
  {
   "cell_type": "markdown",
   "id": "59dca2e3-d53f-4498-b870-be391e3e3e04",
   "metadata": {},
   "source": [
    "### Q2. Differentiate between Abstraction and Encapsulation. Explain with an example.\n",
    "* Abstraction and encapsulation are related concepts in object-oriented programming (OOP) and are often used together to create modular and maintainable software systems.\n",
    "\n",
    "* Abstraction refers to the act of hiding implementation details and showing only the essential features of an object. It allows the programmer to focus on the essential behavior of an object, without getting bogged down in the details of how it works.\n",
    "\n",
    "* Encapsulation refers to the process of bundling data and methods that operate on that data within a single unit, or object. Encapsulation provides a mechanism for restricting access to an object's internal data, and helps to ensure the data is protected from accidental modification or corruption."
   ]
  },
  {
   "cell_type": "code",
   "execution_count": null,
   "id": "b167800b-d4e6-4533-b91b-0f52e4d09f66",
   "metadata": {},
   "outputs": [],
   "source": [
    "class BankAccount:\n",
    "    def __init__(self, balance):\n",
    "        self.__balance = balance\n",
    "\n",
    "    def deposit(self, amount):\n",
    "        self.__balance += amount\n",
    "\n",
    "    def withdraw(self, amount):\n",
    "        if self.__balance >= amount:\n",
    "            self.__balance -= amount\n",
    "        else:\n",
    "            print(\"Insufficient funds\")\n",
    "\n",
    "    def get_balance(self):\n",
    "        return self.__balance\n"
   ]
  },
  {
   "cell_type": "markdown",
   "id": "b5ddeddc-9da9-41b3-a033-3fbbb4e84972",
   "metadata": {},
   "source": [
    "##### explaining above example of abstraction and encapsulation\n",
    "In this example, the BankAccount class implements a simple bank account that has a balance and provides methods to deposit, withdraw, and check the balance. The balance is stored as a private variable __balance to ensure that it can only be modified through the methods provided by the class. This is an example of encapsulation, as it restricts access to the internal data of the object and provides a controlled interface for modifying that data.\n",
    "\n",
    "The abstraction in this example is the fact that the implementation details of the deposit, withdraw, and get_balance methods are hidden from the user of the BankAccount class. The user only needs to know that they can deposit money, withdraw money, and check the balance, and does not need to know the details of how these operations are implemented."
   ]
  },
  {
   "cell_type": "markdown",
   "id": "c6ca6ee0-741a-4bc0-b224-2b035d58f0ee",
   "metadata": {},
   "source": []
  },
  {
   "cell_type": "markdown",
   "id": "697d317c-4c17-4b2d-ac0b-9c13f7b2166e",
   "metadata": {},
   "source": [
    "### Q3. What is abc module in python? Why is it used?\n",
    "#### Ans :\n",
    "The abc (Abstract Base Classes) module in Python is a module that provides a way to define abstract classes, which are classes that cannot be instantiated and are meant to serve as a base class for other classes. Abstract base classes provide a way to define a common interface for a group of related objects, and to ensure that classes that inherit from them implement certain methods.\n",
    "\n",
    "The abc module provides a simple and flexible way to define abstract classes in Python. It allows you to define abstract methods, which are methods that don't have an implementation in the abstract base class but must be implemented by any concrete (i.e., non-abstract) subclass. By using the abc module, you can ensure that subclasses of an abstract base class have the necessary methods to properly implement the desired behavior."
   ]
  },
  {
   "cell_type": "code",
   "execution_count": 1,
   "id": "58b26956-5411-4925-afa9-999a714e451f",
   "metadata": {},
   "outputs": [
    {
     "name": "stdout",
     "output_type": "stream",
     "text": [
      "100\n"
     ]
    }
   ],
   "source": [
    "import abc\n",
    "\n",
    "class Shape(metaclass=abc.ABCMeta):\n",
    "    @abc.abstractmethod\n",
    "    def area(self):\n",
    "        pass\n",
    "\n",
    "class Square(Shape):\n",
    "    def __init__(self, side):\n",
    "        self.side = side\n",
    "\n",
    "    def area(self):\n",
    "        return self.side ** 2\n",
    "\n",
    "s = Square(10)\n",
    "print(s.area())\n"
   ]
  },
  {
   "cell_type": "markdown",
   "id": "57d66d3c-5890-47ec-9fcd-3a9b5c4f1a9d",
   "metadata": {},
   "source": [
    "#### explainataion about above exmple\n",
    "In this example, the Shape class is defined as an abstract base class using the abc module. The area method is marked as an abstract method using the @abc.abstractmethod decorator. When a subclass of Shape does not implement the area method, Python will raise a TypeError at runtime, indicating that the subclass must implement the area method. The Square class is a concrete subclass of Shape that implements the area method and can be instantiated."
   ]
  },
  {
   "cell_type": "markdown",
   "id": "887c7421-1fd2-4968-9df2-abe7e2a6bf21",
   "metadata": {},
   "source": []
  },
  {
   "cell_type": "markdown",
   "id": "2c7214f4-fbf3-4c12-816a-670408b9c96e",
   "metadata": {},
   "source": [
    "### Q4. How can we achieve data abstraction?\n",
    "Data abstraction is achieved in programming languages by hiding the implementation details of an object and exposing only its essential behavior and attributes. This allows the programmer to focus on the object's behavior and use, without being concerned with the details of how it works.\n",
    "\n",
    "In object-oriented programming (OOP), data abstraction can be achieved through the use of classes, objects, and encapsulation.\n",
    "\n",
    "Classes provide a blueprint for creating objects that have a specific behavior and attributes. Encapsulation refers to the practice of keeping the implementation details of an object hidden, and exposing only the necessary information and behavior to the outside world. Encapsulation can be achieved by using access control mechanisms such as private and protected class members."
   ]
  },
  {
   "cell_type": "code",
   "execution_count": 6,
   "id": "bd007b1a-9f8d-404e-9f63-8ac00a7549e1",
   "metadata": {},
   "outputs": [],
   "source": [
    "class BankAccount:\n",
    "    def __init__(self, balance):\n",
    "        self.__balance = balance\n",
    "\n",
    "    def deposit(self, amount):\n",
    "        self.__balance += amount\n",
    "\n",
    "    def withdraw(self, amount):\n",
    "        if self.__balance >= amount:\n",
    "            self.__balance -= amount\n",
    "        else:\n",
    "            print(\"Insufficient funds\")\n",
    "\n",
    "    def get_balance(self):\n",
    "        return self.__balance\n"
   ]
  },
  {
   "cell_type": "code",
   "execution_count": null,
   "id": "0b5b7283-c739-450e-8b12-c358f6ac35c0",
   "metadata": {},
   "outputs": [],
   "source": []
  },
  {
   "cell_type": "markdown",
   "id": "eb6f0e9f-cddb-49d3-ad1f-8c73e508f8bd",
   "metadata": {},
   "source": [
    "### Q5. Can we create an instance of an abstract class? Explain your answer.\n",
    "No, you cannot create an instance of an abstract class. An abstract class is a class that is meant to serve as a base class for other classes, and it is not meant to be instantiated itself. The purpose of an abstract class is to provide a common interface for a group of related objects, and to ensure that subclasses of the abstract class implement certain methods.\n",
    "\n",
    "In Python, you can define an abstract class using the abc module, which provides a way to define abstract methods. Abstract methods are methods that don't have an implementation in the abstract class, but must be implemented by any concrete (i.e., non-abstract) subclass."
   ]
  },
  {
   "cell_type": "code",
   "execution_count": null,
   "id": "2826f7eb-dfc8-4e5c-b145-e1f81d053999",
   "metadata": {},
   "outputs": [],
   "source": [
    "import abc\n",
    "\n",
    "class Shape(metaclass=abc.ABCMeta):\n",
    "    @abc.abstractmethod\n",
    "    def area(self):\n",
    "        pass"
   ]
  },
  {
   "cell_type": "markdown",
   "id": "628164df-ab37-4308-9f77-98272212bfdf",
   "metadata": {},
   "source": [
    "In this example, the Shape class is defined as an abstract class using the abc module, and the area method is defined as an abstract method using the @abc.abstractmethod decorator.\n",
    "\n",
    "Since an abstract class is not meant to be instantiated, trying to create an instance of the Shape class will raise a TypeError, indicating that the abstract class cannot be instantiated:\n",
    "\n",
    "* s = Shape()  # Raises TypeError: Can't instantiate abstract class Shape with abstract methods area\n",
    "* To use the abstract class, you must create a concrete subclass that implements the abstract methods and can be instantiated."
   ]
  }
 ],
 "metadata": {
  "kernelspec": {
   "display_name": "Python 3 (ipykernel)",
   "language": "python",
   "name": "python3"
  },
  "language_info": {
   "codemirror_mode": {
    "name": "ipython",
    "version": 3
   },
   "file_extension": ".py",
   "mimetype": "text/x-python",
   "name": "python",
   "nbconvert_exporter": "python",
   "pygments_lexer": "ipython3",
   "version": "3.10.8"
  }
 },
 "nbformat": 4,
 "nbformat_minor": 5
}
