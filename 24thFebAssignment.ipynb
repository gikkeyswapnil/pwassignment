{
 "cells": [
  {
   "cell_type": "code",
   "execution_count": 1,
   "id": "81ed8a22-84b0-4b9c-bb50-97dce228a230",
   "metadata": {},
   "outputs": [],
   "source": [
    "#importinf pandas for all answers\n",
    "import pandas as pd\n"
   ]
  },
  {
   "cell_type": "markdown",
   "id": "032b6815-18de-4827-9ea7-81fe66b3b838",
   "metadata": {},
   "source": [
    "## Q1. List any five functions of the pandas library with execution.\n",
    "### Ans: List of any five functions of pandas library :\n",
    "1. head() : This function helps you to get the first few rows of the dataset. By default, it returns the first 5 rows. However, you can change this number by simply mentioning the desired number of rows in df.head()\n",
    "1. tail() : This function helps you to get the last few rows of the dataset. By default, it returns the last 5 rows, and similar to .head(), you can simply mention the desired number of rows in df.tail()\n",
    "1. info() : This function returns a quick summary of the DataFrame. This includes information about column names and their respective data types, missing values, and memory consumption by DataFrame, as shown below.\n",
    "1. describe() : This function returns descriptive statistics about the data. This includes minimum, maximum, mean (central tendency), standard deviation (dispersion) of the values in numerical columns, and the count of all non-null values in the data\n",
    "1. unique() : This function returns the list of unique values in a column or series. Instead of applying on complete DataFrame, it works only on the selected single column.\n",
    "1. df.value_counts() :This function returns — how many times a value appeared in a column. So, you need to pass the specific column name to this function"
   ]
  },
  {
   "cell_type": "code",
   "execution_count": 4,
   "id": "1ec2036b-547b-408b-9cfa-9c9afd24fd4a",
   "metadata": {},
   "outputs": [],
   "source": [
    "df1 = pd.read_csv(\"https://raw.githubusercontent.com/17rsuraj/data-curious/master/TowardsDataScience/Dummy_Sales_Data_v1.csv\")"
   ]
  },
  {
   "cell_type": "code",
   "execution_count": 5,
   "id": "6d88e7b5-b85c-465d-b0eb-376e6af4cbe4",
   "metadata": {},
   "outputs": [
    {
     "data": {
      "text/html": [
       "<div>\n",
       "<style scoped>\n",
       "    .dataframe tbody tr th:only-of-type {\n",
       "        vertical-align: middle;\n",
       "    }\n",
       "\n",
       "    .dataframe tbody tr th {\n",
       "        vertical-align: top;\n",
       "    }\n",
       "\n",
       "    .dataframe thead th {\n",
       "        text-align: right;\n",
       "    }\n",
       "</style>\n",
       "<table border=\"1\" class=\"dataframe\">\n",
       "  <thead>\n",
       "    <tr style=\"text-align: right;\">\n",
       "      <th></th>\n",
       "      <th>OrderID</th>\n",
       "      <th>Quantity</th>\n",
       "      <th>UnitPrice(USD)</th>\n",
       "      <th>Status</th>\n",
       "      <th>OrderDate</th>\n",
       "      <th>Product_Category</th>\n",
       "      <th>Sales_Manager</th>\n",
       "      <th>Shipping_Cost(USD)</th>\n",
       "      <th>Delivery_Time(Days)</th>\n",
       "      <th>Shipping_Address</th>\n",
       "      <th>Product_Code</th>\n",
       "      <th>OrderCode</th>\n",
       "    </tr>\n",
       "  </thead>\n",
       "  <tbody>\n",
       "    <tr>\n",
       "      <th>0</th>\n",
       "      <td>2951110000999929511</td>\n",
       "      <td>92</td>\n",
       "      <td>238</td>\n",
       "      <td>Not Delivered</td>\n",
       "      <td>2021-08-08</td>\n",
       "      <td>Healthcare</td>\n",
       "      <td>Pablo</td>\n",
       "      <td>21</td>\n",
       "      <td>25.0</td>\n",
       "      <td>Singapore</td>\n",
       "      <td>HC-188</td>\n",
       "      <td>444116</td>\n",
       "    </tr>\n",
       "    <tr>\n",
       "      <th>1</th>\n",
       "      <td>2181910000999921819</td>\n",
       "      <td>61</td>\n",
       "      <td>136</td>\n",
       "      <td>Not Delivered</td>\n",
       "      <td>2021-10-03</td>\n",
       "      <td>Office</td>\n",
       "      <td>Pablo</td>\n",
       "      <td>34</td>\n",
       "      <td>14.0</td>\n",
       "      <td>UK</td>\n",
       "      <td>O-555</td>\n",
       "      <td>444772</td>\n",
       "    </tr>\n",
       "    <tr>\n",
       "      <th>2</th>\n",
       "      <td>3239110000999932391</td>\n",
       "      <td>67</td>\n",
       "      <td>235</td>\n",
       "      <td>Not Delivered</td>\n",
       "      <td>2021-09-27</td>\n",
       "      <td>Office</td>\n",
       "      <td>Kristen</td>\n",
       "      <td>25</td>\n",
       "      <td>11.0</td>\n",
       "      <td>Kenya</td>\n",
       "      <td>O-188</td>\n",
       "      <td>444666</td>\n",
       "    </tr>\n",
       "    <tr>\n",
       "      <th>3</th>\n",
       "      <td>1112610000999911126</td>\n",
       "      <td>33</td>\n",
       "      <td>133</td>\n",
       "      <td>Not Shipped</td>\n",
       "      <td>2021-07-30</td>\n",
       "      <td>Fashion</td>\n",
       "      <td>Abdul</td>\n",
       "      <td>34</td>\n",
       "      <td>24.0</td>\n",
       "      <td>USA</td>\n",
       "      <td>F-555</td>\n",
       "      <td>444007</td>\n",
       "    </tr>\n",
       "  </tbody>\n",
       "</table>\n",
       "</div>"
      ],
      "text/plain": [
       "               OrderID  Quantity  UnitPrice(USD)         Status   OrderDate  \\\n",
       "0  2951110000999929511        92             238  Not Delivered  2021-08-08   \n",
       "1  2181910000999921819        61             136  Not Delivered  2021-10-03   \n",
       "2  3239110000999932391        67             235  Not Delivered  2021-09-27   \n",
       "3  1112610000999911126        33             133    Not Shipped  2021-07-30   \n",
       "\n",
       "  Product_Category Sales_Manager  Shipping_Cost(USD)  Delivery_Time(Days)  \\\n",
       "0       Healthcare         Pablo                  21                 25.0   \n",
       "1           Office         Pablo                  34                 14.0   \n",
       "2           Office       Kristen                  25                 11.0   \n",
       "3          Fashion         Abdul                  34                 24.0   \n",
       "\n",
       "  Shipping_Address Product_Code  OrderCode  \n",
       "0        Singapore       HC-188     444116  \n",
       "1               UK        O-555     444772  \n",
       "2            Kenya        O-188     444666  \n",
       "3              USA        F-555     444007  "
      ]
     },
     "execution_count": 5,
     "metadata": {},
     "output_type": "execute_result"
    }
   ],
   "source": [
    "### head()\n",
    "df1.head(4)"
   ]
  },
  {
   "cell_type": "code",
   "execution_count": 6,
   "id": "ceb22c95-3014-45f6-ac97-1b085f1f5d20",
   "metadata": {},
   "outputs": [
    {
     "data": {
      "text/html": [
       "<div>\n",
       "<style scoped>\n",
       "    .dataframe tbody tr th:only-of-type {\n",
       "        vertical-align: middle;\n",
       "    }\n",
       "\n",
       "    .dataframe tbody tr th {\n",
       "        vertical-align: top;\n",
       "    }\n",
       "\n",
       "    .dataframe thead th {\n",
       "        text-align: right;\n",
       "    }\n",
       "</style>\n",
       "<table border=\"1\" class=\"dataframe\">\n",
       "  <thead>\n",
       "    <tr style=\"text-align: right;\">\n",
       "      <th></th>\n",
       "      <th>OrderID</th>\n",
       "      <th>Quantity</th>\n",
       "      <th>UnitPrice(USD)</th>\n",
       "      <th>Status</th>\n",
       "      <th>OrderDate</th>\n",
       "      <th>Product_Category</th>\n",
       "      <th>Sales_Manager</th>\n",
       "      <th>Shipping_Cost(USD)</th>\n",
       "      <th>Delivery_Time(Days)</th>\n",
       "      <th>Shipping_Address</th>\n",
       "      <th>Product_Code</th>\n",
       "      <th>OrderCode</th>\n",
       "    </tr>\n",
       "  </thead>\n",
       "  <tbody>\n",
       "    <tr>\n",
       "      <th>9995</th>\n",
       "      <td>1847410000999918474</td>\n",
       "      <td>37</td>\n",
       "      <td>135</td>\n",
       "      <td>Shipped</td>\n",
       "      <td>2021-10-03</td>\n",
       "      <td>Healthcare</td>\n",
       "      <td>Maria</td>\n",
       "      <td>30</td>\n",
       "      <td>23.0</td>\n",
       "      <td>China</td>\n",
       "      <td>HC-901</td>\n",
       "      <td>444772</td>\n",
       "    </tr>\n",
       "    <tr>\n",
       "      <th>9996</th>\n",
       "      <td>2385710000999923857</td>\n",
       "      <td>81</td>\n",
       "      <td>207</td>\n",
       "      <td>Delivered</td>\n",
       "      <td>2021-11-13</td>\n",
       "      <td>Office</td>\n",
       "      <td>Emma</td>\n",
       "      <td>29</td>\n",
       "      <td>18.0</td>\n",
       "      <td>USA</td>\n",
       "      <td>O-203</td>\n",
       "      <td>445113</td>\n",
       "    </tr>\n",
       "    <tr>\n",
       "      <th>9997</th>\n",
       "      <td>2281610000999922816</td>\n",
       "      <td>18</td>\n",
       "      <td>117</td>\n",
       "      <td>Shipped</td>\n",
       "      <td>2021-12-23</td>\n",
       "      <td>Fashion</td>\n",
       "      <td>Stella</td>\n",
       "      <td>22</td>\n",
       "      <td>24.0</td>\n",
       "      <td>Italy</td>\n",
       "      <td>F-101</td>\n",
       "      <td>445553</td>\n",
       "    </tr>\n",
       "    <tr>\n",
       "      <th>9998</th>\n",
       "      <td>1468010000999914680</td>\n",
       "      <td>53</td>\n",
       "      <td>229</td>\n",
       "      <td>Delivered</td>\n",
       "      <td>2021-07-12</td>\n",
       "      <td>Entertainment</td>\n",
       "      <td>Anthony</td>\n",
       "      <td>25</td>\n",
       "      <td>12.0</td>\n",
       "      <td>Singapore</td>\n",
       "      <td>ENT-630</td>\n",
       "      <td>443889</td>\n",
       "    </tr>\n",
       "  </tbody>\n",
       "</table>\n",
       "</div>"
      ],
      "text/plain": [
       "                  OrderID  Quantity  UnitPrice(USD)     Status   OrderDate  \\\n",
       "9995  1847410000999918474        37             135    Shipped  2021-10-03   \n",
       "9996  2385710000999923857        81             207  Delivered  2021-11-13   \n",
       "9997  2281610000999922816        18             117    Shipped  2021-12-23   \n",
       "9998  1468010000999914680        53             229  Delivered  2021-07-12   \n",
       "\n",
       "     Product_Category Sales_Manager  Shipping_Cost(USD)  Delivery_Time(Days)  \\\n",
       "9995       Healthcare         Maria                  30                 23.0   \n",
       "9996           Office          Emma                  29                 18.0   \n",
       "9997          Fashion        Stella                  22                 24.0   \n",
       "9998    Entertainment       Anthony                  25                 12.0   \n",
       "\n",
       "     Shipping_Address Product_Code  OrderCode  \n",
       "9995            China       HC-901     444772  \n",
       "9996              USA        O-203     445113  \n",
       "9997            Italy        F-101     445553  \n",
       "9998        Singapore      ENT-630     443889  "
      ]
     },
     "execution_count": 6,
     "metadata": {},
     "output_type": "execute_result"
    }
   ],
   "source": [
    "df1.tail(4)"
   ]
  },
  {
   "cell_type": "code",
   "execution_count": 10,
   "id": "528ee7ff-e8db-4316-81f2-ec0a115ae78e",
   "metadata": {},
   "outputs": [
    {
     "data": {
      "text/plain": [
       "array([2951110000999929511, 2181910000999921819, 3239110000999932391, ...,\n",
       "       1847410000999918474, 2281610000999922816, 1468010000999914680])"
      ]
     },
     "execution_count": 10,
     "metadata": {},
     "output_type": "execute_result"
    }
   ],
   "source": [
    "df1['OrderID'].unique()"
   ]
  },
  {
   "cell_type": "code",
   "execution_count": 11,
   "id": "33a051c1-d188-4059-a67f-bbcb7012f451",
   "metadata": {},
   "outputs": [
    {
     "name": "stdout",
     "output_type": "stream",
     "text": [
      "<class 'pandas.core.frame.DataFrame'>\n",
      "RangeIndex: 9999 entries, 0 to 9998\n",
      "Data columns (total 12 columns):\n",
      " #   Column               Non-Null Count  Dtype  \n",
      "---  ------               --------------  -----  \n",
      " 0   OrderID              9999 non-null   int64  \n",
      " 1   Quantity             9999 non-null   int64  \n",
      " 2   UnitPrice(USD)       9999 non-null   int64  \n",
      " 3   Status               9999 non-null   object \n",
      " 4   OrderDate            9999 non-null   object \n",
      " 5   Product_Category     9963 non-null   object \n",
      " 6   Sales_Manager        9999 non-null   object \n",
      " 7   Shipping_Cost(USD)   9999 non-null   int64  \n",
      " 8   Delivery_Time(Days)  9948 non-null   float64\n",
      " 9   Shipping_Address     9999 non-null   object \n",
      " 10  Product_Code         9999 non-null   object \n",
      " 11  OrderCode            9999 non-null   int64  \n",
      "dtypes: float64(1), int64(5), object(6)\n",
      "memory usage: 937.5+ KB\n"
     ]
    }
   ],
   "source": [
    "df1.info()"
   ]
  },
  {
   "cell_type": "code",
   "execution_count": 12,
   "id": "a72c94f0-b136-4d86-814f-76e0521bb790",
   "metadata": {},
   "outputs": [
    {
     "data": {
      "text/html": [
       "<div>\n",
       "<style scoped>\n",
       "    .dataframe tbody tr th:only-of-type {\n",
       "        vertical-align: middle;\n",
       "    }\n",
       "\n",
       "    .dataframe tbody tr th {\n",
       "        vertical-align: top;\n",
       "    }\n",
       "\n",
       "    .dataframe thead th {\n",
       "        text-align: right;\n",
       "    }\n",
       "</style>\n",
       "<table border=\"1\" class=\"dataframe\">\n",
       "  <thead>\n",
       "    <tr style=\"text-align: right;\">\n",
       "      <th></th>\n",
       "      <th>OrderID</th>\n",
       "      <th>Quantity</th>\n",
       "      <th>UnitPrice(USD)</th>\n",
       "      <th>Shipping_Cost(USD)</th>\n",
       "      <th>Delivery_Time(Days)</th>\n",
       "      <th>OrderCode</th>\n",
       "    </tr>\n",
       "  </thead>\n",
       "  <tbody>\n",
       "    <tr>\n",
       "      <th>count</th>\n",
       "      <td>9.999000e+03</td>\n",
       "      <td>9999.000000</td>\n",
       "      <td>9999.000000</td>\n",
       "      <td>9999.000000</td>\n",
       "      <td>9948.000000</td>\n",
       "      <td>9999.000000</td>\n",
       "    </tr>\n",
       "    <tr>\n",
       "      <th>mean</th>\n",
       "      <td>3.020951e+18</td>\n",
       "      <td>50.739874</td>\n",
       "      <td>175.620662</td>\n",
       "      <td>27.571857</td>\n",
       "      <td>17.518396</td>\n",
       "      <td>444682.917392</td>\n",
       "    </tr>\n",
       "    <tr>\n",
       "      <th>std</th>\n",
       "      <td>1.167549e+18</td>\n",
       "      <td>29.005532</td>\n",
       "      <td>43.527995</td>\n",
       "      <td>4.610452</td>\n",
       "      <td>4.609531</td>\n",
       "      <td>525.343171</td>\n",
       "    </tr>\n",
       "    <tr>\n",
       "      <th>min</th>\n",
       "      <td>1.010010e+18</td>\n",
       "      <td>1.000000</td>\n",
       "      <td>100.000000</td>\n",
       "      <td>20.000000</td>\n",
       "      <td>10.000000</td>\n",
       "      <td>443880.000000</td>\n",
       "    </tr>\n",
       "    <tr>\n",
       "      <th>25%</th>\n",
       "      <td>2.010410e+18</td>\n",
       "      <td>26.000000</td>\n",
       "      <td>138.000000</td>\n",
       "      <td>24.000000</td>\n",
       "      <td>14.000000</td>\n",
       "      <td>444222.000000</td>\n",
       "    </tr>\n",
       "    <tr>\n",
       "      <th>50%</th>\n",
       "      <td>3.002410e+18</td>\n",
       "      <td>51.000000</td>\n",
       "      <td>176.000000</td>\n",
       "      <td>28.000000</td>\n",
       "      <td>18.000000</td>\n",
       "      <td>444772.000000</td>\n",
       "    </tr>\n",
       "    <tr>\n",
       "      <th>75%</th>\n",
       "      <td>4.024510e+18</td>\n",
       "      <td>76.000000</td>\n",
       "      <td>213.000000</td>\n",
       "      <td>32.000000</td>\n",
       "      <td>22.000000</td>\n",
       "      <td>445113.000000</td>\n",
       "    </tr>\n",
       "    <tr>\n",
       "      <th>max</th>\n",
       "      <td>5.049610e+18</td>\n",
       "      <td>100.000000</td>\n",
       "      <td>250.000000</td>\n",
       "      <td>35.000000</td>\n",
       "      <td>25.000000</td>\n",
       "      <td>445660.000000</td>\n",
       "    </tr>\n",
       "  </tbody>\n",
       "</table>\n",
       "</div>"
      ],
      "text/plain": [
       "            OrderID     Quantity  UnitPrice(USD)  Shipping_Cost(USD)  \\\n",
       "count  9.999000e+03  9999.000000     9999.000000         9999.000000   \n",
       "mean   3.020951e+18    50.739874      175.620662           27.571857   \n",
       "std    1.167549e+18    29.005532       43.527995            4.610452   \n",
       "min    1.010010e+18     1.000000      100.000000           20.000000   \n",
       "25%    2.010410e+18    26.000000      138.000000           24.000000   \n",
       "50%    3.002410e+18    51.000000      176.000000           28.000000   \n",
       "75%    4.024510e+18    76.000000      213.000000           32.000000   \n",
       "max    5.049610e+18   100.000000      250.000000           35.000000   \n",
       "\n",
       "       Delivery_Time(Days)      OrderCode  \n",
       "count          9948.000000    9999.000000  \n",
       "mean             17.518396  444682.917392  \n",
       "std               4.609531     525.343171  \n",
       "min              10.000000  443880.000000  \n",
       "25%              14.000000  444222.000000  \n",
       "50%              18.000000  444772.000000  \n",
       "75%              22.000000  445113.000000  \n",
       "max              25.000000  445660.000000  "
      ]
     },
     "execution_count": 12,
     "metadata": {},
     "output_type": "execute_result"
    }
   ],
   "source": [
    "df1.describe()"
   ]
  },
  {
   "cell_type": "code",
   "execution_count": 13,
   "id": "d75104cf-9c66-4c31-9595-bef2df4d5a8e",
   "metadata": {},
   "outputs": [
    {
     "data": {
      "text/plain": [
       "OrderID              Quantity  UnitPrice(USD)  Status         OrderDate   Product_Category  Sales_Manager  Shipping_Cost(USD)  Delivery_Time(Days)  Shipping_Address  Product_Code  OrderCode\n",
       "1010010000999910100  10        101             Shipped        2021-10-16  Healthcare        Jacob          35                  14.0                 Germany           HC-188        444885       1\n",
       "3691010000999936910  35        169             Not Delivered  2021-10-17  Office            Pablo          21                  21.0                 Kenya             O-630         444886       1\n",
       "3687210000999936872  69        132             Not Shipped    2021-08-08  Office            Anthony        21                  12.0                 China             O-901         444116       1\n",
       "3687510000999936875  75        169             Shipped        2021-07-04  Home              Jacob          23                  11.0                 India             H-203         443881       1\n",
       "3688410000999936884  59        229             Not Shipped    2021-09-14  Home              Abdul          34                  16.0                 UK                H-555         444553       1\n",
       "                                                                                                                                                                                                ..\n",
       "2348210000999923482  69        175             Not Shipped    2021-09-30  Entertainment     Abdul          23                  10.0                 China             ENT-901       444669       1\n",
       "2348510000999923485  66        243             Delivered      2021-11-11  Healthcare        Sofia          33                  21.0                 Italy             HC-101        445111       1\n",
       "2348810000999923488  11        142             Shipped        2021-07-03  Fashion           John           35                  24.0                 Singapore         F-101         443880       1\n",
       "2349110000999923491  78        193             Not Delivered  2021-12-23  Entertainment     Emma           32                  16.0                 USA               ENT-101       445553       1\n",
       "5049610000999950496  73        248             Shipped        2021-10-17  Office            Abdul          28                  15.0                 UK                O-101         444886       1\n",
       "Length: 9912, dtype: int64"
      ]
     },
     "execution_count": 13,
     "metadata": {},
     "output_type": "execute_result"
    }
   ],
   "source": [
    "df1.value_counts()"
   ]
  },
  {
   "cell_type": "markdown",
   "id": "cd643376-45f7-47e4-b41e-929e96d793a7",
   "metadata": {},
   "source": []
  },
  {
   "cell_type": "markdown",
   "id": "64adc7d8-8e1e-4f22-bf14-ae3aca86ec51",
   "metadata": {},
   "source": [
    "## Q2. Given a Pandas DataFrame df with columns 'A', 'B', and 'C', write a Python function to re-index the DataFrame with a new index that starts from 1 and increments by 2 for each row.\n",
    "### Ans:\n"
   ]
  },
  {
   "cell_type": "code",
   "execution_count": 4,
   "id": "34101348-7322-4d99-be3e-9fb739761136",
   "metadata": {},
   "outputs": [
    {
     "data": {
      "text/html": [
       "<div>\n",
       "<style scoped>\n",
       "    .dataframe tbody tr th:only-of-type {\n",
       "        vertical-align: middle;\n",
       "    }\n",
       "\n",
       "    .dataframe tbody tr th {\n",
       "        vertical-align: top;\n",
       "    }\n",
       "\n",
       "    .dataframe thead th {\n",
       "        text-align: right;\n",
       "    }\n",
       "</style>\n",
       "<table border=\"1\" class=\"dataframe\">\n",
       "  <thead>\n",
       "    <tr style=\"text-align: right;\">\n",
       "      <th></th>\n",
       "      <th>A</th>\n",
       "      <th>B</th>\n",
       "      <th>C</th>\n",
       "    </tr>\n",
       "  </thead>\n",
       "  <tbody>\n",
       "    <tr>\n",
       "      <th>0</th>\n",
       "      <td>10</td>\n",
       "      <td>11</td>\n",
       "      <td>21</td>\n",
       "    </tr>\n",
       "    <tr>\n",
       "      <th>1</th>\n",
       "      <td>0</td>\n",
       "      <td>12</td>\n",
       "      <td>22</td>\n",
       "    </tr>\n",
       "    <tr>\n",
       "      <th>2</th>\n",
       "      <td>30</td>\n",
       "      <td>13</td>\n",
       "      <td>23</td>\n",
       "    </tr>\n",
       "  </tbody>\n",
       "</table>\n",
       "</div>"
      ],
      "text/plain": [
       "    A   B   C\n",
       "0  10  11  21\n",
       "1   0  12  22\n",
       "2  30  13  23"
      ]
     },
     "execution_count": 4,
     "metadata": {},
     "output_type": "execute_result"
    }
   ],
   "source": [
    "df2 = pd.DataFrame({\"A\":[10,0,30],\"B\":[11,12,13],\"C\":[21,22,23]})\n",
    "df2"
   ]
  },
  {
   "cell_type": "code",
   "execution_count": 5,
   "id": "ab6081af-9313-4992-942a-84e280a2f52d",
   "metadata": {},
   "outputs": [],
   "source": [
    "# def Reindex_Df(df):\n",
    "#     df.index = pd.Index(range(1, len(df)*2, 2))\n",
    "#     return df\n",
    "\n",
    "def Reindex_Df(df):\n",
    "    new_index = pd.Index(range(1, 2*len(df)+1, 2), name='new_index')\n",
    "    return df.set_index(new_index)\n"
   ]
  },
  {
   "cell_type": "code",
   "execution_count": 6,
   "id": "869e5186-27bb-474c-8d41-946d520460cf",
   "metadata": {},
   "outputs": [
    {
     "data": {
      "text/html": [
       "<div>\n",
       "<style scoped>\n",
       "    .dataframe tbody tr th:only-of-type {\n",
       "        vertical-align: middle;\n",
       "    }\n",
       "\n",
       "    .dataframe tbody tr th {\n",
       "        vertical-align: top;\n",
       "    }\n",
       "\n",
       "    .dataframe thead th {\n",
       "        text-align: right;\n",
       "    }\n",
       "</style>\n",
       "<table border=\"1\" class=\"dataframe\">\n",
       "  <thead>\n",
       "    <tr style=\"text-align: right;\">\n",
       "      <th></th>\n",
       "      <th>A</th>\n",
       "      <th>B</th>\n",
       "      <th>C</th>\n",
       "    </tr>\n",
       "    <tr>\n",
       "      <th>new_index</th>\n",
       "      <th></th>\n",
       "      <th></th>\n",
       "      <th></th>\n",
       "    </tr>\n",
       "  </thead>\n",
       "  <tbody>\n",
       "    <tr>\n",
       "      <th>1</th>\n",
       "      <td>10</td>\n",
       "      <td>11</td>\n",
       "      <td>21</td>\n",
       "    </tr>\n",
       "    <tr>\n",
       "      <th>3</th>\n",
       "      <td>0</td>\n",
       "      <td>12</td>\n",
       "      <td>22</td>\n",
       "    </tr>\n",
       "    <tr>\n",
       "      <th>5</th>\n",
       "      <td>30</td>\n",
       "      <td>13</td>\n",
       "      <td>23</td>\n",
       "    </tr>\n",
       "  </tbody>\n",
       "</table>\n",
       "</div>"
      ],
      "text/plain": [
       "            A   B   C\n",
       "new_index            \n",
       "1          10  11  21\n",
       "3           0  12  22\n",
       "5          30  13  23"
      ]
     },
     "execution_count": 6,
     "metadata": {},
     "output_type": "execute_result"
    }
   ],
   "source": [
    "Reindex_Df(df2)"
   ]
  },
  {
   "cell_type": "markdown",
   "id": "1765092b-4e0e-4f94-b2f9-24296a25321a",
   "metadata": {},
   "source": [
    "## Q3. You have a Pandas DataFrame df with a column named 'Values'. Write a Python function that iterates over the DataFrame and calculates the sum of the first three values in the 'Values' column.The function should print the sum to the console.For example, if the 'Values' column of df contains the values [10, 20, 30, 40, 50], your function should calculate and print the sum of the first three values, which is 60.\n",
    "### Ans:\n"
   ]
  },
  {
   "cell_type": "code",
   "execution_count": 14,
   "id": "efd7c04c-1d39-453f-b741-f1105613fd47",
   "metadata": {},
   "outputs": [],
   "source": [
    "df3 = pd.DataFrame({\"Values\":[10,20,30,40,50]})\n",
    "\n",
    "# for sum of furst 3 values we have to create a function\n",
    "# def Sum_Df(df):\n",
    "    # total = 0\n",
    "    # count = 0\n",
    "    # for i in df['Values']:\n",
    "    #     if count < 3:\n",
    "    #         total += i\n",
    "    #         count += 1\n",
    "    #     else:\n",
    "    #         break\n",
    "    # print(total)\n",
    "\n",
    "# using iterrows()\n",
    "def Sum_Df(df):\n",
    "    sum = 0\n",
    "    for i, row in df.iterrows():\n",
    "        if i < 3:\n",
    "            sum += row['Values']\n",
    "        else:\n",
    "            break\n",
    "    print(f\"Sum of the first three values in the 'Values' column: {sum}\")\n"
   ]
  },
  {
   "cell_type": "code",
   "execution_count": 13,
   "id": "1ca2e89e-f7cf-4af9-b47d-68604ce5fcbf",
   "metadata": {},
   "outputs": [
    {
     "name": "stdout",
     "output_type": "stream",
     "text": [
      "Sum of the first three values in the 'Values' column: 60\n"
     ]
    }
   ],
   "source": [
    "Sum_Df(df3)"
   ]
  },
  {
   "cell_type": "markdown",
   "id": "fc6ea84f-01a3-400b-acfb-c2ad9e5b2ce1",
   "metadata": {},
   "source": []
  },
  {
   "cell_type": "markdown",
   "id": "60425567-6280-4255-8aa9-82bd90fb8a9e",
   "metadata": {},
   "source": [
    "## Q4. Given a Pandas DataFrame df with a column 'Text', write a Python function to create a new column 'Word_Count' that contains the number of words in each row of the 'Text' column.\n",
    "### Ans:\n"
   ]
  },
  {
   "cell_type": "code",
   "execution_count": 15,
   "id": "f337ba7e-1e92-46ea-948d-6efda0f4b4e8",
   "metadata": {},
   "outputs": [],
   "source": [
    "df4 = pd.DataFrame({\"Text\":[\"hi my name is aniruddha\",\"i am from nanded\",\"learning Data Science\",\"little bit hard but enjoying\",\"nanded is a part of mahrashtra\",\"bybyb bye\"]})\n",
    "\n",
    "# for counting words from text column \n",
    "def Text_Count(df):\n",
    "    df['Word_Count'] = df['Text'].apply(lambda x: len(x.split())) # spliting words by blankspace\n",
    "    return df"
   ]
  },
  {
   "cell_type": "code",
   "execution_count": 16,
   "id": "bf9edb7e-4c34-49d3-a381-b1055caf2088",
   "metadata": {},
   "outputs": [
    {
     "data": {
      "text/html": [
       "<div>\n",
       "<style scoped>\n",
       "    .dataframe tbody tr th:only-of-type {\n",
       "        vertical-align: middle;\n",
       "    }\n",
       "\n",
       "    .dataframe tbody tr th {\n",
       "        vertical-align: top;\n",
       "    }\n",
       "\n",
       "    .dataframe thead th {\n",
       "        text-align: right;\n",
       "    }\n",
       "</style>\n",
       "<table border=\"1\" class=\"dataframe\">\n",
       "  <thead>\n",
       "    <tr style=\"text-align: right;\">\n",
       "      <th></th>\n",
       "      <th>Text</th>\n",
       "      <th>Word_Count</th>\n",
       "    </tr>\n",
       "  </thead>\n",
       "  <tbody>\n",
       "    <tr>\n",
       "      <th>0</th>\n",
       "      <td>hi my name is aniruddha</td>\n",
       "      <td>5</td>\n",
       "    </tr>\n",
       "    <tr>\n",
       "      <th>1</th>\n",
       "      <td>i am from nanded</td>\n",
       "      <td>4</td>\n",
       "    </tr>\n",
       "    <tr>\n",
       "      <th>2</th>\n",
       "      <td>learning Data Science</td>\n",
       "      <td>3</td>\n",
       "    </tr>\n",
       "    <tr>\n",
       "      <th>3</th>\n",
       "      <td>little bit hard but enjoying</td>\n",
       "      <td>5</td>\n",
       "    </tr>\n",
       "    <tr>\n",
       "      <th>4</th>\n",
       "      <td>nanded is a part of mahrashtra</td>\n",
       "      <td>6</td>\n",
       "    </tr>\n",
       "    <tr>\n",
       "      <th>5</th>\n",
       "      <td>bybyb bye</td>\n",
       "      <td>2</td>\n",
       "    </tr>\n",
       "  </tbody>\n",
       "</table>\n",
       "</div>"
      ],
      "text/plain": [
       "                             Text  Word_Count\n",
       "0         hi my name is aniruddha           5\n",
       "1                i am from nanded           4\n",
       "2           learning Data Science           3\n",
       "3    little bit hard but enjoying           5\n",
       "4  nanded is a part of mahrashtra           6\n",
       "5                       bybyb bye           2"
      ]
     },
     "execution_count": 16,
     "metadata": {},
     "output_type": "execute_result"
    }
   ],
   "source": [
    "Text_Count(df4)"
   ]
  },
  {
   "cell_type": "markdown",
   "id": "d6480759-7d85-49fc-895d-03529a8e1538",
   "metadata": {},
   "source": [
    "## Q5. How are DataFrame.size() and DataFrame.shape() different?\n",
    "### Ans:\n",
    "* DataFrame.size() : DataFrame.size returns the total number of elements in the DataFrame. This is calculated as the product of the number of rows (DataFrame.shape[0]) and the number of columns (DataFrame.shape[1]). In other words, DataFrame.size returns the total number of cells in the DataFrame, including empty cells.\n",
    "\n",
    "* DataFrame.shape() : DataFrame.shape returns a tuple containing the number of rows and columns in the DataFrame. The number of rows is the first element of the tuple (DataFrame.shape[0]), and the number of columns is the second element (DataFrame.shape[1])."
   ]
  },
  {
   "cell_type": "markdown",
   "id": "c6829d63-3bce-4e75-997d-89f3112236f8",
   "metadata": {},
   "source": [
    "## Q6. Which function of pandas do we use to read an excel file?\n",
    "### Ans:\n",
    "* To read an Excel file in Pandas, you can use the read_excel() function. This function is part of the pandas module and can read Excel files in various formats, including .xls and .xlsx. Here's an example of how to use the read_excel() function: df = pd.read_excel('file.xlsx')"
   ]
  },
  {
   "cell_type": "markdown",
   "id": "b03c184b-46b1-4481-9c2b-5689ba8e410a",
   "metadata": {},
   "source": [
    "## Q7. You have a Pandas DataFrame df that contains a column named 'Email' that contains email addresses in the format 'username@domain.com'. Write a Python function that creates a new column 'Username' in df that contains only the username part of each email address.The username is the part of the email address that appears before the '@' symbol. For example, if the email address is 'john.doe@example.com', the 'Username' column should contain 'john.doe'. Your function should extract the username from each email address and store it in the new 'Username' column.\n",
    "### Ans:\n"
   ]
  },
  {
   "cell_type": "code",
   "execution_count": 42,
   "id": "c1da3f29-8a54-411b-bfef-f4e6ee9f7129",
   "metadata": {},
   "outputs": [
    {
     "data": {
      "text/html": [
       "<div>\n",
       "<style scoped>\n",
       "    .dataframe tbody tr th:only-of-type {\n",
       "        vertical-align: middle;\n",
       "    }\n",
       "\n",
       "    .dataframe tbody tr th {\n",
       "        vertical-align: top;\n",
       "    }\n",
       "\n",
       "    .dataframe thead th {\n",
       "        text-align: right;\n",
       "    }\n",
       "</style>\n",
       "<table border=\"1\" class=\"dataframe\">\n",
       "  <thead>\n",
       "    <tr style=\"text-align: right;\">\n",
       "      <th></th>\n",
       "      <th>Email</th>\n",
       "    </tr>\n",
       "  </thead>\n",
       "  <tbody>\n",
       "    <tr>\n",
       "      <th>0</th>\n",
       "      <td>aniruddhakokate777@gmail.com</td>\n",
       "    </tr>\n",
       "  </tbody>\n",
       "</table>\n",
       "</div>"
      ],
      "text/plain": [
       "                          Email\n",
       "0  aniruddhakokate777@gmail.com"
      ]
     },
     "execution_count": 42,
     "metadata": {},
     "output_type": "execute_result"
    }
   ],
   "source": [
    "df7 = pd.DataFrame({\"Email\":[\"aniruddhakokate777@gmail.com\"]})\n",
    "def Get_Username(df):\n",
    "    df7['Username'] = df7['Email'].apply(lambda i: (i.split(\"@\")[0])) # spliting words by @\n",
    "    return df7"
   ]
  },
  {
   "cell_type": "code",
   "execution_count": 48,
   "id": "6e9e7d65-2984-42c9-b1ea-823d8eedbc7a",
   "metadata": {},
   "outputs": [
    {
     "data": {
      "text/html": [
       "<div>\n",
       "<style scoped>\n",
       "    .dataframe tbody tr th:only-of-type {\n",
       "        vertical-align: middle;\n",
       "    }\n",
       "\n",
       "    .dataframe tbody tr th {\n",
       "        vertical-align: top;\n",
       "    }\n",
       "\n",
       "    .dataframe thead th {\n",
       "        text-align: right;\n",
       "    }\n",
       "</style>\n",
       "<table border=\"1\" class=\"dataframe\">\n",
       "  <thead>\n",
       "    <tr style=\"text-align: right;\">\n",
       "      <th></th>\n",
       "      <th>Email</th>\n",
       "      <th>Username</th>\n",
       "    </tr>\n",
       "  </thead>\n",
       "  <tbody>\n",
       "    <tr>\n",
       "      <th>0</th>\n",
       "      <td>aniruddhakokate777@gmail.com</td>\n",
       "      <td>aniruddhakokate777</td>\n",
       "    </tr>\n",
       "  </tbody>\n",
       "</table>\n",
       "</div>"
      ],
      "text/plain": [
       "                          Email            Username\n",
       "0  aniruddhakokate777@gmail.com  aniruddhakokate777"
      ]
     },
     "execution_count": 48,
     "metadata": {},
     "output_type": "execute_result"
    }
   ],
   "source": [
    "Get_Username(df7)"
   ]
  },
  {
   "cell_type": "markdown",
   "id": "41b2e86e-ad5a-4631-bd80-37cdcf49ce1f",
   "metadata": {},
   "source": []
  },
  {
   "cell_type": "markdown",
   "id": "0c472b02-5d92-4dba-93b7-c738a1b93373",
   "metadata": {},
   "source": [
    "## Q8. You have a Pandas DataFrame df with columns 'A', 'B', and 'C'. Write a Python function that selects all rows where the value in column 'A' is greater than 5 and the value in column 'B' is less than 10.The function should return a new DataFrame that contains only the selected rows.\n",
    "* For example, if df contains the following values: (\n",
    "  A B C\n",
    "0 3 5 1\n",
    "1 8 2 7\n",
    "2 6 9 4\n",
    "3 2 3 5\n",
    "4 9 1 2)\n",
    "Your function should select the following rows: \n",
    "  A B C\n",
    "1 8 2 7\n",
    "4 9 1 2\n",
    "The function should return a new DataFrame that contains only the selected rows.\n",
    "### ANS:"
   ]
  },
  {
   "cell_type": "code",
   "execution_count": 12,
   "id": "e78bf660-0aa4-427b-9956-ba4051d8aa6c",
   "metadata": {},
   "outputs": [],
   "source": [
    "df8 = pd.DataFrame({\"A\":[3,8,6,2,9],\"B\":[5,2,9,3,1],\"C\":[1,7,4,5,2]})\n",
    "\n",
    "def Show_DF(df):\n",
    "    rows = df8[(df8['A']>5) & (df8['B'] < 10)]\n",
    "    return rows"
   ]
  },
  {
   "cell_type": "code",
   "execution_count": 13,
   "id": "560b3140-e99e-4919-92de-2a0851ef854e",
   "metadata": {},
   "outputs": [
    {
     "data": {
      "text/html": [
       "<div>\n",
       "<style scoped>\n",
       "    .dataframe tbody tr th:only-of-type {\n",
       "        vertical-align: middle;\n",
       "    }\n",
       "\n",
       "    .dataframe tbody tr th {\n",
       "        vertical-align: top;\n",
       "    }\n",
       "\n",
       "    .dataframe thead th {\n",
       "        text-align: right;\n",
       "    }\n",
       "</style>\n",
       "<table border=\"1\" class=\"dataframe\">\n",
       "  <thead>\n",
       "    <tr style=\"text-align: right;\">\n",
       "      <th></th>\n",
       "      <th>A</th>\n",
       "      <th>B</th>\n",
       "      <th>C</th>\n",
       "    </tr>\n",
       "  </thead>\n",
       "  <tbody>\n",
       "    <tr>\n",
       "      <th>1</th>\n",
       "      <td>8</td>\n",
       "      <td>2</td>\n",
       "      <td>7</td>\n",
       "    </tr>\n",
       "    <tr>\n",
       "      <th>2</th>\n",
       "      <td>6</td>\n",
       "      <td>9</td>\n",
       "      <td>4</td>\n",
       "    </tr>\n",
       "    <tr>\n",
       "      <th>4</th>\n",
       "      <td>9</td>\n",
       "      <td>1</td>\n",
       "      <td>2</td>\n",
       "    </tr>\n",
       "  </tbody>\n",
       "</table>\n",
       "</div>"
      ],
      "text/plain": [
       "   A  B  C\n",
       "1  8  2  7\n",
       "2  6  9  4\n",
       "4  9  1  2"
      ]
     },
     "execution_count": 13,
     "metadata": {},
     "output_type": "execute_result"
    }
   ],
   "source": [
    "Show_DF(df8)"
   ]
  },
  {
   "cell_type": "markdown",
   "id": "3c974b23-6b12-4207-92bf-c71bb954f4f1",
   "metadata": {},
   "source": []
  },
  {
   "cell_type": "markdown",
   "id": "b75af121-7c6c-4321-a25d-e7877f22b696",
   "metadata": {},
   "source": [
    "## Q9. Given a Pandas DataFrame df with a column 'Values', write a Python function to calculate the mean,median, and standard deviation of the values in the 'Values' column.\n",
    "### Ans:"
   ]
  },
  {
   "cell_type": "code",
   "execution_count": 15,
   "id": "fa0f8ee8-d363-453d-bec9-3b056d9e960f",
   "metadata": {},
   "outputs": [
    {
     "data": {
      "text/html": [
       "<div>\n",
       "<style scoped>\n",
       "    .dataframe tbody tr th:only-of-type {\n",
       "        vertical-align: middle;\n",
       "    }\n",
       "\n",
       "    .dataframe tbody tr th {\n",
       "        vertical-align: top;\n",
       "    }\n",
       "\n",
       "    .dataframe thead th {\n",
       "        text-align: right;\n",
       "    }\n",
       "</style>\n",
       "<table border=\"1\" class=\"dataframe\">\n",
       "  <thead>\n",
       "    <tr style=\"text-align: right;\">\n",
       "      <th></th>\n",
       "      <th>Values</th>\n",
       "    </tr>\n",
       "  </thead>\n",
       "  <tbody>\n",
       "    <tr>\n",
       "      <th>count</th>\n",
       "      <td>15.000000</td>\n",
       "    </tr>\n",
       "    <tr>\n",
       "      <th>mean</th>\n",
       "      <td>6.600000</td>\n",
       "    </tr>\n",
       "    <tr>\n",
       "      <th>std</th>\n",
       "      <td>5.889458</td>\n",
       "    </tr>\n",
       "    <tr>\n",
       "      <th>min</th>\n",
       "      <td>1.000000</td>\n",
       "    </tr>\n",
       "    <tr>\n",
       "      <th>25%</th>\n",
       "      <td>2.500000</td>\n",
       "    </tr>\n",
       "    <tr>\n",
       "      <th>50%</th>\n",
       "      <td>6.000000</td>\n",
       "    </tr>\n",
       "    <tr>\n",
       "      <th>75%</th>\n",
       "      <td>8.000000</td>\n",
       "    </tr>\n",
       "    <tr>\n",
       "      <th>max</th>\n",
       "      <td>25.000000</td>\n",
       "    </tr>\n",
       "  </tbody>\n",
       "</table>\n",
       "</div>"
      ],
      "text/plain": [
       "          Values\n",
       "count  15.000000\n",
       "mean    6.600000\n",
       "std     5.889458\n",
       "min     1.000000\n",
       "25%     2.500000\n",
       "50%     6.000000\n",
       "75%     8.000000\n",
       "max    25.000000"
      ]
     },
     "execution_count": 15,
     "metadata": {},
     "output_type": "execute_result"
    }
   ],
   "source": [
    "df9 = pd.DataFrame({\"Values\":[1,2,8,6,5,2,8,9,3,1,5,6,8,10,25]})\n",
    "df9.describe() # using describe "
   ]
  },
  {
   "cell_type": "code",
   "execution_count": 17,
   "id": "7607ba99-3a86-4005-b3b0-4928294a1990",
   "metadata": {},
   "outputs": [
    {
     "data": {
      "text/plain": [
       "(6.6, 6.0, 5.889457894043754)"
      ]
     },
     "execution_count": 17,
     "metadata": {},
     "output_type": "execute_result"
    }
   ],
   "source": [
    "# using mean(),median(),stdev()\n",
    "def Calulation_Of_Values(df):\n",
    "    values = df['Values']\n",
    "    mean = values.mean()\n",
    "    median = values.median()\n",
    "    std = values.std()\n",
    "    return mean, median, std\n",
    "Calulation_Of_Values(df9)"
   ]
  },
  {
   "cell_type": "markdown",
   "id": "d32eee7b-4f26-49fe-aa76-227fb8780fd6",
   "metadata": {},
   "source": []
  },
  {
   "cell_type": "markdown",
   "id": "feb8d1eb-be20-4b02-8d8e-38707372e017",
   "metadata": {},
   "source": [
    "## Q10. Given a Pandas DataFrame df with a column 'Sales' and a column 'Date', write a Python function to create a new column 'MovingAverage' that contains the moving average of the sales for the past 7 days for each row in the DataFrame. The moving average should be calculated using a window of size 7 and should include the current day.\n",
    "### Ans:\n"
   ]
  },
  {
   "cell_type": "code",
   "execution_count": 15,
   "id": "7fb6bc08-68ce-43e0-a841-37077f30b74c",
   "metadata": {},
   "outputs": [
    {
     "name": "stdout",
     "output_type": "stream",
     "text": [
      "0     NaN\n",
      "1     NaN\n",
      "2     NaN\n",
      "3     NaN\n",
      "4     NaN\n",
      "5     NaN\n",
      "6    40.0\n",
      "7    50.0\n",
      "8    60.0\n",
      "9    70.0\n",
      "Name: Values, dtype: float64\n"
     ]
    }
   ],
   "source": [
    "# create example DataFrame\n",
    "df10 = pd.DataFrame({'Values': [10, 20, 30, 40, 50, 60, 70, 80, 90, 100]})\n",
    "\n",
    "# calculate rolling average with window size of 7\n",
    "moving_avg = df10['Values'].rolling(window=7).mean()\n",
    "\n",
    "# print the DataFrame with the moving average values\n",
    "print(moving_avg)\n"
   ]
  },
  {
   "cell_type": "code",
   "execution_count": null,
   "id": "5d927d2d-573b-4b93-98ad-222f0016a746",
   "metadata": {},
   "outputs": [],
   "source": []
  },
  {
   "cell_type": "markdown",
   "id": "44d966c0-6b7b-4b57-a154-2908c5279313",
   "metadata": {},
   "source": [
    "## Q11. You have a Pandas DataFrame df with a column 'Date'. Write a Python function that creates a new column 'Weekday' in the DataFrame. The 'Weekday' column should contain the weekday name (e.g.Monday, Tuesday) corresponding to each date in the 'Date' column.For example, if df contains the following values:\n",
    "  Date\n",
    "0 2023-01-01\n",
    "1 2023-01-02\n",
    "2 2023-01-03\n",
    "3 2023-01-04\n",
    "4 2023-01-05\n",
    "Your function should create the following DataFrame:\n",
    "\n",
    "  Date Weekday\n",
    "0 2023-01-01 Sunday\n",
    "1 2023-01-02 Monday\n",
    "2 2023-01-03 Tuesday\n",
    "3 2023-01-04 Wednesday\n",
    "4 2023-01-05 Thursday\n",
    "The function should return the modified DataFrame."
   ]
  },
  {
   "cell_type": "code",
   "execution_count": 2,
   "id": "8300d056-75ac-4749-b823-5b234eccdeec",
   "metadata": {},
   "outputs": [],
   "source": [
    "def add_weekday_column(df):\n",
    "    df['Weekday'] = df['Date'].dt.day_name()\n",
    "    return df\n"
   ]
  },
  {
   "cell_type": "code",
   "execution_count": 4,
   "id": "116e8120-3ce1-4044-ab44-f419ea692a86",
   "metadata": {},
   "outputs": [
    {
     "name": "stdout",
     "output_type": "stream",
     "text": [
      "        Date    Weekday\n",
      "0 2023-01-01     Sunday\n",
      "1 2023-01-02     Monday\n",
      "2 2023-01-03    Tuesday\n",
      "3 2023-01-04  Wednesday\n",
      "4 2023-01-05   Thursday\n"
     ]
    }
   ],
   "source": [
    "df11 = pd.DataFrame({'Date': ['2023-01-01', '2023-01-02', '2023-01-03', '2023-01-04', '2023-01-05']})\n",
    "df11['Date'] = pd.to_datetime(df11['Date'])\n",
    "df11 = add_weekday_column(df11)\n",
    "print(df11)"
   ]
  },
  {
   "cell_type": "markdown",
   "id": "faed7a02-75d1-4e6c-9eda-a8efdd563c26",
   "metadata": {},
   "source": [
    "## Q12. Given a Pandas DataFrame df with a column 'Date' that contains timestamps, write a Python function to select all rows where the date is between '2023-01-01' and '2023-01-31'.\n",
    "### Ans:\n"
   ]
  },
  {
   "cell_type": "code",
   "execution_count": 5,
   "id": "74616e25-159a-46cb-ba97-0b74f9fbb04e",
   "metadata": {},
   "outputs": [
    {
     "name": "stdout",
     "output_type": "stream",
     "text": [
      "        Date\n",
      "0 2023-01-01\n",
      "1 2023-01-02\n",
      "2 2023-01-03\n",
      "3 2023-01-04\n"
     ]
    }
   ],
   "source": [
    "def select_january_rows(df):\n",
    "    start_date = '2023-01-01'\n",
    "    end_date = '2023-01-31'\n",
    "    mask = (df['Date'] >= start_date) & (df['Date'] <= end_date)\n",
    "    selected_rows = df.loc[mask]\n",
    "    return selected_rows\n",
    "\n",
    "df = pd.DataFrame({'Date': ['2023-01-01', '2023-01-02', '2023-01-03', '2023-01-04', '2023-02-01']})\n",
    "df['Date'] = pd.to_datetime(df['Date'])\n",
    "selected_rows = select_january_rows(df)\n",
    "print(selected_rows)\n"
   ]
  },
  {
   "cell_type": "markdown",
   "id": "cec09924-f413-447c-b42e-044c1b702bb8",
   "metadata": {},
   "source": [
    "## Q13. To use the basic functions of pandas, what is the first and foremost necessary library that needs to be imported?\n",
    "### Ans: The first and foremost necessary library that needs to be imported to use the basic functions of pandas is pandas itself.\n",
    "* import pandas as pd"
   ]
  },
  {
   "cell_type": "code",
   "execution_count": null,
   "id": "b2e49e5b-d290-4367-b22b-96d96c2377f0",
   "metadata": {},
   "outputs": [],
   "source": []
  }
 ],
 "metadata": {
  "kernelspec": {
   "display_name": "Python 3 (ipykernel)",
   "language": "python",
   "name": "python3"
  },
  "language_info": {
   "codemirror_mode": {
    "name": "ipython",
    "version": 3
   },
   "file_extension": ".py",
   "mimetype": "text/x-python",
   "name": "python",
   "nbconvert_exporter": "python",
   "pygments_lexer": "ipython3",
   "version": "3.10.8"
  }
 },
 "nbformat": 4,
 "nbformat_minor": 5
}
