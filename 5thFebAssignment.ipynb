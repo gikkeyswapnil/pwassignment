{
 "cells": [
  {
   "cell_type": "markdown",
   "id": "9ba7a5a7-b8d6-4de4-98c7-35b68a764f51",
   "metadata": {},
   "source": [
    "### Q1. Explain Class and Object with respect to Object-Oriented Programming. Give a suitable example.\n",
    "#### Ans :\n",
    "* Class :\n",
    "        A class is a user-defined blueprint or prototype from which objects are created. Classes provide a means of bundling data and functionality together. Creating a new class creates a new type of object, allowing new instances of that type to be made. Each class instance can have attributes attached to it for maintaining its state. Class instances can also have methods (defined by their class) for modifying their state.\n",
    "        We use the class keyword to create a class in Python. \n",
    "        Defining a class \n",
    "Python3 program to\n",
    "demonstrate defining a class\n",
    "\n",
    "\n",
    "class Dog:\n",
    "    pass\n",
    "\n",
    "* Object :\n",
    "An Object is an instance of a Class. A class is like a blueprint while an instance is a copy of the class with actual values. It’s not an idea anymore, it’s an actual dog, like a dog of breed pug who’s seven years old. You can have many dogs to create many different instances, but without the class as a guide, you would be lost, not knowing what information is required.\n",
    "An object consists of : \n",
    "\n",
    "        State: It is represented by the attributes of an object. It also reflects the properties of an object.\n",
    "\n",
    "        Behaviour: It is represented by the methods of an object. It also reflects the response of an object to other objects.\n",
    "\n",
    "        Identity: It gives a unique name to an object and enables one object to interact with other objects."
   ]
  },
  {
   "cell_type": "code",
   "execution_count": 1,
   "id": "8d137f41-311b-4826-95bf-0611fa6db394",
   "metadata": {},
   "outputs": [
    {
     "name": "stdout",
     "output_type": "stream",
     "text": [
      "Tesla\n",
      "Silver\n"
     ]
    }
   ],
   "source": [
    "#creating a class\n",
    "class Automobiles:\n",
    "    def __init__(self,brand_name,color_name):\n",
    "        self.brand_name = brand_name\n",
    "        self.color_name = color_name\n",
    "\n",
    "#creatin object of Automobile class \n",
    "car = Automobiles(\"Tesla\",\"Silver\")\n",
    "print(car.brand_name)\n",
    "print(car.color_name)\n",
    "        "
   ]
  },
  {
   "cell_type": "code",
   "execution_count": 2,
   "id": "d01bd67e-f42d-4e60-8bd0-cbc9cab9a72a",
   "metadata": {},
   "outputs": [
    {
     "name": "stdout",
     "output_type": "stream",
     "text": [
      "2\n",
      "4\n",
      "6\n",
      "8\n",
      "10\n"
     ]
    }
   ],
   "source": [
    "x=[1,2,3,4,5,6,7,8,9,10]\n",
    "for i in x:\n",
    "    if i%2==0:\n",
    "        print(i)\n",
    "    else:\n",
    "        continue\n",
    "        \n"
   ]
  },
  {
   "cell_type": "markdown",
   "id": "3e983313-1c16-4f5c-97e5-dd9643b094a9",
   "metadata": {},
   "source": [
    "### Q2. Name the four pillars of OOPs.\n",
    "##### Ans:\n",
    "* Inheritence : It is a mechanism that allows you to create a hierarchy of classes that share a set of properties and methods by deriving a class from another class. Inheritance is the capability of one class to derive or inherit the properties from another class. \n",
    "* Encapsulation:  It describes the idea of wrapping data and the methods that work on data within one unit. This puts restrictions on accessing variables and methods directly and can prevent the accidental modification of data. To prevent accidental change, an object’s variable can only be changed by an object’s method.\n",
    "* Abstraction : Abstraction in python is defined as a process of handling complexity by hiding unnecessary information from the user. This is one of the core concepts of object-oriented programming (OOP) languages\n",
    "* Polymorphism : The word polymorphism means having many forms. In programming, polymorphism means the same function name (but different signatures) being used for different types. The key difference is the data types and number of arguments used in function"
   ]
  },
  {
   "cell_type": "markdown",
   "id": "9b3f0a85-18a8-46fe-bacb-822af0a2116d",
   "metadata": {},
   "source": [
    "\n",
    "### Q3. Explain why the __init__() function is used. Give a suitable example.\n",
    "#### Ans : \n",
    "*      The __init__ function is called every time an object is created from a class. The __init__ method lets the class initialize the object's attributes and serves no other purpose. It is only used within classes.\n",
    "      "
   ]
  },
  {
   "cell_type": "code",
   "execution_count": 3,
   "id": "77a81f05-d920-4163-bd72-7596888185f3",
   "metadata": {},
   "outputs": [
    {
     "name": "stdout",
     "output_type": "stream",
     "text": [
      "Tiger\n",
      "carnivores\n"
     ]
    }
   ],
   "source": [
    "class Animals:\n",
    "    def __init__(self,name,typee):  #constructor of Animal class\n",
    "        self.name = name\n",
    "        self.typee = typee\n",
    "\n",
    "animal_object = Animals(\"Tiger\",\"carnivores\")\n",
    "print(animal_object.name)\n",
    "print(animal_object.typee)\n"
   ]
  },
  {
   "cell_type": "markdown",
   "id": "9ddce09f-1bf2-4721-ba70-5a93598f03bb",
   "metadata": {},
   "source": [
    "### Q4. Why self is used in OOPs?\n",
    "#### Ans :\n",
    "*   self represents the instance of the class. By using the “self”  we can access the attributes and methods of the class in python. It binds the attributes with the given arguments.The reason you need to use self. is because Python does not use the @ syntax to refer to instance attributes. Python decided to do methods in a way that makes the instance to which the method belongs be passed automatically, but not received automatically: the first parameter of methods is the instance the method is called on."
   ]
  },
  {
   "cell_type": "markdown",
   "id": "cc7a924f-866e-490f-a342-be00214e5903",
   "metadata": {},
   "source": [
    "### Q5. What is inheritance? Give an example for each type of inheritance.\n",
    "#### Ans:\n",
    "* Inheritance is an important aspect of the object-oriented paradigm. Inheritance provides code reusability to the program because we can use an existing class to create a new class instead of creating it from scratch.\n",
    "\n",
    "* In inheritance, the child class acquires the properties and can access all the data members and functions defined in the parent class. A child class can also provide its specific implementation to the functions of the parent class. In this section of the tutorial, we will discuss inheritance in detail.\n",
    "\n",
    "* In python, a derived class can inherit base class by just mentioning the base in the bracket after the derived class name. Consider the following syntax to inherit a base class into the derived class.Inheritance is an important aspect of the object-oriented paradigm. Inheritance provides code reusability to the program because we can use an existing class to create a new class instead of creating it from scratch.\n",
    "\n",
    "* In inheritance, the child class acquires the properties and can access all the data members and functions defined in the parent class. A child class can also provide its specific implementation to the functions of the parent class. In this section of the tutorial, we will discuss inheritance in detail.\n",
    "\n",
    "* In python, a derived class can inherit base class by just mentioning the base in the bracket after the derived class name. Consider the following syntax to inherit a base class into the derived class.\n",
    "\n",
    "#### Types Of Inheritance :\n",
    " * Single Inheritance: \n",
    "Single inheritance enables a derived class to inherit properties from a single parent class, thus enabling code reusability and the addition of new features to existing code.\n",
    " \n",
    " * Multiple Inheritance: \n",
    "When a class can be derived from more than one base class this type of inheritance is called multiple inheritances. In multiple inheritances, all the features of the base classes are inherited into the derived class. \n",
    "\n",
    "* Multilevel Inheritance :\n",
    "In multilevel inheritance, features of the base class and the derived class are further inherited into the new derived class. This is similar to a relationship representing a child and a grandfather. \n",
    "\n",
    "* Hierarchical Inheritance: \n",
    "When more than one derived class are created from a single base this type of inheritance is called hierarchical inheritance. In this program, we have a parent (base) class and two child (derived) classes.\n",
    "\n",
    "* Hybrid Inheritance: \n",
    "Inheritance consisting of multiple types of inheritance is called hybrid inheritance."
   ]
  },
  {
   "cell_type": "code",
   "execution_count": 4,
   "id": "d05074ce-12f4-40ed-8cf5-db69b189a2f6",
   "metadata": {},
   "outputs": [
    {
     "name": "stdout",
     "output_type": "stream",
     "text": [
      "This is child function of the parent class\n",
      "This is parent function of the parent class\n"
     ]
    }
   ],
   "source": [
    "# Single Inheritance: \n",
    "class Parent:\n",
    "    def Parent_Fun(self):\n",
    "        return print(\"This is parent function of the parent class\")\n",
    "\n",
    "class Child(Parent):     #Inherit all properties of Parent Class \n",
    "    def Child_Fun(self):\n",
    "        return print(\"This is child function of the parent class\")\n",
    "\n",
    "Class_Obj = Child()      # creating instance of Child class object\n",
    "Class_Obj.Child_Fun()    \n",
    "Class_Obj.Parent_Fun()   # Calling Parent calss's function using object of child class \n",
    "\n",
    "\n"
   ]
  },
  {
   "cell_type": "code",
   "execution_count": 5,
   "id": "e1088f1c-99af-43e9-86c0-c24fbc09f2da",
   "metadata": {},
   "outputs": [
    {
     "name": "stdout",
     "output_type": "stream",
     "text": [
      "Avenger name is : Captain America\n",
      "Real name is : Chris Evans\n",
      "Captain America Chris Evans\n"
     ]
    }
   ],
   "source": [
    "#  Multiple Inheritance: \n",
    "class Charecter_Name:\n",
    "    def Get_Avenger_Name(self,a_name):\n",
    "        return print(f\"Avenger name is : {a_name}\")\n",
    "    \n",
    "\n",
    "class Real_Name:\n",
    "    def Get_Real_Name(self,r_name):\n",
    "        return print(f\"Real name is : {r_name}\")\n",
    "\n",
    "\n",
    "class Avenger_Cast(Charecter_Name,Real_Name):  # proerties of both classes are now accessible for Avenger_cast class\n",
    "      def Get_Cast_Name(self,a_name,r_name):\n",
    "            return print(a_name , r_name)\n",
    "            \n",
    "            \n",
    "marvel = Avenger_Cast()\n",
    "marvel.Get_Avenger_Name(\"Captain America\")\n",
    "marvel.Get_Real_Name(\"Chris Evans\")\n",
    "\n",
    "marvel.Get_Cast_Name(\"Captain America\",\"Chris Evans\")\n"
   ]
  },
  {
   "cell_type": "code",
   "execution_count": 6,
   "id": "11a3d1f2-a693-44f7-8bb1-fbae23e8daa7",
   "metadata": {},
   "outputs": [
    {
     "name": "stdout",
     "output_type": "stream",
     "text": [
      "Name:  Aniruddha Kokate\n",
      "Address:  Mahrashtra,India\n",
      "Number:  9876543210\n"
     ]
    }
   ],
   "source": [
    "# Multilevel Inheritance :\n",
    "class My_Name:\n",
    "    def Name_Fun(self,my_name):\n",
    "        return print(\"Name: \",my_name)\n",
    "\n",
    "class Address(My_Name):               # all properties of My_Name class is accessible for Adress class\n",
    "    def Address_Fun(self,address):\n",
    "        # Name_Fun()\n",
    "        return print(\"Address: \",address)\n",
    "\n",
    "class Mobile_No(Address):                # all properties of My_Name and Address class are accessible for Mobile_No class\n",
    "    def mobile_No_Fun(self,m_number):\n",
    "        # Address_Fun()\n",
    "        return print(\"Number: \",m_number)\n",
    "\n",
    "info = Mobile_No()                       # instance of Derrived class i.e. Mobile_No \n",
    "info.Name_Fun(\"Aniruddha Kokate\")\n",
    "info.Address_Fun(\"Mahrashtra,India\")\n",
    "info.mobile_No_Fun(\"9876543210\")\n"
   ]
  },
  {
   "cell_type": "code",
   "execution_count": 9,
   "id": "273f974c-182f-4e72-bfe5-35681433c10b",
   "metadata": {},
   "outputs": [
    {
     "name": "stdout",
     "output_type": "stream",
     "text": [
      "This function is defined inside the parent class.\n",
      "This function is defined inside the child 1.\n",
      "This function is defined inside the parent class.\n",
      "This function is defined inside the child 2.\n"
     ]
    }
   ],
   "source": [
    "#Hierarchical Inheritance:\n",
    "class Parent1:  \n",
    "    def func_1(self):  \n",
    "        print (\"This function is defined inside the parent class.\")  \n",
    "        \n",
    "class Child_1(Parent1):  \n",
    "    def func_2(self):  \n",
    "        print (\"This function is defined inside the child 1.\")  \n",
    "\n",
    "class Child_2(Parent1):  \n",
    "    def func_3(self):  \n",
    "        print (\"This function is defined inside the child 2.\")  \n",
    "\n",
    "object1 = Child_1()  \n",
    "object2 = Child_2()  \n",
    "object1.func_1()  \n",
    "object1.func_2()  \n",
    "object2.func_1()  \n",
    "object2.func_3()   \n"
   ]
  },
  {
   "cell_type": "code",
   "execution_count": 11,
   "id": "3ece851d-7eaf-4ea1-82ba-ec0aab60aaa2",
   "metadata": {},
   "outputs": [
    {
     "name": "stdout",
     "output_type": "stream",
     "text": [
      "This function is in school.\n",
      "This function is in student 1. \n"
     ]
    }
   ],
   "source": [
    "# Hybrid Inheritance:\n",
    "class School:\n",
    "    def func1(self):\n",
    "        print(\"This function is in school.\")\n",
    "\n",
    "\n",
    "class Student1(School):\n",
    "    def func2(self):\n",
    "        print(\"This function is in student 1. \")\n",
    "\n",
    "\n",
    "class Student2(School):\n",
    "    def func3(self):\n",
    "        print(\"This function is in student 2.\")\n",
    "\n",
    "\n",
    "class Student3(Student1, School):\n",
    "    def func4(self):\n",
    "        print(\"This function is in student 3.\")\n",
    "\n",
    "object = Student3()\n",
    "object.func1()\n",
    "object.func2()\n"
   ]
  }
 ],
 "metadata": {
  "kernelspec": {
   "display_name": "Python 3 (ipykernel)",
   "language": "python",
   "name": "python3"
  },
  "language_info": {
   "codemirror_mode": {
    "name": "ipython",
    "version": 3
   },
   "file_extension": ".py",
   "mimetype": "text/x-python",
   "name": "python",
   "nbconvert_exporter": "python",
   "pygments_lexer": "ipython3",
   "version": "3.10.8"
  }
 },
 "nbformat": 4,
 "nbformat_minor": 5
}
