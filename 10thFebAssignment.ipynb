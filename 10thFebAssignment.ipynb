{
 "cells": [
  {
   "cell_type": "markdown",
   "id": "6632302d-93c1-4d75-80d2-22b861a110c1",
   "metadata": {},
   "source": [
    "### Q1. Which function is used to open a file? What are the different modes of opening a file? Explain each mode of file opening.\n",
    "#### Ans :\n",
    "* In Python, the built-in open() function is used to open a file. The open() function takes two arguments:\n",
    "\n",
    "The name of the file you want to open\n",
    "The mode in which you want to open the file\n",
    "* There are several modes in which you can open a file in Python:\n",
    "\n",
    "1. 1. 'r' (read-only mode): This mode is used when you just want to read the contents of a file. The file pointer is placed at the beginning of the file. If the file does not exist, an error is raised.\n",
    "\n",
    "1. 1. 'w' (write mode): This mode is used when you want to write to a file. If the file already exists, its contents will be truncated, and if it does not exist, a new file with that name will be created.\n",
    "\n",
    "1. 'a' (append mode): This mode is used when you want to append data to the end of an existing file. If the file does not exist, a new file with that name will be created.\n",
    "\n",
    "1. 'x' (exclusive creation mode): This mode is used to create a new file, but only if the file does not already exist. If the file already exists, an error is raised.\n",
    "\n",
    "1. 'b' (binary mode): This mode is used when you want to work with binary data, such as images or executable files. The 'b' mode can be combined with any of the other modes. For example, 'wb' means write mode in binary.\n",
    "\n",
    "1. 't' (text mode): This mode is used when you want to work with text data. The 't' mode is the default mode when you don't specify any mode. The 't' mode can be combined with any of the other modes. For example, 'rt' means read-only mode in text"
   ]
  },
  {
   "cell_type": "code",
   "execution_count": null,
   "id": "55b11849-6c8c-4282-aba3-6a5815485678",
   "metadata": {},
   "outputs": [],
   "source": [
    "#example of file opening options\n",
    "# Open a file in read-only mode\n",
    "f = open(\"test.txt\", \"r\")\n",
    "\n",
    "# Open a file in write mode\n",
    "f = open(\"test.txt\", \"w\")\n",
    "\n",
    "# Open a file in append mode\n",
    "f = open(\"test.txt\", \"a\")\n",
    "\n",
    "# Open a file in binary mode\n",
    "f = open(\"test.bin\", \"wb\")\n"
   ]
  },
  {
   "cell_type": "code",
   "execution_count": null,
   "id": "5fb5c7f4-a353-42a5-8ed8-42711c8f56db",
   "metadata": {},
   "outputs": [],
   "source": []
  },
  {
   "cell_type": "markdown",
   "id": "d3546f66-e50c-4846-905d-5d9e0e2a32c0",
   "metadata": {},
   "source": []
  },
  {
   "cell_type": "markdown",
   "id": "11898144-e162-470b-9f6b-cc52d2f6d86f",
   "metadata": {},
   "source": [
    "### Q2. Why close() function is used? Why is it important to close a file?\n",
    "#### Anss:\n",
    "The close() function is used to close a file in Python. It's important to close a file after you're done with it because when a file is open, it takes up system resources, such as memory and file descriptors. If you don't close the file, these resources will remain occupied even after your program has finished using the file.\n",
    "\n",
    "Additionally, if you're working with the file in write mode, any changes you make to the file won't be saved until you close the file. This can lead to data loss if your program crashes or is interrupted before the file is closed.\n",
    "\n",
    "Closing a file also helps ensure that the file is properly flushed to disk and any buffered data is written to the file.\n",
    "\n",
    "It's a good practice to use the with statement when working with files. The with statement automatically closes the file for you when you're done with it, so you don't have to worry about forgetting to close the file manually."
   ]
  },
  {
   "cell_type": "markdown",
   "id": "393c2407-1949-4641-b19c-e972bb41859f",
   "metadata": {},
   "source": []
  },
  {
   "cell_type": "code",
   "execution_count": null,
   "id": "b9d18e92-37dd-4f03-b7c4-3dbffce147b8",
   "metadata": {},
   "outputs": [],
   "source": [
    "### Q3. Write a python program to create a text file. Write ‘I want to become a Data Scientist’ in that file. Then close the file. Open this file and read the content of the file.\n",
    "#### Ans :\n",
    "* Here is a python program that creates a text file, writes a sentence in the file, closes the file, and then reopens the file to read its contents:\n",
    "*"
   ]
  },
  {
   "cell_type": "code",
   "execution_count": 2,
   "id": "87575730-91b3-4e91-8c25-d9bdbd752c0c",
   "metadata": {},
   "outputs": [
    {
     "name": "stdout",
     "output_type": "stream",
     "text": [
      "I want to become a Data Scientist\n"
     ]
    }
   ],
   "source": [
    "# Create a text file\n",
    "with open(\"text.txt\", \"w\") as f:\n",
    "    f.write(\"I want to become a Data Scientist\")\n",
    "\n",
    "# Open the file to read its contents\n",
    "with open(\"text.txt\", \"r\") as f:\n",
    "    content = f.read()\n",
    "    print(content)\n",
    "\n",
    "# close the text file\n",
    "f.close()"
   ]
  },
  {
   "cell_type": "markdown",
   "id": "4da9c392-8e2a-4ba2-92c6-163134f1d6b2",
   "metadata": {},
   "source": []
  },
  {
   "cell_type": "markdown",
   "id": "89b303c6-a113-4faa-96d6-e67108fe07e4",
   "metadata": {},
   "source": [
    "### Q4. Explain the following with python code: read(), readline() and readlines().\n",
    "### Ans:\n",
    "1. read(): The read() method is used to read the entire contents of a file as a string. If you pass an argument to the read() method, it will read the specified number of characters from the file. If the argument is not specified, it will read the entire contents of the file.\n",
    "2. readline(): The readline() method is used to read a single line of text from a file. Each time you call readline(), it will read the next line in the file.\n",
    "3. readlines(): The readlines() method is used to read all the lines of a file and return them as a list of strings."
   ]
  },
  {
   "cell_type": "code",
   "execution_count": 4,
   "id": "39f01a81-3f0c-49a4-8c7e-d43eb9610657",
   "metadata": {},
   "outputs": [],
   "source": [
    "#code for read()\n",
    "with open(\"test1.txt\", \"r\") as f:\n",
    "    lines = f.readlines()\n",
    "    for line in lines:\n",
    "        print(line)\n",
    "\n",
    "# code for readline()\n",
    "with open(\"test1.txt\", \"r\") as f:\n",
    "    line = f.readline()\n",
    "    while line:\n",
    "        print(line)\n",
    "        line = f.readline()\n",
    "\n",
    "# code for readlines()\n",
    "with open(\"test1.txt\", \"r\") as f:\n",
    "    lines = f.readlines()\n",
    "    for line in lines:\n",
    "        print(line)"
   ]
  },
  {
   "cell_type": "markdown",
   "id": "9b2391ad-d881-4aa9-ae3d-f702720f5dce",
   "metadata": {},
   "source": []
  },
  {
   "cell_type": "markdown",
   "id": "5d93852d-3f7b-4ddc-aa54-dddaf2c56f24",
   "metadata": {},
   "source": [
    "### Q5. Explain why with statement is used with open(). What is the advantage of using with statement and open() together?\n",
    "#### Ans :\n",
    "The with statement is used in combination with the open() function to provide a convenient and safe way to manage file I/O in Python.\n",
    "When you use the with statement, Python will automatically handle the file I/O for you, even if an exception is raised within the block. This is because the with statement sets up a context in which the file is automatically closed when the block of code is exited, regardless of whether an exception was raised or not. This helps to prevent resource leaks, where the file is left open and its contents cannot be written to or read from because the file handle is already in use."
   ]
  },
  {
   "cell_type": "code",
   "execution_count": 6,
   "id": "d992cefe-3a45-4e5e-aab9-2d12bb064f69",
   "metadata": {},
   "outputs": [
    {
     "name": "stdout",
     "output_type": "stream",
     "text": [
      "I want to become a Data Scientist\n"
     ]
    }
   ],
   "source": [
    "# example of with staement with open()\n",
    "with open(\"text.txt\", \"r\") as f:\n",
    "    content = f.read()\n",
    "    print(content)\n"
   ]
  },
  {
   "cell_type": "markdown",
   "id": "60b68e07-15d8-46fc-af18-b1cd89e8124a",
   "metadata": {},
   "source": []
  },
  {
   "cell_type": "markdown",
   "id": "6d2b1834-a3db-4b48-a8ab-2efc0c6dda4c",
   "metadata": {},
   "source": [
    "### Q6. Explain the write() and writelines() functions. Give a suitable example.\n",
    "#### Ans :\n",
    "1. write(): The write() function is used to write a string to a file. The string is written to the file at the current position of the file pointer. If the file does not exist, it will be created. If the file already exists, its contents will be overwritten.\n",
    "\n",
    "2. writelines(): The writelines() function is used to write a list of strings to a file. Each string in the list is written to the file as a separate line."
   ]
  },
  {
   "cell_type": "code",
   "execution_count": 8,
   "id": "28d00ac6-2e13-4a53-b5f9-f3886a40a911",
   "metadata": {},
   "outputs": [],
   "source": [
    "# example of write()\n",
    "with open(\"text2.txt\", \"w\") as f:\n",
    "    f.write(\"hi my name is aniruddha\")\n",
    "\n",
    "# example of writelines()\n",
    "lines = [\"hi, my name is aniruddha and \",\"I want to become a Data Scientist.\", \"Data Science is my passion.\"]\n",
    "with open(\"test3.txt\", \"w\") as f:\n",
    "    f.writelines(lines)\n"
   ]
  }
 ],
 "metadata": {
  "kernelspec": {
   "display_name": "Python 3 (ipykernel)",
   "language": "python",
   "name": "python3"
  },
  "language_info": {
   "codemirror_mode": {
    "name": "ipython",
    "version": 3
   },
   "file_extension": ".py",
   "mimetype": "text/x-python",
   "name": "python",
   "nbconvert_exporter": "python",
   "pygments_lexer": "ipython3",
   "version": "3.10.8"
  }
 },
 "nbformat": 4,
 "nbformat_minor": 5
}
