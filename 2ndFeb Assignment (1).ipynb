{
 "cells": [
  {
   "cell_type": "markdown",
   "id": "07893632-b19e-4c37-9b39-ef7b47b37657",
   "metadata": {},
   "source": [
    "### Q1. Explain with an example each when to use a for loop and a while loop.\n",
    "* FOR LOOP :\n",
    "\n",
    "For loops are used when you have a block of code which you want to repeat a fixed number of times.\n",
    "The for-loop is always used in combination with an iterable object, like a list or a range. \n",
    "The Python for statement iterates over the members of a sequence in order, executing the block each time.\n",
    "For example, if we want to check the grade of every student in the class, we loop from 1 to that number.\n",
    "When the number of times is not known before hand, we use a \"While\" loop.\n",
    " \n",
    "* While Loop :\n",
    "\n",
    "Python while loop is used to run a block code until a certain condition is met. Here, A while loop evaluates the condition. \n",
    "If the condition evaluates to True , the code inside the while loop is executed.\n",
    "For example, if we want to ask a user for a number between 1 and 10, \n",
    "we don't know how many times the user may enter a larger number, so we keep asking \"while the number is not between 1 and 10\"."
   ]
  },
  {
   "cell_type": "markdown",
   "id": "a2f160dc-2c86-41a8-8bb0-f3750e93e6b2",
   "metadata": {},
   "source": []
  },
  {
   "cell_type": "markdown",
   "id": "fd9d4a6a-4d60-405a-aa3c-4c813277162d",
   "metadata": {},
   "source": [
    "* Q2. Write a python program to print the sum and product of the first 10 natural numbers using for and while loop.\n"
   ]
  },
  {
   "cell_type": "code",
   "execution_count": 9,
   "id": "fd555b33-c7f7-44df-9785-61d0c3fb87dc",
   "metadata": {},
   "outputs": [
    {
     "name": "stdout",
     "output_type": "stream",
     "text": [
      "Sum of first 10 naturals numbers is : 55\n"
     ]
    }
   ],
   "source": [
    "\n",
    "    \n",
    "def Sum_Of_No():\n",
    "    result = 0\n",
    "    for i in range(11):\n",
    "        result += i\n",
    "    return result\n",
    "\n",
    "a = Sum_Of_No()\n",
    "print(f\"Sum of first 10 naturals numbers is : {a}\")"
   ]
  },
  {
   "cell_type": "markdown",
   "id": "1b2a72eb-c465-41d1-b5c4-21130b767cdb",
   "metadata": {},
   "source": [
    "* Q3. Create a python program to compute the electricity bill for a household.\n",
    "The per-unit charges in rupees are as follows: For the first 100 units, the user will be charged Rs. 4.5 per unit, for the next 100 units, the user will be charged Rs. 6 per unit, and for the next 100 units, the user will be charged Rs. 10 per unit, After 300 units and above the user will be charged Rs. 20 per unit. You are required to take the units of electricity consumed in a month from the user as input. Your program must pass this test case: when the unit of electricity consumed by the user in a month is 310, the total electricity bill should be 2250."
   ]
  },
  {
   "cell_type": "code",
   "execution_count": 134,
   "id": "bf06056b-111e-40fe-892f-df6d9daab590",
   "metadata": {},
   "outputs": [
    {
     "name": "stdout",
     "output_type": "stream",
     "text": [
      "Bill Amount 2250.0 rs  \n"
     ]
    }
   ],
   "source": [
    "\n",
    "#Code\n",
    "def Elctricity_Bill (Consumed_Unit):\n",
    "    if Consumed_Unit > 0 and Consumed_Unit <= 100 :  # rate = 4.5 rs\n",
    "        Bill_Amount = Consumed_Unit * 4.5\n",
    "        print(f\"Bill Amount {Bill_Amount} rs \")\n",
    "        \n",
    "    elif Consumed_Unit > 100 and Consumed_Unit <= 200 :   # rate = 6 rs\n",
    "        Bill_Amount = ((100*4.5) + ((Consumed_Unit-100) * 6))\n",
    "        print(f\"Bill Amount {Bill_Amount} rs \")\n",
    "        \n",
    "    elif Consumed_Unit > 200 and Consumed_Unit <=300 :    # rate = 6.67 rs\n",
    "        Bill_Amount = (100 * 4.5 ) + ((200-100) * 6) + ((Consumed_Unit-200) * 10)\n",
    "        print(f\"Bill Amount {Bill_Amount} rs  \")\n",
    "        \n",
    "    elif Consumed_Unit > 300  :     # rate = 8.38 rs\n",
    "        Bill_Amount = (100 * 4.5 ) + ((200-100) * 6) + ((300-200) * 10) + ((Consumed_Unit-300) * 20)\n",
    "        print(f\"Bill Amount {Bill_Amount} rs  \")\n",
    "        \n",
    "    # elif Consumed_Unit > 600 :   # fixed amount 5000 rs\n",
    "    #      Bill_Amount = 5000\n",
    "    #      print(f\"Amount {Bill_Amount} rs to be paid of Meter Number {meterno} \")   \n",
    "    else:\n",
    "        print(\"Invalid Entry...\")\n",
    "    \n",
    "\n",
    "Elctricity_Bill(310)\n"
   ]
  },
  {
   "cell_type": "markdown",
   "id": "f6624dba-ff98-405b-b516-d3ba2ce3a3ce",
   "metadata": {},
   "source": []
  },
  {
   "cell_type": "markdown",
   "id": "af2a5a07-dfc9-4ec0-b366-e5d375db42ab",
   "metadata": {},
   "source": [
    "* Q4. Create a list of numbers from 1 to 100. Use for loop and while loop to calculate the cube of each number and if the cube of that number is divisible by 4 or 5 then append that number in a list and print that list. "
   ]
  },
  {
   "cell_type": "code",
   "execution_count": 93,
   "id": "56ffd6b1-346a-46a0-9dcf-eab71a66ebee",
   "metadata": {},
   "outputs": [],
   "source": [
    "Num_List = list(range(1,101))"
   ]
  },
  {
   "cell_type": "code",
   "execution_count": 102,
   "id": "8474df9b-ad9a-47ef-b47b-397e7d25a4cb",
   "metadata": {},
   "outputs": [],
   "source": [
    "def Cube_Of_Numbers (l):\n",
    "    Cube_Num_List = []\n",
    "    for i in l :\n",
    "        if i % 4 == 0 or i % 5 == 0:\n",
    "            Cube_Num_List.append(i**3)\n",
    "    return Cube_Num_List    "
   ]
  },
  {
   "cell_type": "code",
   "execution_count": 104,
   "id": "6bf407f4-6484-41d2-8522-a4d08e8a1311",
   "metadata": {},
   "outputs": [
    {
     "name": "stdout",
     "output_type": "stream",
     "text": [
      "[64, 125, 512, 1000, 1728, 3375, 4096, 8000, 13824, 15625, 21952, 27000, 32768, 42875, 46656, 64000, 85184, 91125, 110592, 125000, 140608, 166375, 175616, 216000, 262144, 274625, 314432, 343000, 373248, 421875, 438976, 512000, 592704, 614125, 681472, 729000, 778688, 857375, 884736, 1000000]\n"
     ]
    }
   ],
   "source": [
    "a = Cube_Of_Numbers(Num_List)\n",
    "print(a)"
   ]
  },
  {
   "cell_type": "markdown",
   "id": "e0e1cf2d-d235-4845-99c8-8f2a321c58a1",
   "metadata": {},
   "source": []
  },
  {
   "cell_type": "markdown",
   "id": "34b3a29a-5f86-4798-baa6-3b12a917c914",
   "metadata": {},
   "source": [
    "* Q5. Write a program to filter count vowels in the below-given string. string = \"I want to become a data scientist\""
   ]
  },
  {
   "cell_type": "code",
   "execution_count": 123,
   "id": "015a2bb4-4ba9-408d-818a-84d0f7632ed2",
   "metadata": {},
   "outputs": [],
   "source": [
    "string = \" I want to become a data scienst \"\n",
    "def Count_Vowels (Any_String):\n",
    "    \n",
    "    count=0\n",
    "    for i in Any_String.lower():\n",
    "        if i in [\"a\",\"e\",\"i\",\"o\",\"u\"]:\n",
    "           count += 1\n",
    "    return print(f\"There are {count} vowels present in the given string\")           "
   ]
  },
  {
   "cell_type": "code",
   "execution_count": 122,
   "id": "665f8ce4-4288-4b36-a4f8-60144770e430",
   "metadata": {},
   "outputs": [
    {
     "name": "stdout",
     "output_type": "stream",
     "text": [
      "There are 11 vowels present in given string\n"
     ]
    }
   ],
   "source": [
    "Count_Vowels(string)"
   ]
  },
  {
   "cell_type": "code",
   "execution_count": null,
   "id": "6ecf799a-ffa4-42e9-8ec0-0e8c3e635df1",
   "metadata": {},
   "outputs": [],
   "source": [
    "\n",
    "\n"
   ]
  }
 ],
 "metadata": {
  "kernelspec": {
   "display_name": "Python 3 (ipykernel)",
   "language": "python",
   "name": "python3"
  },
  "language_info": {
   "codemirror_mode": {
    "name": "ipython",
    "version": 3
   },
   "file_extension": ".py",
   "mimetype": "text/x-python",
   "name": "python",
   "nbconvert_exporter": "python",
   "pygments_lexer": "ipython3",
   "version": "3.10.8"
  }
 },
 "nbformat": 4,
 "nbformat_minor": 5
}
